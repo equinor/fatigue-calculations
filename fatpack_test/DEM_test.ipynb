{
 "cells": [
  {
   "cell_type": "code",
   "execution_count": 1,
   "id": "00f1137b",
   "metadata": {},
   "outputs": [],
   "source": [
    "%load_ext autoreload\n",
    "%autoreload 2"
   ]
  },
  {
   "cell_type": "code",
   "execution_count": 2,
   "id": "a812cce6",
   "metadata": {},
   "outputs": [],
   "source": [
    "from utils.SN_Curve import SN_Curve_fatpack, SN_Curve_qats\n",
    "from utils.extract_and_preprocess_data import extract_and_preprocess_data\n",
    "from utils.setup_custom_logger import setup_custom_logger\n",
    "from utils.read_simulation_file import read_bladed_file\n",
    "from utils.save_damage_table import save_damage_table\n",
    "from utils.create_geo_matrix import create_geo_matrix\n",
    "from utils.get_stress_range_and_count import get_stress_range_and_count_qats_pckg, get_stress_range_and_count_rainflow_pckg\n",
    "import numpy as np\n",
    "import sys\n",
    "import pandas as pd\n",
    "\n",
    "import matplotlib.pyplot as plt\n",
    "plt.rcParams[\"figure.figsize\"] = [30 / 2.54, 20 / 2.54]\n"
   ]
  },
  {
   "cell_type": "code",
   "execution_count": 3,
   "id": "945e7eeb",
   "metadata": {},
   "outputs": [],
   "source": [
    "# Get relevant data_paths for DLC and simulation result files\n",
    "DLC_IDs = ['DLC12'] #, 'DLC64a', 'DLC64b', 'DLC24a', 'DLC31', 'DLC41a', 'DLC41b']\n",
    "data_path              = r'C:\\Appl\\TDI\\getting_started\\fatpack_test\\data'\n",
    "DLC_file               = data_path +  r'\\Doc-0081164-HAL-X-13MW-DGB-A-OWF-Detailed DLC List-Fatigue Support Structure Load Assessment_Rev7.0.xlsx'\n",
    "sim_res_cluster_folder = data_path +  r'\\Doc-0089427-HAL-X-13MW DB-A OWF-ILA3_JLO-model_fatigue_timeseries_all_elevations'\n",
    "geometry_file          = data_path +  r'\\DA_P53_CD.xlsx'\n",
    "\n",
    "geometry      = pd.read_excel(geometry_file).drop([0,2,3,4], axis=0) # TODO drop can be used for testing only a set of geometries\n",
    "n_geometries  = geometry.shape[0]\n",
    "point_angles  = [float(i) for i in range(0,359,15)] \n",
    "# TODO transform between \"global turbine frame\" and the compass frame, as the SCF angles are given in the latter\n",
    "cluster_ID    = 'JLO'\n",
    "out_file_type = 'mat' # or npy \n",
    "logger        = setup_custom_logger('Main') # logger.info('Message') and logger.error('Message')\n"
   ]
  },
  {
   "cell_type": "code",
   "execution_count": 4,
   "id": "11be249a",
   "metadata": {},
   "outputs": [],
   "source": [
    "DLC_ID = DLC_IDs[0]"
   ]
  },
  {
   "cell_type": "code",
   "execution_count": 5,
   "id": "bdd55767",
   "metadata": {},
   "outputs": [],
   "source": [
    "range_finder_func  = get_stress_range_and_count_qats_pckg\n",
    "curve              = SN_Curve_qats('D')\n",
    "geo_matrix         = create_geo_matrix(geometry, point_angles, curve) # better matrix to pass to the main function"
   ]
  },
  {
   "cell_type": "code",
   "execution_count": 6,
   "id": "ef6ba38b",
   "metadata": {},
   "outputs": [],
   "source": [
    "df, probs, n_cases, n_timesteps = extract_and_preprocess_data(DLC_file, DLC_ID, cluster_ID, sim_res_cluster_folder)"
   ]
  },
  {
   "cell_type": "code",
   "execution_count": 7,
   "id": "c7b7b726",
   "metadata": {},
   "outputs": [],
   "source": [
    "arguments = [(df.results_files[i], \n",
    "              df.descr_files[i], \n",
    "              point_angles, \n",
    "              geo_matrix, \n",
    "              curve,\n",
    "              range_finder_func\n",
    "              ) for i in range(n_cases)]"
   ]
  },
  {
   "cell_type": "code",
   "execution_count": 16,
   "id": "a746b9a1",
   "metadata": {},
   "outputs": [],
   "source": [
    "from scipy import stats\n",
    "def calculate_DEM_case_i(binary_file_i, description_file_i, point_angles, geo_matrix, curve, range_finder_func):\n",
    "    '''\n",
    "    Calculates in-place Damage Equivalent (bending) Moment of a time series \n",
    "    - Reads simulation files from vendor and extracts moments, forces time series\n",
    "    - Transforms time series into resultant moment for the relevant sectors we are looking at\n",
    "    - Uses rainflow counting to find the various moment ranges\n",
    "    - Calculates DEM\n",
    "    ''' \n",
    "    content_reshaped = read_bladed_file(binary_file_i, description_file_i) # (n,m) numpy array with n = no. of quantities of data,  m = no. of timesteps for each data quantity \n",
    "    DEM_sum = np.zeros( (len(geo_matrix), len(point_angles)) )\n",
    "    \n",
    "    for geo_idx, geo_dict in geo_matrix.items():\n",
    "        pos = (geo_dict['mx_col'] - 1, geo_dict['my_col'] - 1, geo_dict['fz_col'] - 1) # columns in DLC file to collect moments and forces, using -1 to fit Python indexing\n",
    "        \n",
    "        moments_x_timeseries = content_reshaped[[pos[0]], :] # Moments as (1, timesteps) array - hence the [[],:] type slice\n",
    "        moments_y_timeseries = content_reshaped[[pos[1]], :] # Moments as (1, timesteps) array\n",
    "        forces_z_case_i      = content_reshaped[[pos[2]], :] # Axial F as (1, timesteps) array \n",
    "\n",
    "        # Resultant moment for the current case -> (theta, timestep)-shaped array    \n",
    "        actual_angles_rad = np.deg2rad(geo_dict['actual_angles'])\n",
    "        \n",
    "        res_moments_timeseries_case_i = np.sin([actual_angles_rad]).T.dot(moments_x_timeseries) - np.cos([actual_angles_rad]).T.dot(moments_y_timeseries)\n",
    "        res_force_timeseries_case_i = np.repeat(forces_z_case_i, len(actual_angles_rad), axis = 0)\n",
    "                    \n",
    "        for ang_idx, timeseries_case_i_ang_j in enumerate(res_moments_timeseries_case_i):\n",
    "            \n",
    "            # ranges comes as (n_ranges, 2) sized matrix with col 0 = ranges and col 1 = counts\n",
    "            ranges = range_finder_func(timeseries_case_i_ang_j, k = 128)   \n",
    "            DEM_sum[[geo_idx], [ang_idx]] = ((ranges[:,[0]].T)**5.0).dot(ranges[:,[1]]) * 6.0 # PER HOUR - calculating SUM_i^k (n_i * dM_i^m) by manipulating the range matrix and using dot product for summation \n",
    "            \n",
    "            # # TODO debug\n",
    "            # print(ranges.shape)  \n",
    "            # print(DEM_sum[[geo_idx], [ang_idx]])            \n",
    "            # sys.exit()\n",
    "    \n",
    "    return DEM_sum # (n_geo, n_angles) shaped array"
   ]
  },
  {
   "cell_type": "code",
   "execution_count": 17,
   "id": "94927320",
   "metadata": {},
   "outputs": [],
   "source": [
    "DEM_sum_table = np.zeros((n_cases, n_geometries, len(point_angles))) # pre-allocate output matrix of the current DLC\n",
    "if False:\n",
    "    from multiprocessing import Pool\n",
    "    with Pool() as p: \n",
    "        DEM_sums = p.starmap(calculate_DEM_case_i, arguments) # returns a list of damages of len n_cases \n",
    "      \n",
    "    DEM_sum_table = np.array(DEM_sums)  \n",
    "else:\n",
    "    for case_i in range(n_cases):\n",
    "        DEM_sum_table[[case_i], :, :] = calculate_DEM_case_i(*arguments[case_i])"
   ]
  },
  {
   "cell_type": "code",
   "execution_count": 18,
   "id": "2a7faeab",
   "metadata": {},
   "outputs": [],
   "source": [
    "combined_DEM_DLC_i = np.zeros((n_geometries, len(point_angles)))\n",
    "weights = np.array([probs])\n",
    "for ang_idx in range(len(point_angles)):\n",
    "    combined_DEM_DLC_i[:, [ang_idx]] = np.dot( weights, DEM_sum_table[:,:, ang_idx]).T"
   ]
  },
  {
   "cell_type": "code",
   "execution_count": 30,
   "id": "0ac09fe8",
   "metadata": {},
   "outputs": [
    {
     "data": {
      "text/html": [
       "<div>\n",
       "<style scoped>\n",
       "    .dataframe tbody tr th:only-of-type {\n",
       "        vertical-align: middle;\n",
       "    }\n",
       "\n",
       "    .dataframe tbody tr th {\n",
       "        vertical-align: top;\n",
       "    }\n",
       "\n",
       "    .dataframe thead th {\n",
       "        text-align: right;\n",
       "    }\n",
       "</style>\n",
       "<table border=\"1\" class=\"dataframe\">\n",
       "  <thead>\n",
       "    <tr style=\"text-align: right;\">\n",
       "      <th></th>\n",
       "      <th>DEM 0.0 deg</th>\n",
       "      <th>DEM 15.0 deg</th>\n",
       "      <th>DEM 30.0 deg</th>\n",
       "      <th>DEM 45.0 deg</th>\n",
       "      <th>DEM 60.0 deg</th>\n",
       "      <th>DEM 75.0 deg</th>\n",
       "      <th>DEM 90.0 deg</th>\n",
       "      <th>DEM 105.0 deg</th>\n",
       "      <th>DEM 120.0 deg</th>\n",
       "      <th>DEM 135.0 deg</th>\n",
       "      <th>...</th>\n",
       "      <th>DEM 210.0 deg</th>\n",
       "      <th>DEM 225.0 deg</th>\n",
       "      <th>DEM 240.0 deg</th>\n",
       "      <th>DEM 255.0 deg</th>\n",
       "      <th>DEM 270.0 deg</th>\n",
       "      <th>DEM 285.0 deg</th>\n",
       "      <th>DEM 300.0 deg</th>\n",
       "      <th>DEM 315.0 deg</th>\n",
       "      <th>DEM 330.0 deg</th>\n",
       "      <th>DEM 345.0 deg</th>\n",
       "    </tr>\n",
       "  </thead>\n",
       "  <tbody>\n",
       "    <tr>\n",
       "      <th>0</th>\n",
       "      <td>1.046117e+44</td>\n",
       "      <td>1.056250e+44</td>\n",
       "      <td>9.996766e+43</td>\n",
       "      <td>9.004959e+43</td>\n",
       "      <td>8.009943e+43</td>\n",
       "      <td>7.319754e+43</td>\n",
       "      <td>7.035115e+43</td>\n",
       "      <td>7.129573e+43</td>\n",
       "      <td>7.507004e+43</td>\n",
       "      <td>8.118825e+43</td>\n",
       "      <td>...</td>\n",
       "      <td>9.996766e+43</td>\n",
       "      <td>9.004959e+43</td>\n",
       "      <td>8.009943e+43</td>\n",
       "      <td>7.319754e+43</td>\n",
       "      <td>7.035115e+43</td>\n",
       "      <td>7.129573e+43</td>\n",
       "      <td>7.507004e+43</td>\n",
       "      <td>8.118825e+43</td>\n",
       "      <td>8.944782e+43</td>\n",
       "      <td>9.816648e+43</td>\n",
       "    </tr>\n",
       "  </tbody>\n",
       "</table>\n",
       "<p>1 rows × 24 columns</p>\n",
       "</div>"
      ],
      "text/plain": [
       "    DEM 0.0 deg  DEM 15.0 deg  DEM 30.0 deg  DEM 45.0 deg  DEM 60.0 deg  \\\n",
       "0  1.046117e+44  1.056250e+44  9.996766e+43  9.004959e+43  8.009943e+43   \n",
       "\n",
       "   DEM 75.0 deg  DEM 90.0 deg  DEM 105.0 deg  DEM 120.0 deg  DEM 135.0 deg  \\\n",
       "0  7.319754e+43  7.035115e+43   7.129573e+43   7.507004e+43   8.118825e+43   \n",
       "\n",
       "   ...  DEM 210.0 deg  DEM 225.0 deg  DEM 240.0 deg  DEM 255.0 deg  \\\n",
       "0  ...   9.996766e+43   9.004959e+43   8.009943e+43   7.319754e+43   \n",
       "\n",
       "   DEM 270.0 deg  DEM 285.0 deg  DEM 300.0 deg  DEM 315.0 deg  DEM 330.0 deg  \\\n",
       "0   7.035115e+43   7.129573e+43   7.507004e+43   8.118825e+43   8.944782e+43   \n",
       "\n",
       "   DEM 345.0 deg  \n",
       "0   9.816648e+43  \n",
       "\n",
       "[1 rows x 24 columns]"
      ]
     },
     "execution_count": 30,
     "metadata": {},
     "output_type": "execute_result"
    }
   ],
   "source": [
    "combined_DEM_DLC_i\n",
    "test_df = pd.DataFrame(data = combined_DEM_DLC_i, columns = [f'DEM {i} deg' for i in point_angles])\n",
    "test_df"
   ]
  },
  {
   "cell_type": "code",
   "execution_count": 20,
   "id": "4bc50357",
   "metadata": {},
   "outputs": [],
   "source": [
    "T_lifetime = 25.0\n",
    "N_equivalent = 10.0**7\n",
    "wohler_exp = 5.0"
   ]
  },
  {
   "cell_type": "code",
   "execution_count": 31,
   "id": "113089ab",
   "metadata": {},
   "outputs": [],
   "source": [
    "DEM_tot = (T_lifetime / N_equivalent * combined_DEM_DLC_i.max() )**(1/wohler_exp)"
   ]
  },
  {
   "cell_type": "code",
   "execution_count": 32,
   "id": "fd5da72c",
   "metadata": {},
   "outputs": [
    {
     "name": "stdout",
     "output_type": "stream",
     "text": [
      "48.34385926603874 MNm\n"
     ]
    }
   ],
   "source": [
    "print(f'{DEM_tot / 10**6} MNm')"
   ]
  },
  {
   "cell_type": "code",
   "execution_count": null,
   "id": "99c0cd90",
   "metadata": {},
   "outputs": [],
   "source": [
    "# TODO next steps is to test interpolation"
   ]
  }
 ],
 "metadata": {
  "kernelspec": {
   "display_name": "Python 3.9.13 ('my_env': venv)",
   "language": "python",
   "name": "python3"
  },
  "language_info": {
   "codemirror_mode": {
    "name": "ipython",
    "version": 3
   },
   "file_extension": ".py",
   "mimetype": "text/x-python",
   "name": "python",
   "nbconvert_exporter": "python",
   "pygments_lexer": "ipython3"
  },
  "vscode": {
   "interpreter": {
    "hash": "752710bc2890d9b81e3a18a39c70fddfe8ced9f7036db30d3c218ca493579643"
   }
  }
 },
 "nbformat": 4,
 "nbformat_minor": 5
}
