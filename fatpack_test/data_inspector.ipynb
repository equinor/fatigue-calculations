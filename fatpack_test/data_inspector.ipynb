{
 "cells": [
  {
   "cell_type": "code",
   "execution_count": 2,
   "id": "00f1137b",
   "metadata": {},
   "outputs": [
    {
     "name": "stdout",
     "output_type": "stream",
     "text": [
      "The autoreload extension is already loaded. To reload it, use:\n",
      "  %reload_ext autoreload\n"
     ]
    }
   ],
   "source": [
    "%load_ext autoreload\n",
    "%autoreload 2"
   ]
  },
  {
   "cell_type": "code",
   "execution_count": 110,
   "id": "a812cce6",
   "metadata": {},
   "outputs": [],
   "source": [
    "from utils.DNV_SN_Curve import DNV_SN_Curve\n",
    "from utils.extract_and_preprocess_data import extract_and_preprocess_data\n",
    "from utils.get_forces_and_moments_time_series import get_forces_and_moments_time_series, get_forces_and_moments_time_series_multiprocessed\n",
    "from utils.get_scf_sector_list import get_scf_sector_list\n",
    "from utils.calculate_stress_timeseries import calculate_stress_timeseries\n",
    "from utils.calculate_damage import calculate_damage\n",
    "from utils.save_damage_table import save_damage_table\n",
    "import numpy as np\n",
    "import time\n",
    "import pandas as pd\n",
    "import sys # TODO only used for debugging\n",
    "import matplotlib.pyplot as plt\n",
    "plt.rcParams[\"figure.figsize\"] = [30 / 2.54, 20 / 2.54]\n",
    "\n",
    "\n",
    "MULTIPROCESS_CASES = True"
   ]
  },
  {
   "cell_type": "code",
   "execution_count": 4,
   "id": "945e7eeb",
   "metadata": {},
   "outputs": [],
   "source": [
    "DLC_IDs = ['DLC12'] #, 'DLC64a', 'DLC64b', 'DLC24a', 'DLC31', 'DLC41a', 'DLC41b']\n",
    "\n",
    "# Get relevant data_paths for DLC and simulation result files\n",
    "data_path              = r'C:\\Appl\\TDI\\getting_started\\fatpack_test\\data'\n",
    "DLC_file               = data_path +  r'\\Doc-0081164-HAL-X-13MW-DGB-A-OWF-Detailed DLC List-Fatigue Support Structure Load Assessment_Rev7.0.xlsx'\n",
    "sim_res_cluster_folder = data_path +  r'\\Doc-0089427-HAL-X-13MW DB-A OWF-ILA3_JLO-model_fatigue_timeseries_all_elevations'\n",
    "geometry_file          = data_path +  r'\\DA_P53_CD.xlsx'\n",
    "\n",
    "geometry      = pd.read_excel(geometry_file).drop([1,2]) # can be used for testing the first geometry\n",
    "n_geometries  = geometry.shape[0]\n",
    "point_angles  = [float(i) for i in range(0,359,120)]\n",
    "cluster_ID    = 'JLO'\n",
    "curve         = DNV_SN_Curve('D') # DNV SN curve in air, D\n",
    "out_file_type = 'mat' # or npy "
   ]
  },
  {
   "cell_type": "code",
   "execution_count": 5,
   "id": "11be249a",
   "metadata": {},
   "outputs": [],
   "source": [
    "DLC_ID = DLC_IDs[0]"
   ]
  },
  {
   "cell_type": "code",
   "execution_count": 6,
   "id": "ef6ba38b",
   "metadata": {},
   "outputs": [],
   "source": [
    "df, probs, n_cases, n_timesteps = extract_and_preprocess_data(DLC_file, DLC_ID, cluster_ID, sim_res_cluster_folder)\n",
    "\n",
    "damage_table_DLC_i = np.zeros((n_cases, n_geometries, len(point_angles))) # pre-allocate output matrix of the current DLC\n",
    "\n",
    "combined_damage_DLC_i = np.zeros((n_geometries, len(point_angles)))\n",
    "\n",
    "appendix = '_multiprocessed' if MULTIPROCESS_CASES else '_regular'\n",
    "output_file_name = r'C:\\Appl\\TDI\\getting_started\\fatpack_test\\fatigue_table' + fr'\\fatigue_DB_{cluster_ID}_{DLC_ID}_fatpack{appendix}.{out_file_type}'\n"
   ]
  },
  {
   "cell_type": "code",
   "execution_count": 7,
   "id": "6f7ba8ff",
   "metadata": {},
   "outputs": [],
   "source": [
    "geo_idx = 0\n",
    "geo_row = geometry.iloc[geo_idx]"
   ]
  },
  {
   "cell_type": "code",
   "execution_count": 8,
   "id": "e1f5931e",
   "metadata": {},
   "outputs": [
    {
     "name": "stdout",
     "output_type": "stream",
     "text": [
      "Recalculating angles and SCF\n"
     ]
    }
   ],
   "source": [
    "# For each geometry, points of extra interest wrt stress factors must be identified and the corresponding angles updated\n",
    "actual_point_angles, scf_per_point = get_scf_sector_list(geo_row, point_angles)"
   ]
  },
  {
   "cell_type": "code",
   "execution_count": 113,
   "id": "d658dec9",
   "metadata": {},
   "outputs": [
    {
     "name": "stdout",
     "output_type": "stream",
     "text": [
      "Getting forces and moment timeseries\n"
     ]
    }
   ],
   "source": [
    "               \n",
    "# Extract the time series of moments/forces for all points with its probability of occurence and calculate the occuring stress  \n",
    "forces_timeseries_batch, moments_timeseries_batch = get_forces_and_moments_time_series(df, geo_row, actual_point_angles, n_timesteps, MP=True)"
   ]
  },
  {
   "cell_type": "code",
   "execution_count": 10,
   "id": "5474db9c",
   "metadata": {},
   "outputs": [
    {
     "name": "stdout",
     "output_type": "stream",
     "text": [
      "Calculating stress timeseries\n"
     ]
    }
   ],
   "source": [
    "# Calculate the stress timeseries as a combination of the forces, bending moments, and stress concentration factors and \n",
    "stress_timeseries_batch = calculate_stress_timeseries(forces_timeseries_batch, moments_timeseries_batch, geo_row, actual_point_angles, scf_per_point, curve) \n"
   ]
  },
  {
   "cell_type": "code",
   "execution_count": 11,
   "id": "4be38207",
   "metadata": {},
   "outputs": [],
   "source": [
    "# shp = stress_timeseries_batch.shape\n",
    "# plt.figure()\n",
    "# plt.plot([i for i in range(shp[2])], stress_timeseries_batch[0, 0, :]) \n",
    "# plt.xlim([0,200])          \n",
    "# plt.show()\n"
   ]
  },
  {
   "cell_type": "code",
   "execution_count": 12,
   "id": "89d64918",
   "metadata": {},
   "outputs": [],
   "source": [
    "# test_ranges = fatpack.find_rainflow_ranges(stress_timeseries_batch[0,0,:], k = 1000)\n",
    "# print(test_ranges)\n",
    "# print(test_ranges.shape)"
   ]
  },
  {
   "cell_type": "code",
   "execution_count": 116,
   "id": "abb17f37",
   "metadata": {},
   "outputs": [
    {
     "name": "stdout",
     "output_type": "stream",
     "text": [
      "Calculating damage, multiprocessed = True and rainflow_pck = True\n",
      "Calculating damage multiprocessed\n"
     ]
    }
   ],
   "source": [
    "# Find the rainflow ranges and calculate batched 10-min damage for each DLC case for all points/angles the stress timeseries      \n",
    "damage_geometry_i = calculate_damage(stress_timeseries_batch, curve, MP = True, rainflow_pck = True)"
   ]
  },
  {
   "cell_type": "code",
   "execution_count": 117,
   "id": "a6e53ab6",
   "metadata": {},
   "outputs": [
    {
     "data": {
      "text/plain": [
       "array([[2.77198363e-10, 2.80792374e-09, 8.73721362e-12],\n",
       "       [5.22963189e-10, 5.90436783e-09, 2.20048226e-11],\n",
       "       [4.64353514e-10, 4.48643289e-09, 3.43428980e-12],\n",
       "       ...,\n",
       "       [1.43798877e-07, 1.28559453e-06, 6.54772306e-09],\n",
       "       [2.11100088e-07, 1.84899565e-06, 3.90813034e-08],\n",
       "       [1.24871037e-07, 1.15833277e-06, 6.80214638e-09]])"
      ]
     },
     "execution_count": 117,
     "metadata": {},
     "output_type": "execute_result"
    }
   ],
   "source": [
    "damage_geometry_i"
   ]
  },
  {
   "cell_type": "code",
   "execution_count": null,
   "id": "4ff6c176",
   "metadata": {},
   "outputs": [],
   "source": []
  }
 ],
 "metadata": {
  "kernelspec": {
   "display_name": "Python 3.9.13 ('my_env': venv)",
   "language": "python",
   "name": "python3"
  },
  "language_info": {
   "codemirror_mode": {
    "name": "ipython",
    "version": 3
   },
   "file_extension": ".py",
   "mimetype": "text/x-python",
   "name": "python",
   "nbconvert_exporter": "python",
   "pygments_lexer": "ipython3",
   "version": "3.9.13"
  },
  "vscode": {
   "interpreter": {
    "hash": "752710bc2890d9b81e3a18a39c70fddfe8ced9f7036db30d3c218ca493579643"
   }
  }
 },
 "nbformat": 4,
 "nbformat_minor": 5
}
