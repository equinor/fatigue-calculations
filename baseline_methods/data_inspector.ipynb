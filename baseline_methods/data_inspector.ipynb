{
 "cells": [
  {
   "cell_type": "code",
   "execution_count": 1,
   "id": "00f1137b",
   "metadata": {},
   "outputs": [],
   "source": [
    "%load_ext autoreload\n",
    "%autoreload 2"
   ]
  },
  {
   "cell_type": "code",
   "execution_count": 2,
   "id": "a812cce6",
   "metadata": {},
   "outputs": [],
   "source": [
    "from utils.SN_Curve import SN_Curve_fatpack, SN_Curve_qats\n",
    "from utils.extract_and_preprocess_data import extract_and_preprocess_data\n",
    "from utils.setup_custom_logger import setup_custom_logger\n",
    "from utils.read_simulation_file import read_bladed_file\n",
    "from utils.calculate_damage import find_stress_range_and_count_with_rainflow\n",
    "from utils.save_damage_table import save_damage_table\n",
    "from utils.create_geo_matrix import create_geo_matrix\n",
    "import numpy as np\n",
    "import sys\n",
    "import pandas as pd\n",
    "import fatpack \n",
    "from qats.fatigue.rainflow import count_cycles\n",
    "from qats.fatigue.sn import SNCurve\n",
    "from qats.fatigue.sn import minersum\n",
    "import os \n",
    "import rainflow\n",
    "\n",
    "import matplotlib.pyplot as plt\n",
    "plt.rcParams[\"figure.figsize\"] = [30 / 2.54, 20 / 2.54]\n"
   ]
  },
  {
   "cell_type": "code",
   "execution_count": 3,
   "id": "945e7eeb",
   "metadata": {},
   "outputs": [],
   "source": [
    "# Get relevant data_paths for DLC and simulation result files\n",
    "DLC_IDs = ['DLC12'] #, 'DLC64a', 'DLC64b', 'DLC24a', 'DLC31', 'DLC41a', 'DLC41b']\n",
    "data_path              = fr'{os.getcwd()}\\data'\n",
    "DLC_file               = data_path +  r'\\Doc-0081164-HAL-X-13MW-DGB-A-OWF-Detailed DLC List-Fatigue Support Structure Load Assessment_Rev7.0.xlsx'\n",
    "sim_res_cluster_folder = data_path +  r'\\Doc-0089427-HAL-X-13MW DB-A OWF-ILA3_JLO-model_fatigue_timeseries_all_elevations'\n",
    "geometry_file          = data_path +  r'\\DA_P53_CD.xlsx'\n",
    "\n",
    "geometry      = pd.read_excel(geometry_file)# .drop([1,2]) # TODO drop can be used for testing only a set of geometries\n",
    "n_geometries  = geometry.shape[0]\n",
    "point_angles  = [float(i) for i in range(0,359,15)]\n",
    "cluster_ID    = 'JLO'\n",
    "curve         = SN_Curve_fatpack('D') # DNV SN curve in air, D\n",
    "# curve         = SN_Curve_qats('D') #\n",
    "out_file_type = 'mat' # or npy \n",
    "geo_matrix    = create_geo_matrix(geometry, point_angles, curve) # better matrix to pass to the main function\n",
    "logger        = setup_custom_logger('Main') # logger.info('Message') and logger.error('Message')\n"
   ]
  },
  {
   "cell_type": "code",
   "execution_count": 4,
   "id": "11be249a",
   "metadata": {},
   "outputs": [],
   "source": [
    "DLC_ID = DLC_IDs[0]"
   ]
  },
  {
   "cell_type": "code",
   "execution_count": 5,
   "id": "55c40962",
   "metadata": {},
   "outputs": [],
   "source": [
    "def get_stress_range_and_count_rainflow_pckg(stress_timeseries, k = 128):\n",
    "    '''\n",
    "    Uses rainflow counting for finding stress ranges and their respective counts \n",
    "    '''\n",
    "    ''' Returns a (N_ranges, 2) matrix with col0 = stress range and col1 = counts of given ranges.\n",
    "    '''\n",
    "    # Example of manual inspection\n",
    "    # cycles = [(rng, mean, count, ix_range_start, ix_range_end) for rng, mean, count, ix_range_start, ix_range_end in rainflow.extract_cycles(stress_timeseries) ] \n",
    "    # ranges = np.array( [c_tup[0] for c_tup in cycles ] )\n",
    "    # counts = np.array( [c_tup[2] for c_tup in cycles ] )\n",
    "    \n",
    "    # Returns a sorted list of (ranges, counts), where counts = 0.5 for half cycles. This can be used for scaling properly in the damage estimation. \n",
    "    return np.array(rainflow.count_cycles(stress_timeseries)) #, nbins = k))"
   ]
  },
  {
   "cell_type": "code",
   "execution_count": 6,
   "id": "aa837c98",
   "metadata": {},
   "outputs": [],
   "source": [
    "def get_stress_range_and_count_qats_pckg(stress_timeseries, k = 128):\n",
    "    '''\n",
    "    Uses rainflow counting for finding stress ranges and their respective counts \n",
    "    '''\n",
    "    # k is just a dummy to be compatible with the rainflow package's func\n",
    "    r, m, c = count_cycles(stress_timeseries).T\n",
    "    return np.hstack((r.reshape(-1,1),c.reshape(-1,1))) "
   ]
  },
  {
   "cell_type": "code",
   "execution_count": 7,
   "id": "af0aae38",
   "metadata": {},
   "outputs": [],
   "source": [
    "stress_range_finder_func_dict = {'rf': get_stress_range_and_count_rainflow_pckg, 'qats':get_stress_range_and_count_qats_pckg}"
   ]
  },
  {
   "cell_type": "code",
   "execution_count": 8,
   "id": "bdd55767",
   "metadata": {},
   "outputs": [],
   "source": [
    "stress_range_finder_func = stress_range_finder_func_dict['rf']"
   ]
  },
  {
   "cell_type": "code",
   "execution_count": 9,
   "id": "ef6ba38b",
   "metadata": {},
   "outputs": [],
   "source": [
    "df, probs, n_cases, n_timesteps = extract_and_preprocess_data(DLC_file, DLC_ID, cluster_ID, sim_res_cluster_folder)"
   ]
  },
  {
   "cell_type": "code",
   "execution_count": 10,
   "id": "a746b9a1",
   "metadata": {},
   "outputs": [],
   "source": [
    "def calculate_damage_case_i(binary_file_i, description_file_i, point_angles, geo_matrix, curve, stress_range_finder_func):\n",
    "    \n",
    "    content_reshaped = read_bladed_file(binary_file_i, description_file_i) # (n,m) numpy array with n = no. of quantities of data,  m = no. of timesteps for each data quantity \n",
    "    damage = np.zeros( (len(geo_matrix), len(point_angles)) )\n",
    "    \n",
    "    for geo_idx, geo_dict in geo_matrix.items():\n",
    "        pos = (geo_dict['mx_col'] - 1, geo_dict['my_col'] - 1, geo_dict['fz_col'] - 1) # columns in DLC file to collect moments and forces, using -1 to fit Python indexing\n",
    "        \n",
    "        moments_x_timeseries = content_reshaped[[pos[0]], :] # Moments as (1, timesteps) array - hence the [[],:] type slice\n",
    "        moments_y_timeseries = content_reshaped[[pos[1]], :] # Moments as (1, timesteps) array\n",
    "        forces_z_case_i      = content_reshaped[[pos[2]], :] # Axial F as (1, timesteps) array \n",
    "\n",
    "        # Resultant moment for the current case -> (theta, timestep)-shaped array    \n",
    "        actual_angles_rad = np.deg2rad(geo_dict['actual_angles'])\n",
    "        res_moments_timeseries_case_i = np.sin([actual_angles_rad]).T.dot(moments_x_timeseries) + np.cos([actual_angles_rad]).T.dot(moments_y_timeseries)\n",
    "        res_force_timeseries_case_i = np.repeat(forces_z_case_i, len(actual_angles_rad), axis=0)\n",
    "                \n",
    "        # size (theta, timestep)\n",
    "        stress_timeseries_case_i = res_force_timeseries_case_i / geo_dict['A'] + res_moments_timeseries_case_i / geo_dict['Z'] # [Pa] Quick check: N / m**2 + Nm / m**3 = N / m**2 = Pa\n",
    "        \n",
    "        # Adjust the stress according the stress concentration factors for certain angles\n",
    "        stress_timeseries_case_i *= np.array(geo_dict['scf_per_point'])[:, None] # Elementwise multiplication row wise \n",
    "        stress_timeseries_case_i *= geo_dict['alpha'] * 1e-6 # [MPa]\n",
    "        \n",
    "        # def calculate_damage_case_i(stress_timeseries_case_i, curve, stress_range_finder_func):\n",
    "        for ang_idx, stress_timeseries_case_i_ang_j in enumerate(stress_timeseries_case_i):\n",
    "            # stress_ranges comes as (N_stress_ranges, n_counts) sized matrix from rainflowpackage and qats\n",
    "            \n",
    "            stress_ranges = stress_range_finder_func(stress_timeseries_case_i_ang_j, k = 128)\n",
    "            dmg = curve.miner_sum(stress_ranges)\n",
    "            \n",
    "            # print(stress_ranges)\n",
    "            print(f'Found {stress_ranges.shape[0]} stress ranges with sum {stress_ranges.sum()}')\n",
    "            print(f'First ranges: {stress_ranges[:5,0]}')\n",
    "            print(f'Damage: {dmg}')\n",
    "            return\n",
    "            \n",
    "            damage[geo_idx, ang_idx] = dmg \n",
    "    return damage # (n_geo, n_angles) shaped array"
   ]
  },
  {
   "cell_type": "code",
   "execution_count": 11,
   "id": "5da5bff6",
   "metadata": {},
   "outputs": [],
   "source": [
    "damage_table_DLC_i = np.zeros((n_cases, n_geometries, len(point_angles))) # pre-allocate output matrix of the current DLC"
   ]
  },
  {
   "cell_type": "code",
   "execution_count": 12,
   "id": "10f81a02",
   "metadata": {},
   "outputs": [],
   "source": [
    "case_i_test = 0\n",
    "curves = [SN_Curve_fatpack('D'), SN_Curve_qats('D')]\n",
    "range_finders = ['rf', 'qats']\n",
    "stress_range_finder_func_list = [get_stress_range_and_count_rainflow_pckg, get_stress_range_and_count_qats_pckg]\n"
   ]
  },
  {
   "cell_type": "code",
   "execution_count": 13,
   "id": "29f8e347",
   "metadata": {},
   "outputs": [
    {
     "name": "stdout",
     "output_type": "stream",
     "text": [
      "Rainflow method rf with <fatpack.endurance.BiLinearEnduranceCurve object at 0x000001E2E46957F0>\n",
      "Found 135 stress ranges with sum 671.7668475134153\n",
      "First ranges: [0.00555728 0.01632959 0.02042103 0.02722289 0.03667329]\n",
      "Damage: 2.7719836298946203e-10\n",
      "Rainflow method qats with <fatpack.endurance.BiLinearEnduranceCurve object at 0x000001E2E46957F0>\n",
      "Found 133 stress ranges with sum 669.313970690127\n",
      "First ranges: [0.00555728 0.01632959 0.02042103 0.02722289 0.03667329]\n",
      "Damage: 2.7719812948793826e-10\n",
      "Rainflow method rf with <SNCurve \"qats SN curve, \"D in air\"\" (bi-linear)>\n",
      "Found 135 stress ranges with sum 671.7668475134153\n",
      "First ranges: [0.00555728 0.01632959 0.02042103 0.02722289 0.03667329]\n",
      "Damage: 2.7719836298946193e-10\n",
      "Rainflow method qats with <SNCurve \"qats SN curve, \"D in air\"\" (bi-linear)>\n",
      "Found 133 stress ranges with sum 669.313970690127\n",
      "First ranges: [0.00555728 0.01632959 0.02042103 0.02722289 0.03667329]\n",
      "Damage: 2.771981294879381e-10\n"
     ]
    }
   ],
   "source": [
    "for c in curves:\n",
    "    for iterator, func in enumerate(stress_range_finder_func_list):\n",
    "        print(f'Rainflow method {range_finders[iterator]} with {c.SN}')\n",
    "        \n",
    "        arguments = [(df.results_files[i], \n",
    "                        df.descr_files[i], \n",
    "                        point_angles, \n",
    "                        geo_matrix, \n",
    "                        c,\n",
    "                        func,\n",
    "                        ) for i in range(n_cases)]\n",
    "    \n",
    "        calculate_damage_case_i(*arguments[case_i_test])"
   ]
  },
  {
   "cell_type": "code",
   "execution_count": 14,
   "id": "8d8b8f70",
   "metadata": {},
   "outputs": [],
   "source": [
    "from utils.SN_Curve import SN_Curve_fatpack, SN_Curve_qats\n",
    "#curves[0].plot_characteristics()\n",
    "#curves[1].plot_characteristics()\n",
    "# print(curves[1].SN.print_parameters())"
   ]
  },
  {
   "cell_type": "code",
   "execution_count": 15,
   "id": "f6704621",
   "metadata": {},
   "outputs": [
    {
     "name": "stdout",
     "output_type": "stream",
     "text": [
      "[[228.16152676 226.98603546 235.16161891 252.31363259 272.27436711\n",
      "  284.10989571 282.48136958 272.47146289 260.50298698  42.26436317\n",
      "  242.16404793  38.24347579 228.25696708 226.9436087  235.02462479\n",
      "  252.10140817 272.00171456 283.77619896 282.05080158 271.98492826\n",
      "  259.99797429 250.03282882 241.78764723 234.48238658]\n",
      " [266.74465405 265.33174169 274.85821807 295.07636996 318.30196025\n",
      "  332.00188919 329.76510034 318.02880064 304.11487889 292.39537386\n",
      "  282.86949047 274.31940921 266.86156514 265.27616455 274.68948611\n",
      "  294.81901159 317.97196554 331.59813512 329.245949   317.44420326\n",
      "  303.51078311 291.85663675 282.41423762 273.99820761]\n",
      " [426.78090808 424.72403734 440.25093605 472.94727641 509.35180732\n",
      "  529.72791279 525.60646974 506.09596527 484.49478679 466.44643828\n",
      "  451.75602098 438.54259717 427.0498214  424.62588463 439.92107699\n",
      "  472.42169715 508.65684819 528.89401707 524.53205249 504.89487244\n",
      "  483.26167627 465.28128432 450.80657077 437.86100993]]\n",
      "38.243475791142046\n",
      "       Nacelle angle [deg]  Wind Speed [m/s]  Wind Direction [deg]  \\\n",
      "0                        0               4.0                     0   \n",
      "1                        8               4.0                     0   \n",
      "2                       -8               4.0                     0   \n",
      "3                        0               4.0                     0   \n",
      "4                        8               4.0                     0   \n",
      "...                    ...               ...                   ...   \n",
      "10705                  210              11.0                   210   \n",
      "10706                  240              11.0                   240   \n",
      "10707                  270              11.0                   270   \n",
      "10708                  300              11.0                   300   \n",
      "10709                  330              11.0                   330   \n",
      "\n",
      "       Wave direction [deg]  Hs windsea [m]  Tp windsea [s]  Hs swell [m]  \\\n",
      "0                         0            0.26            3.11          1.12   \n",
      "1                         0            0.26            3.11          1.12   \n",
      "2                         0            0.26            3.11          1.12   \n",
      "3                        30            0.26            3.11          1.12   \n",
      "4                        30            0.26            3.11          1.12   \n",
      "...                     ...             ...             ...           ...   \n",
      "10705                   210            1.11            4.97          1.08   \n",
      "10706                   240            1.17            5.06          1.08   \n",
      "10707                   270            1.26            5.29          1.08   \n",
      "10708                   300            1.42            5.78          1.08   \n",
      "10709                   330            1.55            6.14          1.08   \n",
      "\n",
      "       Tp swell [s]  Water Level [mMSL]  \\\n",
      "0              8.43                 0.2   \n",
      "1              8.43                 0.2   \n",
      "2              8.43                 0.2   \n",
      "3              8.43                 0.2   \n",
      "4              8.43                 0.2   \n",
      "...             ...                 ...   \n",
      "10705          8.34                 0.2   \n",
      "10706          8.34                 0.2   \n",
      "10707          8.34                 0.2   \n",
      "10708          8.34                 0.2   \n",
      "10709          8.34                 0.2   \n",
      "\n",
      "       Current speed  (depth averaged) [m/s]  ...  fatigue_damage_sector_15  \\\n",
      "0                                       0.28  ...              3.900656e-10   \n",
      "1                                       0.28  ...              9.234529e-10   \n",
      "2                                       0.28  ...              5.552709e-10   \n",
      "3                                       0.28  ...              2.963789e-10   \n",
      "4                                       0.28  ...              7.320765e-10   \n",
      "...                                      ...  ...                       ...   \n",
      "10705                                   0.28  ...              8.238422e-08   \n",
      "10706                                   0.28  ...              2.669548e-09   \n",
      "10707                                   0.28  ...              8.377013e-08   \n",
      "10708                                   0.28  ...              3.499720e-07   \n",
      "10709                                   0.28  ...              5.698798e-07   \n",
      "\n",
      "       fatigue_damage_sector_16 fatigue_damage_sector_17  \\\n",
      "0                  3.070559e-10             1.844471e-10   \n",
      "1                  8.016918e-10             5.256938e-10   \n",
      "2                  3.730266e-10             1.721293e-10   \n",
      "3                  2.708782e-10             1.845972e-10   \n",
      "4                  6.744493e-10             4.811938e-10   \n",
      "...                         ...                      ...   \n",
      "10705              8.658633e-09             1.033824e-09   \n",
      "10706              1.705586e-08             7.769132e-08   \n",
      "10707              1.614516e-07             2.754944e-07   \n",
      "10708              4.865330e-07             5.488207e-07   \n",
      "10709              4.867332e-07             3.231444e-07   \n",
      "\n",
      "       fatigue_damage_sector_18  fatigue_damage_sector_19  \\\n",
      "0                  8.355850e-11              3.128271e-11   \n",
      "1                  2.658479e-10              1.064593e-10   \n",
      "2                  4.891294e-11              7.750773e-12   \n",
      "3                  9.286396e-11              3.430383e-11   \n",
      "4                  2.632819e-10              1.146703e-10   \n",
      "...                         ...                       ...   \n",
      "10705              1.158655e-08              6.883710e-08   \n",
      "10706              1.555217e-07              2.550809e-07   \n",
      "10707              3.848313e-07              4.309384e-07   \n",
      "10708              4.972610e-07              3.630863e-07   \n",
      "10709              1.558932e-07              4.645330e-08   \n",
      "\n",
      "       fatigue_damage_sector_20  fatigue_damage_sector_21  \\\n",
      "0                  1.188211e-11              8.723014e-12   \n",
      "1                  4.178861e-11              2.200250e-11   \n",
      "2                  1.403372e-12              3.434213e-12   \n",
      "3                  1.038991e-11              5.761645e-12   \n",
      "4                  3.930849e-11              1.689353e-11   \n",
      "...                         ...                       ...   \n",
      "10705              1.561614e-07              3.003060e-07   \n",
      "10706              3.839331e-07              4.541282e-07   \n",
      "10707              4.204142e-07              3.323755e-07   \n",
      "10708              2.012465e-07              7.915863e-08   \n",
      "10709              3.901296e-09              2.353875e-10   \n",
      "\n",
      "       fatigue_damage_sector_22  fatigue_damage_sector_23  \\\n",
      "0                  2.142718e-11              6.356027e-11   \n",
      "1                  2.458005e-11              7.939135e-11   \n",
      "2                  2.176385e-11              9.262888e-11   \n",
      "3                  1.196726e-11              3.247431e-11   \n",
      "4                  2.515892e-11              7.372000e-11   \n",
      "...                         ...                       ...   \n",
      "10705              4.378058e-07              5.103803e-07   \n",
      "10706              4.377836e-07              3.398919e-07   \n",
      "10707              2.016020e-07              8.550610e-08   \n",
      "10708              9.565311e-09              1.114052e-09   \n",
      "10709              7.229952e-09              6.803181e-08   \n",
      "\n",
      "       fatigue_damage_sector_24  \n",
      "0                  1.533978e-10  \n",
      "1                  2.419577e-10  \n",
      "2                  2.549096e-10  \n",
      "3                  8.275611e-11  \n",
      "4                  1.934996e-10  \n",
      "...                         ...  \n",
      "10705              4.842252e-07  \n",
      "10706              2.011161e-07  \n",
      "10707              1.220179e-08  \n",
      "10708              1.398190e-08  \n",
      "10709              1.947530e-07  \n",
      "\n",
      "[10710 rows x 37 columns]\n"
     ]
    }
   ],
   "source": [
    "from calculate_lifetime_from_damage import create_overall_lookuptable\n",
    "\n",
    "create_overall_lookuptable()"
   ]
  },
  {
   "cell_type": "code",
   "execution_count": null,
   "id": "e8831548",
   "metadata": {},
   "outputs": [
    {
     "name": "stdout",
     "output_type": "stream",
     "text": [
      "135\n",
      "2.7719836298946203e-10\n"
     ]
    },
    {
     "ename": "ValueError",
     "evalue": "setting an array element with a sequence. The requested array has an inhomogeneous shape after 1 dimensions. The detected shape was (3,) + inhomogeneous part.",
     "output_type": "error",
     "traceback": [
      "\u001b[1;31m---------------------------------------------------------------------------\u001b[0m",
      "\u001b[1;31mValueError\u001b[0m                                Traceback (most recent call last)",
      "Cell \u001b[1;32mIn [81], line 9\u001b[0m\n\u001b[0;32m      1\u001b[0m arguments \u001b[39m=\u001b[39m [(df\u001b[39m.\u001b[39mresults_files[i], \n\u001b[0;32m      2\u001b[0m               df\u001b[39m.\u001b[39mdescr_files[i], \n\u001b[0;32m      3\u001b[0m               point_angles, \n\u001b[1;32m   (...)\u001b[0m\n\u001b[0;32m      6\u001b[0m               stress_range_finder_func\n\u001b[0;32m      7\u001b[0m               ) \u001b[39mfor\u001b[39;00m i \u001b[39min\u001b[39;00m \u001b[39mrange\u001b[39m(n_cases)]\n\u001b[0;32m      8\u001b[0m \u001b[39mfor\u001b[39;00m case_i \u001b[39min\u001b[39;00m \u001b[39mrange\u001b[39m(n_cases):\n\u001b[1;32m----> 9\u001b[0m     damage_table_DLC_i[[case_i], :, :] \u001b[39m=\u001b[39m calculate_damage_case_i(\u001b[39m*\u001b[39marguments[case_i])\n",
      "\u001b[1;31mValueError\u001b[0m: setting an array element with a sequence. The requested array has an inhomogeneous shape after 1 dimensions. The detected shape was (3,) + inhomogeneous part."
     ]
    }
   ],
   "source": [
    "arguments = [(df.results_files[i], \n",
    "              df.descr_files[i], \n",
    "              point_angles, \n",
    "              geo_matrix, \n",
    "              curve,\n",
    "              stress_range_finder_func\n",
    "              ) for i in range(n_cases)]\n",
    "for case_i in range(n_cases):\n",
    "    damage_table_DLC_i[[case_i], :, :] = calculate_damage_case_i(*arguments[case_i])"
   ]
  },
  {
   "cell_type": "code",
   "execution_count": null,
   "id": "c8e7f885",
   "metadata": {},
   "outputs": [],
   "source": [
    "# Transform the damage table into a combined_damage matrix of size (n_geometries, n_angles), weighting each of the cases by their probabilities and converting to hour-based damage    \n",
    "combined_damage_DLC_i = np.zeros((n_geometries, len(point_angles)))\n",
    "weights = np.array([probs])\n",
    "for ang_idx in range(len(point_angles)):\n",
    "    combined_damage_DLC_i[:, [ang_idx]] = np.dot( weights, damage_table_DLC_i[:,:, ang_idx]).T * 6.0 # (n_geometries, 1) -> multiplication of weights by dot product\n",
    "     "
   ]
  },
  {
   "cell_type": "code",
   "execution_count": null,
   "id": "33eced09",
   "metadata": {},
   "outputs": [],
   "source": [
    "\n",
    "print(damage_table_DLC_i.shape)\n",
    "print(damage_table_DLC_i)    "
   ]
  }
 ],
 "metadata": {
  "kernelspec": {
   "display_name": "Python 3",
   "language": "python",
   "name": "python3"
  },
  "language_info": {
   "codemirror_mode": {
    "name": "ipython",
    "version": 3
   },
   "file_extension": ".py",
   "mimetype": "text/x-python",
   "name": "python",
   "nbconvert_exporter": "python",
   "pygments_lexer": "ipython3",
   "version": "3.9.13 (tags/v3.9.13:6de2ca5, May 17 2022, 16:36:42) [MSC v.1929 64 bit (AMD64)]"
  },
  "vscode": {
   "interpreter": {
    "hash": "2a9f98ddfbfcd49889f142605dfe7270c0abbae30faa4e73d7cb92b7ef5ba2dd"
   }
  }
 },
 "nbformat": 4,
 "nbformat_minor": 5
}
