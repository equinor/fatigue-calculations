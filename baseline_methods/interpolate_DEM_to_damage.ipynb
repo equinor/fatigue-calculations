{
 "cells": [
  {
   "cell_type": "code",
   "execution_count": 1,
   "id": "00f1137b",
   "metadata": {},
   "outputs": [],
   "source": [
    "%load_ext autoreload\n",
    "%autoreload 2"
   ]
  },
  {
   "cell_type": "code",
   "execution_count": 2,
   "id": "a812cce6",
   "metadata": {},
   "outputs": [],
   "source": [
    "from utils.SN_Curve import SN_Curve_qats\n",
    "from utils.create_geo_matrix import create_geo_matrix\n",
    "from utils.transformations import global_2_compass, compass_2_global\n",
    "import numpy as np\n",
    "import sys\n",
    "import pandas as pd\n",
    "import os\n",
    "from utils.get_scf_sector_list import get_scf_sector_list\n",
    "\n",
    "import matplotlib.pyplot as plt\n",
    "plt.rcParams[\"figure.figsize\"] = [30 / 2.54, 20 / 2.54]\n",
    "pd.set_option('display.width', 1000) # Print columns wider\n",
    "pd.set_option('display.max_rows', 500) # Print more rows\n"
   ]
  },
  {
   "attachments": {},
   "cell_type": "markdown",
   "id": "17834acf",
   "metadata": {},
   "source": [
    "### Pre-define data paths, global variables etc."
   ]
  },
  {
   "cell_type": "code",
   "execution_count": 3,
   "id": "945e7eeb",
   "metadata": {},
   "outputs": [],
   "source": [
    "# Get relevant data_paths for DLC and simulation result files\n",
    "data_path              = fr'{os.getcwd()}\\data'\n",
    "geometry_file          = data_path +  r'\\DA_P53_CD.xlsx'\n",
    "point_angles  = [float(i) for i in range(0,359,15)] \n",
    "\n",
    "# Extract file for all DEM sums per geo, per elevation\n",
    "DEM_data_path = fr'{os.getcwd()}\\output\\python_combined_DEM.xlsx'\n",
    "df_xlsx = pd.read_excel(DEM_data_path)\n",
    "\n",
    "# Define DEM variables\n",
    "T_lifetime = 25.0\n",
    "N_equivalent = 1e7\n",
    "wohler_exp = 5.0\n",
    "curve = SN_Curve_qats('D')\n",
    "DFF = 3.0"
   ]
  },
  {
   "attachments": {},
   "cell_type": "markdown",
   "id": "4d1b1813",
   "metadata": {},
   "source": [
    "### Extract hotspot geometry"
   ]
  },
  {
   "cell_type": "code",
   "execution_count": 4,
   "id": "6f8d5c3b",
   "metadata": {},
   "outputs": [],
   "source": [
    "geo_test_df = pd.read_excel(fr'{os.getcwd()}\\unused\\DA_P53_CD copy with extra geo.xlsx')\n",
    "top_boat_landing_geo = create_geo_matrix(geo_test_df, point_angles, curve)[0]\n",
    "# top_boat_landing_geo = geo_test_df.iloc[0]\n",
    "elevation_boat_landing = top_boat_landing_geo['elevation']"
   ]
  },
  {
   "attachments": {},
   "cell_type": "markdown",
   "id": "730f5696",
   "metadata": {},
   "source": [
    "### Define angles in both turbine frame and compass frame"
   ]
  },
  {
   "cell_type": "code",
   "execution_count": 5,
   "id": "579486f8",
   "metadata": {},
   "outputs": [],
   "source": [
    "# Translate the angles to compass angles to align with given SCF factor\n",
    "global_angles = [float(key) for key in df_xlsx.iloc[0][1:].keys()] # 1: due to element 0 being 'mLat'\n",
    "compass_angles = global_2_compass(global_angles)\n",
    "adjusted_compass_angles, scf_sectors = get_scf_sector_list(top_boat_landing_geo, compass_angles)\n",
    "adjusted_global_angles = compass_2_global(adjusted_compass_angles)\n",
    "validate_df = pd.DataFrame(data=np.hstack((np.array([adjusted_compass_angles]).reshape(-1,1), \n",
    "                                np.array([scf_sectors]).reshape(-1,1), \n",
    "                                np.array([adjusted_global_angles]).reshape(-1,1))), \n",
    "                                columns = ['Adjusted compass angles', 'SCF','Adjusted global angles'])"
   ]
  },
  {
   "attachments": {},
   "cell_type": "markdown",
   "id": "9ceabb74",
   "metadata": {},
   "source": [
    "### Extract pre computed DEM data - use boat landing geometry - find member_elevations of nodes above and below boat landing"
   ]
  },
  {
   "cell_type": "code",
   "execution_count": 6,
   "id": "ad267fac",
   "metadata": {},
   "outputs": [],
   "source": [
    "''' The goal here is for this script to be independent of the geometries that were used during the initial DEM-sum calculations '''\n",
    "member_elevations = np.array([float(key) for key in (df_xlsx['mLat'].values)])\n",
    "dist = member_elevations - elevation_boat_landing\n",
    "\n",
    "assert (np.any(dist >= 0.)), 'Geo in question is above the highest node - invalid for interpolation'\n",
    "assert (np.any(dist < 0.)), 'Geo in question is below the lowest node - invalid for interpolation'"
   ]
  },
  {
   "cell_type": "code",
   "execution_count": 7,
   "id": "7967f092",
   "metadata": {},
   "outputs": [
    {
     "name": "stdout",
     "output_type": "stream",
     "text": [
      "The nodes from the DEM calculation closest to boat landing at 9.69 mLat is \n",
      "11.20 @ mLat above \n",
      "6.50 @ mLat below\n",
      "The closest of elevations is 11.2, above the boat landing\n"
     ]
    }
   ],
   "source": [
    "idx_above = np.ma.MaskedArray(dist, dist < 0.0).argmin() # mask out values below 0, and find the positive value closest to zero\n",
    "idx_below = np.ma.MaskedArray(dist, dist >= 0.0).argmax() # mask out values above 0, and find the negative value closest to zero\n",
    "idx_closest = np.abs(dist).argmin()\n",
    "\n",
    "elevation_above = member_elevations[idx_above]\n",
    "elevation_below = member_elevations[idx_below]\n",
    "elevation_closest = member_elevations[idx_closest]\n",
    "                             \n",
    "print(f'The nodes from the DEM calculation closest to boat landing at {elevation_boat_landing:.2f} mLat is \\n{elevation_above:.2f} @ mLat above \\n{elevation_below:.2f} @ mLat below')\n",
    "closest_is_above = elevation_closest > elevation_boat_landing\n",
    "closest_is_above = False\n",
    "print(f'The closest of elevations is {elevation_closest}, {\"above\" if closest_is_above else \"below\"} the boat landing')"
   ]
  },
  {
   "attachments": {},
   "cell_type": "markdown",
   "id": "f481ed77",
   "metadata": {},
   "source": [
    "### Extract DEM from the neighbouring elevations"
   ]
  },
  {
   "cell_type": "code",
   "execution_count": 8,
   "id": "274d3732",
   "metadata": {},
   "outputs": [],
   "source": [
    "# Manually find DEM interpolated for 9.69 mLat by using manually chosen elevations\n",
    "above_DEM = np.array(df_xlsx.iloc[idx_above][1:]) # remove the mLat dimension of the DataFrame - this will be a np.array with DEM for all (24) sectors\n",
    "below_DEM = np.array(df_xlsx.iloc[idx_below][1:])\n",
    "\n",
    "# Linear interpol; DEM_i = DEM_below + [dy/dx] * dx = DEM_below + [(delta DEM above/below) / (delta elevation above/below) ] * (elevation geo i - elevation below) or DEM_below + interpol_factor * delta DEM\n",
    "interpol_factor = (elevation_boat_landing - elevation_below) / (elevation_above - elevation_below) "
   ]
  },
  {
   "attachments": {},
   "cell_type": "markdown",
   "id": "b5d51573",
   "metadata": {},
   "source": [
    "## Use the interpolated DEM to calculate the factor to scale moment ranges with accordingly"
   ]
  },
  {
   "cell_type": "code",
   "execution_count": 9,
   "id": "5336ede3",
   "metadata": {},
   "outputs": [],
   "source": [
    "# Calculate total DEM for above, current and below elevations, for all sectors (n_sectors, )-shaped\n",
    "DEM_above_tot = ((T_lifetime / N_equivalent * above_DEM)**(1 / wohler_exp))\n",
    "DEM_below_tot = ((T_lifetime / N_equivalent * below_DEM)**(1 / wohler_exp))\n",
    "DEM_boat_landing_tot = DEM_below_tot + (DEM_above_tot - DEM_below_tot) * interpol_factor"
   ]
  },
  {
   "attachments": {},
   "cell_type": "markdown",
   "id": "c9138819",
   "metadata": {},
   "source": [
    "### Find the reference DEM and scaling factor / scaled DEM in hotspot"
   ]
  },
  {
   "cell_type": "code",
   "execution_count": 10,
   "id": "bf2bfe2f",
   "metadata": {},
   "outputs": [],
   "source": [
    "# Find above and below\n",
    "DEM_hotspot_vs_above = np.array(DEM_boat_landing_tot / DEM_above_tot) # per sector\n",
    "f_hotspot_vs_above = DEM_hotspot_vs_above.max()\n",
    "DEM_hotspot_vs_below = np.array(DEM_boat_landing_tot / DEM_below_tot)\n",
    "f_hotspot_vs_below = DEM_hotspot_vs_below.max()"
   ]
  },
  {
   "cell_type": "code",
   "execution_count": 171,
   "id": "ff469a34",
   "metadata": {},
   "outputs": [
    {
     "name": "stdout",
     "output_type": "stream",
     "text": [
      "DEM relationships above and below\n",
      "From report: above vs. hotspot 98.2 MNm * 1.00772 ~ 99.0 MNm\n",
      "########################################\n",
      "Chosing factor above as reference, with reference M_eq = 96.46 MNm at 180.0 degN\n",
      "Interpolated DEM at hotspot with factor 1.012851 gives M_scf = 97.70 MNm\n",
      "Our Meq_hotspot as a fraction of report: 98.7317 %\n",
      "Expecting our damage to be a factor f^m = 0.9382 of the report at 79.9 %\n",
      "so our results should be close to 75.0 % util (m=5), possibly up to 76.9 % util (m=3\n"
     ]
    }
   ],
   "source": [
    "# Choose the reference according to closest elevation\n",
    "# TODO should we choose worst, or the closest to \n",
    "# And how do we select the sector on the hotspot elevation BEFORE we know the worst DEM on that elevation? Just choose an angle with the highest SCF?\n",
    "\n",
    "DEM_reference_factor = f_hotspot_vs_above if closest_is_above else f_hotspot_vs_below\n",
    "sector_idx_for_worst_reference_DEM = DEM_hotspot_vs_above.argmax() if closest_is_above else DEM_hotspot_vs_below.argmax()\n",
    "DEM_reference = DEM_above_tot[sector_idx_for_worst_reference_DEM] if closest_is_above else DEM_below_tot[sector_idx_for_worst_reference_DEM]\n",
    "DEM_hotspot_interpolated = DEM_reference * DEM_reference_factor\n",
    "\n",
    "print(f'DEM relationships above and below')\n",
    "DEM_hotspot_report = 98.2 * 1.00772 * 1e6\n",
    "utilization_hotspot_report = 0.799\n",
    "print(f'From report: above vs. hotspot 98.2 MNm * 1.00772 ~ {DEM_hotspot_report * 1e-6:.1f} MNm')\n",
    "# print(f'Above : {f_hotspot_vs_above} at ang {global_angles[DEM_hotspot_vs_above.argmax() ]} / {compass_angles[DEM_hotspot_vs_above.argmax()]} degN')\n",
    "# print(f'Below: {f_hotspot_vs_below} at ang {global_angles[ DEM_hotspot_vs_below.argmax() ] } / {compass_angles[DEM_hotspot_vs_below.argmax()]} degN')\n",
    "print('#'*40)\n",
    "print(f'Chosing factor {\"above\" if closest_is_above else \"below\"} as reference, with reference M_eq = {DEM_reference / 10**6:.2f} MNm at {compass_angles[DEM_hotspot_vs_above.argmax()]} degN')\n",
    "print(f'Interpolated DEM at hotspot with factor {DEM_reference_factor:5f} gives M_scf = {DEM_hotspot_interpolated / 10**6:.2f} MNm')\n",
    "fff = DEM_hotspot_interpolated / DEM_hotspot_report\n",
    "print(f'Our Meq_hotspot as a fraction of report: {fff * 100:.4f} %')\n",
    "print(f'Expecting our damage to be a factor f^m = {((fff)**wohler_exp):.4f} of the report at {utilization_hotspot_report * 100:.1f} %')\n",
    "print(f'so our results should be close to {utilization_hotspot_report * (fff)**wohler_exp * 100:.1f} % util (m=5), possibly up to {utilization_hotspot_report * (fff)**3.0 * 100:.1f} % util (m=3')"
   ]
  },
  {
   "attachments": {},
   "cell_type": "markdown",
   "id": "381c5c0f",
   "metadata": {},
   "source": [
    "## Load the markov matrices with moment ranges and counts"
   ]
  },
  {
   "cell_type": "code",
   "execution_count": 12,
   "id": "fbfae430",
   "metadata": {},
   "outputs": [],
   "source": [
    "# Load the markov matrices\n",
    "from utils.fastnumpyio import load as fastio_load \n",
    "markov_path = fr'{os.getcwd()}\\output\\total_markov_member' + '{}.npy'\n",
    "mbr_to_el_map = {54: 22.4, 72: 11.2, 84: 6.5, 91: 4.275} # TODO this should be handled by the geometry file\n",
    "markov_matrices = {}\n",
    "for mbr in mbr_to_el_map.keys():\n",
    "    path = markov_path.format(mbr)\n",
    "    markov_matrices[mbr_to_el_map[mbr]] = np.array(fastio_load(path))"
   ]
  },
  {
   "attachments": {},
   "cell_type": "markdown",
   "id": "887c1d19",
   "metadata": {},
   "source": [
    "### Pick the markov matrix from the reference node, AT THE WORST SECTOR"
   ]
  },
  {
   "cell_type": "code",
   "execution_count": 13,
   "id": "284dc9c8",
   "metadata": {},
   "outputs": [],
   "source": [
    "reference_elevation = elevation_above if closest_is_above else elevation_below\n",
    "markov_at_reference_elevation = markov_matrices[reference_elevation]\n",
    "markov_reference = markov_at_reference_elevation[sector_idx_for_worst_reference_DEM]\n",
    "markov_reference = markov_reference[ markov_reference[:, 0].argsort()]"
   ]
  },
  {
   "attachments": {},
   "cell_type": "markdown",
   "id": "5a88f0a3",
   "metadata": {},
   "source": [
    "### Check if it is possible to recreate the DEM at the reference elevation with the loaded ranges"
   ]
  },
  {
   "cell_type": "code",
   "execution_count": 14,
   "id": "ddcb8985",
   "metadata": {},
   "outputs": [
    {
     "name": "stdout",
     "output_type": "stream",
     "text": [
      "Recreated stats from the reference markov matrix at 11.20 mLat:\n",
      "Total counts over 25 years: 163.97 * 10^6\n",
      "Total bins with nonzero counts: 745768\n",
      "Smallest M_range: 0.14 MNm\n",
      "Median M_range: 46.18 MNm\n",
      "Largest M_range: 401.38 MNm\n",
      "Recreated DEM at reference for m = 5: 96.46 MNm\n",
      "Original DEM at reference for m = 5: 96.46 MNm\n",
      "It is possible to recreate DEM\n"
     ]
    }
   ],
   "source": [
    "reference_moment_ranges = markov_reference[:,[0]]\n",
    "reference_counts = markov_reference[:,[1]]\n",
    "DEM_reference_recreated = float((T_lifetime / N_equivalent * ((reference_moment_ranges.T)**wohler_exp).dot(reference_counts))**(1 / wohler_exp))\n",
    "\n",
    "print(f'Recreated stats from the reference markov matrix at {elevation_closest:.2f} mLat:')\n",
    "print(f'Total counts over {T_lifetime:.0f} years: {reference_counts.sum() * T_lifetime / 10**6:.2f} * 10^6')\n",
    "print(f'Total bins with nonzero counts: {np.count_nonzero(reference_counts)}')\n",
    "print(f'Smallest M_range: {reference_moment_ranges.min() * 1e-6:.2f} MNm') \n",
    "print(f'Median M_range: {np.median(reference_moment_ranges) * 1e-6:.2f} MNm') \n",
    "print(f'Largest M_range: {reference_moment_ranges.max() * 1e-6:.2f} MNm') \n",
    "print(f'Recreated DEM at reference for m = 5: {(DEM_reference_recreated) / 10**6 :.2f} MNm')\n",
    "print(f'Original DEM at reference for m = 5: {DEM_reference / 10**6 :.2f} MNm')\n",
    "print(f'It is {\"possible\" if ((DEM_reference - DEM_reference_recreated) < 1e-6) else \"not possible\"} to recreate DEM')"
   ]
  },
  {
   "attachments": {},
   "cell_type": "markdown",
   "id": "87e1f65d",
   "metadata": {},
   "source": [
    "### Rescale the moment ranges for the nearest hotspot according to the DEM relation, and find corresponding stress ranges"
   ]
  },
  {
   "cell_type": "code",
   "execution_count": 15,
   "id": "034eb261",
   "metadata": {},
   "outputs": [
    {
     "name": "stdout",
     "output_type": "stream",
     "text": [
      "Largest M_range: 406.53 MNm\n",
      "Recreated DEM at hotspot for m = 5: 97.70 MNm\n",
      "Original DEM at hotspot for m = 5: 97.70 MNm\n",
      "It is possible to recreate DEM\n"
     ]
    }
   ],
   "source": [
    "# Scale all moment ranges per sector according to relationships calculated above, or just one single factor determined by DEM max. Test below, above and closest\n",
    "markov_hotspot = markov_reference.copy()\n",
    "markov_hotspot[:, [0]] = markov_reference[:, [0]] * DEM_reference_factor # could use *= but this stays in control \"compunding interest\" when using notebooks\n",
    "DEM_hotspot_recreated = ( T_lifetime / N_equivalent * ((markov_hotspot[:,[0]].T)**wohler_exp).dot(markov_hotspot[:,[1]]) )**(1 / wohler_exp)\n",
    "\n",
    "print(f'Largest M_range: {markov_hotspot[:, 0].max() * 1e-6:.2f} MNm') \n",
    "print(f'Recreated DEM at hotspot for m = 5: {float(DEM_hotspot_recreated) / 10**6 :.2f} MNm')\n",
    "print(f'Original DEM at hotspot for m = 5: {DEM_hotspot_interpolated / 10**6 :.2f} MNm')\n",
    "print(f'It is {\"possible\" if ((DEM_hotspot_recreated - DEM_hotspot_interpolated) < 1e-6) else \"not possible\"} to recreate DEM')"
   ]
  },
  {
   "attachments": {},
   "cell_type": "markdown",
   "id": "ccb3d15c",
   "metadata": {},
   "source": [
    "## Use the hotspot moment ranges to calculate all stress ranges"
   ]
  },
  {
   "cell_type": "code",
   "execution_count": 16,
   "id": "13f82546",
   "metadata": {},
   "outputs": [],
   "source": [
    "stress_ranges_unscaled = markov_hotspot[:, [0]] * top_boat_landing_geo['D'] / (2 * top_boat_landing_geo['I'])"
   ]
  },
  {
   "attachments": {},
   "cell_type": "markdown",
   "id": "48b0abbe",
   "metadata": {},
   "source": [
    "### Scale stress ranges according to SCF and effective thickness"
   ]
  },
  {
   "cell_type": "code",
   "execution_count": 24,
   "id": "03cd9aa2",
   "metadata": {},
   "outputs": [],
   "source": [
    "# Scale stress ranges according to SCF\n",
    "scf_factor = np.max(scf_sectors) # TODO solve this for the closest point at hotspot elevation\n",
    "alpha = top_boat_landing_geo['alpha']\n",
    "stress_ranges_scaled = stress_ranges_unscaled * scf_factor * alpha"
   ]
  },
  {
   "cell_type": "code",
   "execution_count": 188,
   "id": "d5ab366c",
   "metadata": {},
   "outputs": [
    {
     "name": "stdout",
     "output_type": "stream",
     "text": [
      "Total in-place damage of hotspot = 74.11 %\n",
      "This means that RULe damage is a factor 92.76 of report damage\n"
     ]
    }
   ],
   "source": [
    "# Use stress ranges in miner summation for damage (see reports)\n",
    "stress_ranges_MPa = stress_ranges_scaled / 1e6\n",
    "total_hotspot_counts = markov_hotspot[:, [1]] * T_lifetime\n",
    "stress_ranges_and_counts = np.hstack( (stress_ranges_MPa, total_hotspot_counts) )\n",
    "in_place_hotspot_utilization = curve.miner_sum(stress_ranges_and_counts) * DFF\n",
    "print(f'Total in-place damage of hotspot = {in_place_hotspot_utilization * 100.0:.2f} %')\n",
    "print(f'This means that RULe damage is a factor {in_place_hotspot_utilization / utilization_hotspot_report * 100:.2f} of report damage')"
   ]
  },
  {
   "cell_type": "code",
   "execution_count": null,
   "id": "cfe6c038",
   "metadata": {},
   "outputs": [],
   "source": []
  },
  {
   "attachments": {},
   "cell_type": "markdown",
   "id": "1618ef92",
   "metadata": {},
   "source": [
    "### Extra: recreating damage from the WTP report"
   ]
  },
  {
   "cell_type": "code",
   "execution_count": 67,
   "id": "af51ebc1",
   "metadata": {},
   "outputs": [],
   "source": [
    "tableE80 = pd.read_excel(fr'{os.getcwd()}\\unused\\tableE80.xlsx')"
   ]
  },
  {
   "cell_type": "code",
   "execution_count": 68,
   "id": "12cc4a7e",
   "metadata": {},
   "outputs": [],
   "source": [
    "comp_df = pd.DataFrame()\n",
    "comp_df[\"Smin\"] = tableE80[\"Smin,HS\"]\n",
    "comp_df[\"Smax\"] = tableE80[\"Smax,HS\"]\n",
    "comp_df[\"Srange\"] = tableE80[\"Srange,HS\"]\n",
    "comp_df[\"Smean\"] = (comp_df[\"Smin\"] + comp_df[\"Smax\"]) / 2\n",
    "comp_df[\"count\"] = tableE80[\"Nair\"]\n",
    "comp_df[\"D_table\"] = tableE80[\"Dair\"]"
   ]
  },
  {
   "cell_type": "code",
   "execution_count": 69,
   "id": "5112cf57",
   "metadata": {},
   "outputs": [],
   "source": [
    "def get_damage(stress_range, count):\n",
    "    return DFF * curve.miner_sum(np.array([[stress_range, count]])) "
   ]
  },
  {
   "cell_type": "code",
   "execution_count": 70,
   "id": "e938187c",
   "metadata": {},
   "outputs": [],
   "source": [
    "# Mean stress correction\n",
    "# uts = 420.0\n",
    "# comp_df[\"Srange_corr\"] = comp_df[\"Srange\"] * uts / (uts - comp_df[\"Smean\"])\n",
    "# comp_df[\"D_corr\"] = comp_df.apply(lambda row: get_damage(row[\"Srange_corr\"] * alpha, row[\"count\"]), axis=1)\n",
    "# comp_df[\"D_diff_corr\"] = ((comp_df[\"D_table\"] - comp_df[\"D_corr\"]) / comp_df[\"D_table\"] * 100).map(lambda x: f'{x:.2f} %')"
   ]
  },
  {
   "cell_type": "code",
   "execution_count": 86,
   "id": "4e363129",
   "metadata": {},
   "outputs": [
    {
     "name": "stdout",
     "output_type": "stream",
     "text": [
      "    Smin   Smax  Srange  Smean     count   D_table  D_recreated    D_diff D_diff_%\n",
      "0  83.96  84.55    0.59  84.25  1.10e+00  1.27e-16     1.25e-16  1.88e-18   1.48 %\n",
      "1 -29.73 -29.14    0.59 -29.44  4.32e+06  4.98e-10     4.92e-10  6.25e-12   1.25 %\n",
      "2  43.42  45.19    1.77  44.30  2.25e+05  6.30e-09     6.22e-09  7.81e-11   1.24 %\n",
      "3 -71.80 -70.03    1.77 -70.91  3.10e+05  8.68e-09     8.57e-09  1.05e-10   1.21 %\n",
      "4  -6.33  -3.38    2.95  -4.86  1.99e+05  7.18e-08     7.09e-08  8.98e-10   1.25 %\n",
      "     Smin   Smax  Srange  Smean  count   D_table  D_recreated    D_diff D_diff_%\n",
      "75 -69.39  35.10  104.49 -17.14    0.3  1.12e-06     1.11e-06  7.75e-09   0.69 %\n",
      "76 -69.27  41.13  110.39 -14.07    0.1  4.39e-07     4.37e-07  1.84e-09   0.42 %\n",
      "77 -69.74  47.74  117.48 -11.00    0.9  4.76e-06     4.74e-06  1.77e-08   0.37 %\n",
      "78 -73.87  51.87  125.74 -11.00    0.1  6.49e-07     6.46e-07  2.93e-09   0.45 %\n",
      "79 -89.34  61.20  150.54 -14.07    0.2  2.23e-06     2.22e-06  1.26e-08   0.57 %\n"
     ]
    }
   ],
   "source": [
    "comp_df[\"D_recreated\"] = comp_df.apply(lambda row: get_damage(row[\"Srange\"] * alpha, row[\"count\"]), axis=1)\n",
    "comp_df[\"D_diff\"] = (comp_df[\"D_table\"] - comp_df[\"D_recreated\"])\n",
    "comp_df[\"D_diff_%\"] = ((comp_df[\"D_table\"] - comp_df[\"D_recreated\"]) / comp_df[\"D_table\"] * 100).map(lambda x: f'{x:.2f} %')\n",
    "with pd.option_context('display.precision', 2):\n",
    "    print(comp_df.head())\n",
    "    print(comp_df.tail())"
   ]
  },
  {
   "attachments": {},
   "cell_type": "markdown",
   "id": "fa98ce19",
   "metadata": {},
   "source": [
    "### How much difference do we have, and where does it come from?"
   ]
  },
  {
   "cell_type": "code",
   "execution_count": 199,
   "id": "e9190582",
   "metadata": {},
   "outputs": [],
   "source": [
    "deviation_SN_damage = comp_df[\"D_recreated\"].sum() / comp_df[\"D_table\"].sum()"
   ]
  },
  {
   "cell_type": "code",
   "execution_count": 201,
   "id": "f2100e18",
   "metadata": {},
   "outputs": [
    {
     "name": "stdout",
     "output_type": "stream",
     "text": [
      "Trying to explain the deviation, we see a factor of 0.9382 underestimation coming from different DEM/markov, and on average a factor of 0.9926 underestimation ia SN differences\n",
      "The result is that RULe damage is a factor of 0.9382 * 0.9926 = 0.9312 of the report damage\n",
      "Hence, considering that the RULe damage for the hotspot was indeed a factor of 0.9276, the remaining unexplained damage is 0.3621 %\n"
     ]
    }
   ],
   "source": [
    "explainable_diff = fff**wohler_exp * deviation_SN_damage\n",
    "\n",
    "print(f'Trying to explain the deviation, we see a factor of {fff**wohler_exp:.4f} underestimation coming from different DEM/markov, and on average a factor of {deviation_SN_damage:.4f} underestimation ia SN differences')\n",
    "print(f'The result is that RULe damage is a factor of {fff**wohler_exp:.4f} * {deviation_SN_damage:.4f} = {fff**wohler_exp * deviation_SN_damage:.4f} of the report damage')\n",
    "\n",
    "remaining_diff = abs(explainable_diff - in_place_hotspot_utilization / utilization_hotspot_report)\n",
    "print(f'Hence, considering that the RULe damage for the hotspot was indeed a factor of {in_place_hotspot_utilization / utilization_hotspot_report:.4f}, the remaining unexplained damage is {remaining_diff*100:.4f} %')"
   ]
  },
  {
   "attachments": {},
   "cell_type": "markdown",
   "id": "13dbd74c",
   "metadata": {},
   "source": [
    "### Attempt of some recreation with our own cycles"
   ]
  },
  {
   "cell_type": "code",
   "execution_count": 73,
   "id": "8c27209b",
   "metadata": {},
   "outputs": [
    {
     "name": "stdout",
     "output_type": "stream",
     "text": [
      "163.97 Mcounts\n"
     ]
    }
   ],
   "source": [
    "n_bins = 80\n",
    "bins = np.linspace(0., markov_hotspot[:,0].max(), n_bins + 1)\n",
    "bins_midpoints = 0.5 * (bins[:-1] + bins[1:]) # this is why n_bins + 1 is passed to linspace\n",
    "bin_n, _ = np.histogram(markov_hotspot[:,0], bins = bins, range = None, weights = markov_hotspot[:,1])\n",
    "print(f'{bin_n.sum() / 1e6 * 25:.2f} Mcounts')\n",
    "binned_markov_hotspot = np.array([bins_midpoints, bin_n]).T"
   ]
  },
  {
   "cell_type": "code",
   "execution_count": 74,
   "id": "1c43d45b",
   "metadata": {},
   "outputs": [],
   "source": [
    "def human_format(num, pos):\n",
    "    magnitude = 0\n",
    "    while abs(num) >= 1000:\n",
    "        magnitude += 1\n",
    "        num /= 1000.0\n",
    "    # add more suffixes if you need them\n",
    "    return '%.2f%s' % (num, ['', 'K', 'M', 'G', 'T', 'P'][magnitude])\n",
    "\n",
    "def sci_format(num, pos):\n",
    "    magnitude = 0\n",
    "    while abs(num) >= 1000:\n",
    "        magnitude += 1\n",
    "        num /= 1000.0\n",
    "    # add more suffixes if you need them\n",
    "    return f\"{num:.2f} {['Nm', 'kNm', 'MNm', 'GNm'][magnitude]}\" # '%.2f%s' % (num, ['Nm', 'kNm', 'MNm', 'GNm'][magnitude])"
   ]
  },
  {
   "cell_type": "code",
   "execution_count": 75,
   "id": "2698de62",
   "metadata": {},
   "outputs": [
    {
     "data": {
      "image/png": "[encoded data removed]",
      "text/plain": [
       "<Figure size 1181.1x787.402 with 1 Axes>"
      ]
     },
     "metadata": {},
     "output_type": "display_data"
    }
   ],
   "source": [
    "ranges, counts = binned_markov_hotspot.T\n",
    "fig, ax = plt.subplots()\n",
    "plt.hist(bins[:-1], bins, weights=counts)\n",
    "plt.ylim((0, 20e3))\n",
    "plt.xlim((0, 2e8))\n",
    "import matplotlib.ticker as ticker\n",
    "ax.xaxis.set_major_formatter(ticker.FuncFormatter(lambda x, pos: sci_format(x,pos)))\n"
   ]
  },
  {
   "cell_type": "code",
   "execution_count": 76,
   "id": "b7770166",
   "metadata": {},
   "outputs": [],
   "source": [
    "S_test = curve.SN.fatigue_strength(N_equivalent)"
   ]
  },
  {
   "cell_type": "code",
   "execution_count": 77,
   "id": "65dd234a",
   "metadata": {},
   "outputs": [
    {
     "data": {
      "text/plain": [
       "52.642115454076695"
      ]
     },
     "execution_count": 77,
     "metadata": {},
     "output_type": "execute_result"
    }
   ],
   "source": [
    "S_test"
   ]
  },
  {
   "cell_type": "code",
   "execution_count": null,
   "id": "0d2c2295",
   "metadata": {},
   "outputs": [],
   "source": []
  }
 ],
 "metadata": {
  "kernelspec": {
   "display_name": "rule_env",
   "language": "python",
   "name": "python3"
  },
  "language_info": {
   "codemirror_mode": {
    "name": "ipython",
    "version": 3
   },
   "file_extension": ".py",
   "mimetype": "text/x-python",
   "name": "python",
   "nbconvert_exporter": "python",
   "pygments_lexer": "ipython3",
   "version": "3.9.13"
  },
  "vscode": {
   "interpreter": {
    "hash": "b2f02a6bcdb6e2756dc542ffef435407996729dba8ba9bc423703bb6f0b403f7"
   }
  }
 },
 "nbformat": 4,
 "nbformat_minor": 5
}
