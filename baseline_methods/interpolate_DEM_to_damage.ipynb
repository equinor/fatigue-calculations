{
 "cells": [
  {
   "cell_type": "code",
   "execution_count": 1,
   "id": "00f1137b",
   "metadata": {},
   "outputs": [],
   "source": [
    "%load_ext autoreload\n",
    "%autoreload 2"
   ]
  },
  {
   "cell_type": "code",
   "execution_count": 2,
   "id": "a812cce6",
   "metadata": {},
   "outputs": [],
   "source": [
    "from utils.SN_Curve import SN_Curve_qats\n",
    "from utils.create_geo_matrix import create_geo_matrix\n",
    "from utils.transformations import global_2_compass, compass_2_global\n",
    "import numpy as np\n",
    "import sys\n",
    "import pandas as pd\n",
    "import os\n",
    "from utils.get_scf_sector_list import get_scf_sector_list\n",
    "\n",
    "import matplotlib.pyplot as plt\n",
    "plt.rcParams[\"figure.figsize\"] = [30 / 2.54, 20 / 2.54]\n"
   ]
  },
  {
   "attachments": {},
   "cell_type": "markdown",
   "id": "17834acf",
   "metadata": {},
   "source": [
    "## Pre-define data paths etc."
   ]
  },
  {
   "cell_type": "code",
   "execution_count": 3,
   "id": "945e7eeb",
   "metadata": {},
   "outputs": [],
   "source": [
    "# Get relevant data_paths for DLC and simulation result files\n",
    "data_path              = fr'{os.getcwd()}\\data'\n",
    "geometry_file          = data_path +  r'\\DA_P53_CD.xlsx'\n",
    "point_angles  = [float(i) for i in range(0,359,15)] \n",
    "\n",
    "# Extract file for all DEM sums per geo, per elevation\n",
    "df_path= fr'{os.getcwd()}\\output\\python_combined_DEM.xlsx'\n",
    "df_xlsx = pd.read_excel(df_path)"
   ]
  },
  {
   "attachments": {},
   "cell_type": "markdown",
   "id": "9ceabb74",
   "metadata": {},
   "source": [
    "## Extract pre computed DEM data "
   ]
  },
  {
   "cell_type": "code",
   "execution_count": 56,
   "id": "ad267fac",
   "metadata": {},
   "outputs": [
    {
     "name": "stdout",
     "output_type": "stream",
     "text": [
      "[22.4   11.2    6.5    4.275]\n"
     ]
    }
   ],
   "source": [
    "# import json\n",
    "# with open(fr'{os.getcwd()}\\output\\python_combined_DEM.json') as json_file:\n",
    "#     DEM_data = json.load(json_file)\n",
    "\n",
    "geo_test_df = pd.read_excel(fr'{os.getcwd()}\\unused\\DA_P53_CD copy with extra geo.xlsx')\n",
    "top_boat_landing_geo = geo_test_df.iloc[0]\n",
    "test_elevation = top_boat_landing_geo['z']\n",
    "\n",
    "elevations = np.array([float(key) for key in (df_xlsx['mLat'].values)])\n",
    "dist = elevations - test_elevation\n",
    "\n",
    "print(elevations)\n",
    "\n",
    "assert (np.any(dist >= 0.)), 'Geo in question is above the highest node - invalid for interpolation'\n",
    "assert (np.any(dist < 0.)), 'Geo in question is below the lowest node - invalid for interpolation'"
   ]
  },
  {
   "cell_type": "code",
   "execution_count": 48,
   "id": "7967f092",
   "metadata": {},
   "outputs": [],
   "source": [
    "idx_above = np.ma.MaskedArray(dist, dist < 0.0).argmin() # mask out values below 0, and find the positive value closest to zero\n",
    "idx_below = np.ma.MaskedArray(dist, dist >= 0.0).argmax() # mask out values above 0, and find the negative value closest to zero\n",
    "elevation_above = (elevations[idx_above])\n",
    "elevation_below = (elevations[idx_below])"
   ]
  },
  {
   "cell_type": "code",
   "execution_count": 64,
   "id": "274d3732",
   "metadata": {},
   "outputs": [],
   "source": [
    "# Manually find DEM interpolated for 9.69 mLat by using manually chosen elevations\n",
    "above_DEM = np.array(df_xlsx.iloc[idx_above][1:]) # remove the mLat dimension of the DataFrame\n",
    "below_DEM = np.array(df_xlsx.iloc[idx_below][1:])\n",
    "\n",
    "# Linear interpol; DEM_i = DEM_below + [dy/dx] * dx = DEM_below + [(delta DEM above/below) / (delta elevation above/below) ] * (elevation geo i - elevation below) or DEM_below + interpol_factor * delta DEM\n",
    "interpol_factor = (test_elevation - elevation_below) / (elevation_above - elevation_below) \n",
    "DEM_sum = below_DEM + (above_DEM - below_DEM) * interpol_factor\n",
    "verify_df = pd.DataFrame(data=np.hstack((above_DEM.reshape(-1,1), DEM_sum.reshape(-1,1), below_DEM.reshape(-1,1))), columns = ['Above DEM','Interpol DEM','Below DEM'])\n",
    "# print(verify_df)"
   ]
  },
  {
   "cell_type": "code",
   "execution_count": 50,
   "id": "24415ccf",
   "metadata": {},
   "outputs": [
    {
     "name": "stdout",
     "output_type": "stream",
     "text": [
      "[180.0, 166.7, 150.0, 133.3, 120.0, 105.0, 90.0, 75.0, 60.0, 45.0, 30.0, 15.0, 0.0, 345.0, 330.0, 315.0, 300.0, 285.0, 270.0, 255.0, 240.0, 225.0, 210.0, 195.0]\n",
      "[1.0, 1.502, 1.0, 1.502, 1.0, 1.0, 1.0, 1.0, 1.0, 1.0, 1.0, 1.0, 1.0, 1.0, 1.0, 1.0, 1.0, 1.0, 1.0, 1.0, 1.0, 1.0, 1.0, 1.0]\n",
      "[0.0, 13.300000000000011, 30.0, 46.69999999999999, 60.0, 75.0, 90.0, 105.0, 120.0, 135.0, 150.0, 165.0, 180.0, 195.0, 210.0, 225.0, 240.0, 255.0, 270.0, 285.0, 300.0, 315.0, 330.0, 345.0]\n"
     ]
    }
   ],
   "source": [
    "# Translate the angles to compass angles to align with given SCF factor\n",
    "ang = [float(key) for key in df_xlsx.iloc[idx_above][1:].keys()]\n",
    "compass = global_2_compass(ang)\n",
    "\n",
    "adjusted_compass_angles, scf_sectors = get_scf_sector_list(top_boat_landing_geo, compass)\n",
    "\n",
    "print(adjusted_compass_angles)\n",
    "print(scf_sectors)\n",
    "\n",
    "ang_back = compass_2_global(adjusted_compass_angles)\n",
    "print(ang_back)\n"
   ]
  },
  {
   "cell_type": "code",
   "execution_count": 51,
   "id": "1ec44db6",
   "metadata": {},
   "outputs": [],
   "source": [
    "# Using the compass angle frame, maybe interpolate angle wise?\n",
    "T_lifetime = 25.0\n",
    "N_equivalent = 10.0**7\n",
    "wohler_exp = 5.0\n",
    "curve = SN_Curve_qats('D')\n",
    "DFF = 3.0"
   ]
  },
  {
   "cell_type": "code",
   "execution_count": 68,
   "id": "5336ede3",
   "metadata": {},
   "outputs": [
    {
     "name": "stdout",
     "output_type": "stream",
     "text": [
      "1.0135307811360146\n",
      "1.0260655273854047\n"
     ]
    }
   ],
   "source": [
    "DEM_tot = ((T_lifetime / N_equivalent * DEM_sum)**(1 / wohler_exp)).max()\n",
    "# print(DEM_tot / 10**6)\n",
    "\n",
    "DEM_tot_above = ((T_lifetime / N_equivalent * above_DEM)**(1 / wohler_exp)).max()\n",
    "DEM_tot_below = ((T_lifetime / N_equivalent * below_DEM)**(1 / wohler_exp)).max()\n",
    "\n",
    "print(DEM_tot / DEM_tot_above)\n",
    "print(1 / DEM_tot / DEM_tot_below)"
   ]
  },
  {
   "cell_type": "code",
   "execution_count": 53,
   "id": "d5ab366c",
   "metadata": {},
   "outputs": [],
   "source": [
    "# Translate to stress\n",
    "D = top_boat_landing_geo['od']\n",
    "t = top_boat_landing_geo['wt'] / 1000.0\n",
    "I = np.pi / 64.0 * (D**4 - (D - 2*t)**4)\n",
    "S_eq = DEM_tot * D / (2 * I)\n",
    "S_hs = np.multiply(S_eq, scf_sectors) # elementwise scale stress with SCF"
   ]
  },
  {
   "cell_type": "code",
   "execution_count": 55,
   "id": "4bc50357",
   "metadata": {},
   "outputs": [
    {
     "name": "stdout",
     "output_type": "stream",
     "text": [
      "Max DEM = 97.8 MNm found at 166.7 degN\n",
      "Max S_eq before SCF = 24.2 MPa found at 166.7 degN\n",
      "Max S_eq with SCF 36.3 MPa found at 166.7 degN\n",
      "Damage = DFF * (N * S^m / a) = 46.92 %\n"
     ]
    }
   ],
   "source": [
    "print(f'Max DEM = {DEM_tot.max() / 10**6:.1f} MNm found at {adjusted_compass_angles[DEM_tot.argmax()]:.1f} degN')\n",
    "print(f'Max S_eq before SCF = {S_eq.max() / 10**6:.1f} MPa found at {adjusted_compass_angles[S_eq.argmax()]:.1f} degN')\n",
    "print(f'Max S_eq with SCF {S_hs.max() / 10**6:.1f} MPa found at {adjusted_compass_angles[S_hs.argmax()]:.1f} degN')\n",
    "# print(f'Damage = DFF * (N * S^m / a) = {(curve.miner_sum(np.array([[S_hs.max() / 10**6, N_equivalent]])) * DFF) * 100.0 :.2f} %')"
   ]
  }
 ],
 "metadata": {
  "kernelspec": {
   "display_name": "rule_env",
   "language": "python",
   "name": "python3"
  },
  "language_info": {
   "codemirror_mode": {
    "name": "ipython",
    "version": 3
   },
   "file_extension": ".py",
   "mimetype": "text/x-python",
   "name": "python",
   "nbconvert_exporter": "python",
   "pygments_lexer": "ipython3",
   "version": "3.9.13"
  },
  "vscode": {
   "interpreter": {
    "hash": "b2f02a6bcdb6e2756dc542ffef435407996729dba8ba9bc423703bb6f0b403f7"
   }
  }
 },
 "nbformat": 4,
 "nbformat_minor": 5
}
