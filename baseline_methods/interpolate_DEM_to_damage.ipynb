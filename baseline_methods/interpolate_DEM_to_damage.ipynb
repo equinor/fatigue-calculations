{
 "cells": [
  {
   "cell_type": "code",
   "execution_count": 1,
   "id": "00f1137b",
   "metadata": {},
   "outputs": [],
   "source": [
    "%load_ext autoreload\n",
    "%autoreload 2"
   ]
  },
  {
   "cell_type": "code",
   "execution_count": 2,
   "id": "a812cce6",
   "metadata": {},
   "outputs": [],
   "source": [
    "from utils.SN_Curve import SN_Curve_qats\n",
    "from utils.create_geo_matrix import create_geo_matrix\n",
    "from utils.transformations import global_2_compass, compass_2_global\n",
    "import numpy as np\n",
    "import sys\n",
    "import pandas as pd\n",
    "import os\n",
    "from utils.get_scf_sector_list import get_scf_sector_list\n",
    "\n",
    "import matplotlib.pyplot as plt\n",
    "plt.rcParams[\"figure.figsize\"] = [30 / 2.54, 20 / 2.54]\n"
   ]
  },
  {
   "attachments": {},
   "cell_type": "markdown",
   "id": "17834acf",
   "metadata": {},
   "source": [
    "### Pre-define data paths etc."
   ]
  },
  {
   "cell_type": "code",
   "execution_count": 3,
   "id": "945e7eeb",
   "metadata": {},
   "outputs": [],
   "source": [
    "# Get relevant data_paths for DLC and simulation result files\n",
    "data_path              = fr'{os.getcwd()}\\data'\n",
    "geometry_file          = data_path +  r'\\DA_P53_CD.xlsx'\n",
    "point_angles  = [float(i) for i in range(0,359,15)] \n",
    "\n",
    "# Extract file for all DEM sums per geo, per elevation\n",
    "DEM_data_path = fr'{os.getcwd()}\\output\\python_combined_DEM.xlsx'\n",
    "df_xlsx = pd.read_excel(DEM_data_path)"
   ]
  },
  {
   "cell_type": "code",
   "execution_count": 4,
   "id": "6f8d5c3b",
   "metadata": {},
   "outputs": [],
   "source": [
    "geo_test_df = pd.read_excel(fr'{os.getcwd()}\\unused\\DA_P53_CD copy with extra geo.xlsx')\n",
    "top_boat_landing_geo = geo_test_df.iloc[0]\n",
    "elevation_boat_landing = top_boat_landing_geo['z']"
   ]
  },
  {
   "cell_type": "code",
   "execution_count": 5,
   "id": "579486f8",
   "metadata": {},
   "outputs": [],
   "source": [
    "# Translate the angles to compass angles to align with given SCF factor\n",
    "global_angles = [float(key) for key in df_xlsx.iloc[0][1:].keys()] # 1: due to element 0 being 'mLat'\n",
    "compass_angles = global_2_compass(global_angles)\n",
    "adjusted_compass_angles, scf_sectors = get_scf_sector_list(top_boat_landing_geo, compass_angles)\n",
    "adjusted_global_angles = compass_2_global(adjusted_compass_angles)\n",
    "\n",
    "validate_df = pd.DataFrame(data=np.hstack((np.array([adjusted_compass_angles]).reshape(-1,1), \n",
    "                                np.array([scf_sectors]).reshape(-1,1), \n",
    "                                np.array([adjusted_global_angles]).reshape(-1,1))), \n",
    "                                columns = ['Adjusted compass angles', 'SCF','Adjusted global angles'])\n",
    "\n",
    "# print(validate_df)\n",
    "# print(40*'-')"
   ]
  },
  {
   "attachments": {},
   "cell_type": "markdown",
   "id": "9ceabb74",
   "metadata": {},
   "source": [
    "### Extract pre computed DEM data - use boat landing geometry - find elevations of nodes above and below boat landing"
   ]
  },
  {
   "cell_type": "code",
   "execution_count": 6,
   "id": "ad267fac",
   "metadata": {},
   "outputs": [],
   "source": [
    "# import json\n",
    "# with open(fr'{os.getcwd()}\\output\\python_combined_DEM.json') as json_file:\n",
    "#     DEM_data = json.load(json_file)\n",
    "'''\n",
    "The goal here is for this script to be independent of the geometries that were used during the initial DEM-sum calculations\n",
    "'''\n",
    "elevations = np.array([float(key) for key in (df_xlsx['mLat'].values)])\n",
    "dist = elevations - elevation_boat_landing\n",
    "\n",
    "assert (np.any(dist >= 0.)), 'Geo in question is above the highest node - invalid for interpolation'\n",
    "assert (np.any(dist < 0.)), 'Geo in question is below the lowest node - invalid for interpolation'"
   ]
  },
  {
   "cell_type": "code",
   "execution_count": 7,
   "id": "7967f092",
   "metadata": {},
   "outputs": [
    {
     "name": "stdout",
     "output_type": "stream",
     "text": [
      "The nodes from the DEM calculation closest to boat landing at 9.69 mLat is \n",
      "11.20 @ mLat above \n",
      "6.50 @ mLat below\n",
      "The closest of elevations is 11.2, above the boat landing\n"
     ]
    }
   ],
   "source": [
    "idx_above = np.ma.MaskedArray(dist, dist < 0.0).argmin() # mask out values below 0, and find the positive value closest to zero\n",
    "idx_below = np.ma.MaskedArray(dist, dist >= 0.0).argmax() # mask out values above 0, and find the negative value closest to zero\n",
    "idx_closest = np.abs(dist).argmin()\n",
    "\n",
    "elevation_above = elevations[idx_above]\n",
    "elevation_below = elevations[idx_below]\n",
    "elevation_closest = elevations[idx_closest]\n",
    "                             \n",
    "print(f'The nodes from the DEM calculation closest to boat landing at {elevation_boat_landing:.2f} mLat is \\n{elevation_above:.2f} @ mLat above \\n{elevation_below:.2f} @ mLat below')\n",
    "closest_is_above = elevation_closest > elevation_boat_landing\n",
    "print(f'The closest of elevations is {elevation_closest}, {\"above\" if closest_is_above else \"below\"} the boat landing')"
   ]
  },
  {
   "attachments": {},
   "cell_type": "markdown",
   "id": "f481ed77",
   "metadata": {},
   "source": [
    "### Extract DEM from the neighbouring elevations"
   ]
  },
  {
   "cell_type": "code",
   "execution_count": 8,
   "id": "274d3732",
   "metadata": {},
   "outputs": [],
   "source": [
    "# Manually find DEM interpolated for 9.69 mLat by using manually chosen elevations\n",
    "above_DEM = np.array(df_xlsx.iloc[idx_above][1:]) # remove the mLat dimension of the DataFrame - this will be a np.array with DEM for all (24) sectors\n",
    "below_DEM = np.array(df_xlsx.iloc[idx_below][1:])\n",
    "\n",
    "# Linear interpol; DEM_i = DEM_below + [dy/dx] * dx = DEM_below + [(delta DEM above/below) / (delta elevation above/below) ] * (elevation geo i - elevation below) or DEM_below + interpol_factor * delta DEM\n",
    "interpol_factor = (elevation_boat_landing - elevation_below) / (elevation_above - elevation_below) \n",
    "DEM_boat_landing = below_DEM + (above_DEM - below_DEM) * interpol_factor\n",
    "\n",
    "# Visualize result of interpolation\n",
    "# pd.DataFrame(data=np.hstack((above_DEM.reshape(-1,1), DEM_boat_landing.reshape(-1,1), below_DEM.reshape(-1,1))), columns = ['Above DEM','Interpol DEM','Below DEM'])"
   ]
  },
  {
   "attachments": {},
   "cell_type": "markdown",
   "id": "b5d51573",
   "metadata": {},
   "source": [
    "## Use the interpolated DEM to calculate the factor to scale moment ranges with accordingly"
   ]
  },
  {
   "cell_type": "code",
   "execution_count": 9,
   "id": "1ec44db6",
   "metadata": {},
   "outputs": [],
   "source": [
    "# Define DEM variables\n",
    "T_lifetime = 25.0\n",
    "N_equivalent = 1e7\n",
    "wohler_exp = 5.0\n",
    "curve = SN_Curve_qats('D')\n",
    "DFF = 3.0"
   ]
  },
  {
   "cell_type": "code",
   "execution_count": 10,
   "id": "5336ede3",
   "metadata": {},
   "outputs": [],
   "source": [
    "# Calculate DEM for above, current and below elevations, for all sectors\n",
    "DEM_boat_landing_tot = ((T_lifetime / N_equivalent * DEM_boat_landing)**(1 / wohler_exp))\n",
    "DEM_above_tot = ((T_lifetime / N_equivalent * above_DEM)**(1 / wohler_exp))\n",
    "DEM_below_tot = ((T_lifetime / N_equivalent * below_DEM)**(1 / wohler_exp))"
   ]
  },
  {
   "cell_type": "code",
   "execution_count": 48,
   "id": "bf2bfe2f",
   "metadata": {},
   "outputs": [
    {
     "name": "stdout",
     "output_type": "stream",
     "text": [
      "DEM relationships\n",
      "From reports: above vs. hotspot = 99.0 / 98.2 = 1.008147 --- too much rounded\n",
      "Above : 1.0135489275462832 at ang 0.0 / 180.0 degN\n",
      "Below : 0.9746573802655233 at ang 90.0 / 90.0 degN\n",
      "Chosing factor 1.0135489275462832 for above\n"
     ]
    }
   ],
   "source": [
    "# Store the relationsships\n",
    "print(f'DEM relationships')\n",
    "print(f'From reports: above vs. hotspot = 99.0 / 98.2 = {99.0 / 98.2:.6f} --- too much rounded')\n",
    "M_scf_M_above = np.array(DEM_boat_landing_tot / DEM_above_tot)\n",
    "f_scf_vs_above = M_scf_M_above.max()\n",
    "print(f'Above : {f_scf_vs_above} at ang {global_angles[ M_scf_M_above.argmax() ]} / {compass_angles[M_scf_M_above.argmax()]} degN')\n",
    "M_scf_M_below = np.array(DEM_boat_landing_tot / DEM_below_tot)\n",
    "f_scf_vs_below = M_scf_M_below.max()\n",
    "print(f'Below : {f_scf_vs_below} at ang {global_angles[ M_scf_M_below.argmax() ] } / {compass_angles[M_scf_M_below.argmax()]} degN')\n",
    "\n",
    "M_factor = f_scf_vs_above if closest_is_above else f_scf_vs_below\n",
    "print(f'Chosing factor {M_factor} for {\"above\" if closest_is_above else \"below\"}')\n",
    "M_factor_ang_idx = M_scf_M_above.argmax() if closest_is_above else M_scf_M_below.argmax()\n"
   ]
  },
  {
   "attachments": {},
   "cell_type": "markdown",
   "id": "381c5c0f",
   "metadata": {},
   "source": [
    "### Load the markov matrices with moment ranges and counts"
   ]
  },
  {
   "cell_type": "code",
   "execution_count": 12,
   "id": "fbfae430",
   "metadata": {},
   "outputs": [
    {
     "name": "stdout",
     "output_type": "stream",
     "text": [
      "Some stats about the reference markov matrix:\n",
      "Number of included bins: 76563\n",
      "Total counts: 761796.030342383\n",
      "Moment ranges: [[  0.18034802]\n",
      " [  0.54104405]\n",
      " [  0.90174008]\n",
      " ...\n",
      " [107.10550772]\n",
      " [109.75008816]\n",
      " [112.39466859]] \n"
     ]
    }
   ],
   "source": [
    "# Load the markov matrices\n",
    "import json\n",
    "markov_file_path = fr'{os.getcwd()}\\output' + fr'\\total_markov.json'\n",
    "with open(markov_file_path, 'r') as f:\n",
    "    df_markov = pd.DataFrame.from_dict(json.load(f))\n",
    "\n",
    "cols = np.array([float(v) for v in df_markov.columns.values])\n",
    "reference_elevation = elevation_above if closest_is_above else elevation_below\n",
    "markov_column_idx_reference_elevation = (cols == reference_elevation).nonzero()[0][0]\n",
    "\n",
    "df_markov_reference = df_markov[str(cols[markov_column_idx_reference_elevation])]\n",
    "markov_reference_point_ranges = np.array(df_markov_reference[str(M_factor_ang_idx)]) * 1.01 # 1 percent scaling due to pre and post ops\n",
    "\n",
    "print('Some stats about the reference markov matrix:')\n",
    "print(f'Number of included bins: {markov_reference_point_ranges.shape[0]}')\n",
    "print(f'Total counts: {markov_reference_point_ranges[:, 1].sum()}')\n",
    "print(f'Moment ranges: {markov_reference_point_ranges[:, [0]] / 10**6} ')\n",
    "\n",
    "M_eq_recreated = ( T_lifetime / N_equivalent * ((markov_reference_point_ranges[:,[0]].T)**wohler_exp).dot(markov_reference_point_ranges[:,[1]]) )**(1 / 5.0)\n",
    "\n",
    "print(f'Recreated DEM for m = 5: {M_eq_recreated / 10**6 :.2f} MNm')"
   ]
  },
  {
   "attachments": {},
   "cell_type": "markdown",
   "id": "87e1f65d",
   "metadata": {},
   "source": [
    "### Rescale the moment ranges for the nearest hotspot according to the DEM relation, and find corresponding stress ranges"
   ]
  },
  {
   "cell_type": "code",
   "execution_count": 34,
   "id": "034eb261",
   "metadata": {},
   "outputs": [
    {
     "name": "stdout",
     "output_type": "stream",
     "text": [
      "[  0.18526817   0.5558045    0.92634084 ... 110.02749897 112.74422734\n",
      " 115.46095571]\n"
     ]
    }
   ],
   "source": [
    "# Scale all moment ranges per sector according to relationships calculated above, or just one single factor determined by DEM max. Test below, above and closest\n",
    "markov_reference_point_ranges[:, 0] *= M_factor\n",
    "\n",
    "print(markov_reference_point_ranges[:, 0] / 10**6)"
   ]
  },
  {
   "cell_type": "code",
   "execution_count": 35,
   "id": "3f451ef9",
   "metadata": {},
   "outputs": [],
   "source": [
    "# Use moment ranges to calculate stress ranges\n",
    "D = top_boat_landing_geo['od']\n",
    "t = top_boat_landing_geo['wt'] / 1000.0\n",
    "I = np.pi / 64.0 * (D**4 - (D - 2*t)**4)\n",
    "\n",
    "stress_ranges = markov_reference_point_ranges[:, [0]] * D / (2 * I)"
   ]
  },
  {
   "cell_type": "code",
   "execution_count": 36,
   "id": "3fa6e073",
   "metadata": {},
   "outputs": [
    {
     "name": "stdout",
     "output_type": "stream",
     "text": [
      "[[ 0.06881183]\n",
      " [ 0.20643548]\n",
      " [ 0.34405913]\n",
      " ...\n",
      " [40.8661309 ]\n",
      " [41.87517117]\n",
      " [42.88421144]]\n"
     ]
    }
   ],
   "source": [
    "# Scale stress ranges according to SCF\n",
    "scf_factor = np.max(scf_sectors)\n",
    "stress_ranges *= scf_factor\n",
    "stress_ranges_MPa = stress_ranges / 10**6\n",
    "print(stress_ranges_MPa)"
   ]
  },
  {
   "cell_type": "code",
   "execution_count": 47,
   "id": "d5ab366c",
   "metadata": {},
   "outputs": [
    {
     "name": "stdout",
     "output_type": "stream",
     "text": [
      "Total damage = 2.15e-02 %\n"
     ]
    }
   ],
   "source": [
    "# Use stress ranges in miner summation for damage (see reports)\n",
    "stress_ranges_and_counts = np.hstack( (stress_ranges_MPa, markov_reference_point_ranges[:,[1]] ))\n",
    "D = curve.miner_sum(np.array([[95.05, 122.0]])) * DFF\n",
    "print(f'Total damage = {D * 100.0:.2e} %')"
   ]
  },
  {
   "cell_type": "code",
   "execution_count": 28,
   "id": "68a7d14a",
   "metadata": {},
   "outputs": [],
   "source": [
    "# Translate to stress through the \"equivalent validation method\"\n",
    "# Note that this is not working for our hotspots of interest\n"
   ]
  },
  {
   "cell_type": "code",
   "execution_count": null,
   "id": "4bc50357",
   "metadata": {},
   "outputs": [],
   "source": []
  },
  {
   "attachments": {},
   "cell_type": "markdown",
   "id": "b5a79e87",
   "metadata": {},
   "source": [
    "### Old stats"
   ]
  },
  {
   "cell_type": "code",
   "execution_count": 18,
   "id": "24ea55e5",
   "metadata": {},
   "outputs": [
    {
     "name": "stdout",
     "output_type": "stream",
     "text": [
      "Max DEM = 97.8 MNm found at 166.7 degN\n",
      "Max S_eq before SCF = 24.2 MPa found at 166.7 degN\n",
      "Max S_eq with SCF 36.3 MPa found at 166.7 degN\n"
     ]
    }
   ],
   "source": [
    "# Translate to stress through the \"equivalent validation method\"\n",
    "# Note that this is not working for our hotspots of interest\n",
    "D = top_boat_landing_geo['od']\n",
    "t = top_boat_landing_geo['wt'] / 1000.0\n",
    "I = np.pi / 64.0 * (D**4 - (D - 2*t)**4)\n",
    "S_eq = DEM_boat_landing_tot * D / (2 * I)\n",
    "S_hs = np.multiply(S_eq, scf_sectors) # elementwise scale stress with SCF\n",
    "\n",
    "print(f'Max DEM = {DEM_boat_landing_tot.max() / 10**6:.1f} MNm found at {adjusted_compass_angles[DEM_boat_landing_tot.argmax()]:.1f} degN')\n",
    "print(f'Max S_eq before SCF = {S_eq.max() / 10**6:.1f} MPa found at {adjusted_compass_angles[S_eq.argmax()]:.1f} degN')\n",
    "print(f'Max S_eq with SCF {S_hs.max() / 10**6:.1f} MPa found at {adjusted_compass_angles[S_hs.argmax()]:.1f} degN')"
   ]
  },
  {
   "cell_type": "code",
   "execution_count": null,
   "id": "0d17a021",
   "metadata": {},
   "outputs": [],
   "source": []
  },
  {
   "cell_type": "code",
   "execution_count": null,
   "id": "8fea1f80",
   "metadata": {},
   "outputs": [],
   "source": []
  }
 ],
 "metadata": {
  "kernelspec": {
   "display_name": "rule_env",
   "language": "python",
   "name": "python3"
  },
  "language_info": {
   "codemirror_mode": {
    "name": "ipython",
    "version": 3
   },
   "file_extension": ".py",
   "mimetype": "text/x-python",
   "name": "python",
   "nbconvert_exporter": "python",
   "pygments_lexer": "ipython3",
   "version": "3.9.13"
  },
  "vscode": {
   "interpreter": {
    "hash": "b2f02a6bcdb6e2756dc542ffef435407996729dba8ba9bc423703bb6f0b403f7"
   }
  }
 },
 "nbformat": 4,
 "nbformat_minor": 5
}
