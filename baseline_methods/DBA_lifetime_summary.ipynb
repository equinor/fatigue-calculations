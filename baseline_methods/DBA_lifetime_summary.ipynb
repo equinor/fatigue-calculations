{
 "cells": [
  {
   "cell_type": "code",
   "execution_count": 90,
   "id": "00f1137b",
   "metadata": {},
   "outputs": [
    {
     "name": "stdout",
     "output_type": "stream",
     "text": [
      "The autoreload extension is already loaded. To reload it, use:\n",
      "  %reload_ext autoreload\n"
     ]
    }
   ],
   "source": [
    "%load_ext autoreload\n",
    "%autoreload 2"
   ]
  },
  {
   "attachments": {},
   "cell_type": "markdown",
   "id": "aaaf54fc",
   "metadata": {},
   "source": [
    "## Note to visualize and compare the estimated lifetimes for DBA turbines from the RULe method's fatigue tables vs. structural reports"
   ]
  },
  {
   "cell_type": "code",
   "execution_count": 91,
   "id": "2522e445",
   "metadata": {},
   "outputs": [],
   "source": [
    "import pandas as pd\n",
    "import plotly.express as px\n",
    "import plotly.graph_objects as go\n",
    "from utils.setup_custom_logger import setup_custom_logger\n",
    "import os \n",
    "import numpy as np\n",
    "import matplotlib.pyplot as plt\n",
    "plt.rcParams[\"figure.figsize\"] = [30 / 2.54, 20 / 2.54]\n",
    "pd.set_option('display.width', 1000) # Print columns wider\n",
    "pd.set_option('display.max_rows', 500) # Print more rows"
   ]
  },
  {
   "attachments": {},
   "cell_type": "markdown",
   "id": "38ae558b",
   "metadata": {},
   "source": [
    "Requirements: all other scripts has to be run including the storage parameters as True"
   ]
  },
  {
   "cell_type": "code",
   "execution_count": 92,
   "id": "65db461d",
   "metadata": {},
   "outputs": [],
   "source": [
    "logger = setup_custom_logger('lifetime_summary')    \n",
    "res_base_dir = os.path.join(os.getcwd(), \"output\", \"all_turbines\")\n",
    "df = pd.read_excel(os.path.join(res_base_dir, 'all_lifetimes_from_fatigue_tables.xlsx'), index_col = None) # remove _fromjson if necessary"
   ]
  },
  {
   "cell_type": "code",
   "execution_count": 93,
   "id": "e3e69b47",
   "metadata": {},
   "outputs": [
    {
     "name": "stdout",
     "output_type": "stream",
     "text": [
      "         turbine_name  lifetime\n",
      "cluster                        \n",
      "JLN                26        26\n",
      "JLO                47        47\n",
      "JLP                22        22\n",
      "cluster\n",
      "JLN    34.400958\n",
      "JLO    33.548858\n",
      "JLP    47.470156\n",
      "Name: lifetime, dtype: float64\n",
      "cluster\n",
      "JLN    34.400958\n",
      "JLO    29.434783\n",
      "JLP    44.466338\n",
      "Name: lifetime, dtype: float64\n",
      "cluster\n",
      "JLN    34.400958\n",
      "JLO    33.691951\n",
      "JLP    56.752639\n",
      "Name: lifetime, dtype: float64\n"
     ]
    }
   ],
   "source": [
    "print(df.groupby('cluster').count())\n",
    "print(df.groupby('cluster')['lifetime'].mean())\n",
    "print(df.groupby('cluster')['lifetime'].min())\n",
    "print(df.groupby('cluster')['lifetime'].max())"
   ]
  },
  {
   "cell_type": "code",
   "execution_count": 94,
   "id": "f62e1716",
   "metadata": {},
   "outputs": [
    {
     "data": {
      "application/vnd.jupyter.widget-view+json": {
       "model_id": "e7733906201c455c8919c1d5cbf5c765",
       "version_major": 2,
       "version_minor": 0
      },
      "text/plain": [
       "FigureWidget({\n",
       "    'data': [{'name': 'Intermediate',\n",
       "              'opacity': 0.8,\n",
       "              'type': 'histogram',\n",
       "              'uid': 'ea51d10a-a94c-42d1-bc03-033519a61e17',\n",
       "              'x': array([33.6919512 , 33.6919512 , 33.6919512 , 33.6919512 , 33.6919512 ,\n",
       "                          33.6919512 , 33.6919512 , 33.6919512 , 33.6919512 , 31.9716647 ,\n",
       "                          33.6919512 , 33.6919512 , 33.6919512 , 33.6919512 , 33.6919512 ,\n",
       "                          33.6919512 , 33.6919512 , 33.6919512 , 33.6919512 , 33.6919512 ,\n",
       "                          33.6919512 , 33.6919512 , 33.6919512 , 33.6919512 , 33.6919512 ,\n",
       "                          33.6919512 , 33.6919512 , 33.6919512 , 33.6919512 , 33.6919512 ,\n",
       "                          33.6919512 , 33.6919512 , 33.6919512 , 33.6919512 , 33.6919512 ,\n",
       "                          33.6919512 , 33.6919512 , 33.6919512 , 33.6919512 , 33.6919512 ,\n",
       "                          33.6919512 , 32.94403893, 33.6919512 , 33.6919512 , 33.6919512 ,\n",
       "                          29.43478261, 33.6919512 ])},\n",
       "             {'name': 'Deep',\n",
       "              'opacity': 0.8,\n",
       "              'type': 'histogram',\n",
       "              'uid': 'e47583b6-54ce-4bc0-af1c-50d03c637d14',\n",
       "              'x': array([34.40095837, 34.40095837, 34.40095837, 34.40095837, 34.40095837,\n",
       "                          34.40095837, 34.40095837, 34.40095837, 34.40095837, 34.40095837,\n",
       "                          34.40095837, 34.40095837, 34.40095837, 34.40095837, 34.40095837,\n",
       "                          34.40095837, 34.40095837, 34.40095837, 34.40095837, 34.40095837,\n",
       "                          34.40095837, 34.40095837, 34.40095837, 34.40095837, 34.40095837,\n",
       "                          34.40095837])},\n",
       "             {'name': 'Shallow',\n",
       "              'opacity': 0.8,\n",
       "              'type': 'histogram',\n",
       "              'uid': 'e599c34b-fa99-4207-93c6-624ffe82a6f6',\n",
       "              'x': array([45.43624161, 46.68965517, 46.75308063, 47.92920354, 44.46633826,\n",
       "                          46.2116041 , 47.09565217, 45.28428094, 56.75263872, 47.2600349 ,\n",
       "                          46.68965517, 46.60929432, 47.59226714, 46.99236326, 46.60929432,\n",
       "                          52.17726397, 46.29059829, 48.09946714, 46.60929432, 47.84452297,\n",
       "                          48.09946714, 46.85121107])}],\n",
       "    'layout': {'barmode': 'stack',\n",
       "               'template': '...',\n",
       "               'title': {'text': ('Fatigue lifetime distribution ' ... ' to RULe fatigue lookup tables')},\n",
       "               'xaxis': {'range': [23, 62], 'title': {'text': 'Years'}},\n",
       "               'yaxis': {'title': {'text': 'Counts'}}}\n",
       "})"
      ]
     },
     "execution_count": 94,
     "metadata": {},
     "output_type": "execute_result"
    }
   ],
   "source": [
    "fig1_w = go.FigureWidget()\n",
    "fig1_w.layout = go.Layout(xaxis=dict(range=[int(df['lifetime'].min() * 0.8), int(df['lifetime'].max() * 1.1)]), title='Fatigue lifetime distribution of Dogger Bank A turbines according to RULe fatigue lookup tables', xaxis_title='Years', yaxis_title='Counts')\n",
    "fig1_w.add_trace(go.Histogram(x = df[df['cluster'] == 'JLO']['lifetime'], opacity=0.8, name='Intermediate'))\n",
    "fig1_w.add_trace(go.Histogram(x = df[df['cluster'] == 'JLN']['lifetime'], opacity=0.8, name='Deep'))\n",
    "fig1_w.add_trace(go.Histogram(x = df[df['cluster'] == 'JLP']['lifetime'], opacity=0.8, name='Shallow'))\n",
    "fig1_w.update_layout(barmode='stack')"
   ]
  },
  {
   "cell_type": "code",
   "execution_count": 95,
   "id": "27a11f0a",
   "metadata": {},
   "outputs": [],
   "source": [
    "df_report = pd.read_excel( os.path.join(res_base_dir, 'structural_report_inplace_lifetimes.xlsx'), index_col=None) # reported worst in place util"
   ]
  },
  {
   "cell_type": "code",
   "execution_count": 96,
   "id": "b19dba55",
   "metadata": {},
   "outputs": [],
   "source": [
    "df_report_Dd_tot = pd.read_excel( os.path.join(res_base_dir, 'structural_report_Dd_tot_lifetimes.xlsx'), index_col=None) # reported worst Dd tot util"
   ]
  },
  {
   "cell_type": "code",
   "execution_count": 97,
   "id": "04634bb8",
   "metadata": {},
   "outputs": [
    {
     "data": {
      "text/plain": [
       "Index(['turbine_name', 'cluster', 'elevation', 'in_out', 'description', 'in_place_utilization', 'lifetime', 'lookup_table_lifetime'], dtype='object')"
      ]
     },
     "execution_count": 97,
     "metadata": {},
     "output_type": "execute_result"
    }
   ],
   "source": [
    "new_df = pd.DataFrame()\n",
    "\n",
    "for name in df['turbine_name']:\n",
    "    reported_elevation = df_report[df_report['turbine_name'] == name].copy()\n",
    "    reported_elevation['lookup_table_lifetime'] = float(df[df['turbine_name'] == name]['lifetime'])\n",
    "    new_df = pd.concat( [new_df, reported_elevation] )\n",
    "    \n",
    "new_df.columns"
   ]
  },
  {
   "cell_type": "code",
   "execution_count": 98,
   "id": "5d5d2803",
   "metadata": {},
   "outputs": [],
   "source": [
    "def identify_subseabed_points(descr):\n",
    "    if 'CW' in descr:\n",
    "        n = int(descr.split('CW-')[1])\n",
    "        if n >= 10:\n",
    "            return f'{descr} (Sub Seabed)'    \n",
    "    return descr       "
   ]
  },
  {
   "cell_type": "code",
   "execution_count": 99,
   "id": "12755411",
   "metadata": {},
   "outputs": [
    {
     "data": {
      "application/vnd.jupyter.widget-view+json": {
       "model_id": "04e1afb7d6b84fae948b9ff050849ac0",
       "version_major": 2,
       "version_minor": 0
      },
      "text/plain": [
       "FigureWidget({\n",
       "    'data': [{'name': 'JLO Top Boat landing Support',\n",
       "              'opacity': 0.8,\n",
       "              'type': 'histogram',\n",
       "              'uid': 'c7bdcb56-a19d-4eec-95d5-5427626ccae3',\n",
       "              'x': array([33.89236546, 33.89236546, 33.89236546, 33.89236546, 33.89236546,\n",
       "                          33.89236546, 33.89236546, 33.89236546, 33.89236546, 33.89236546,\n",
       "                          33.89236546, 33.89236546, 33.89236546, 33.89236546, 33.89236546,\n",
       "                          33.89236546, 33.89236546, 33.89236546, 33.89236546, 33.89236546,\n",
       "                          33.89236546, 33.89236546, 33.89236546, 33.89236546, 33.89236546,\n",
       "                          33.89236546, 33.89236546, 33.89236546, 33.89236546, 33.89236546,\n",
       "                          33.89236546, 33.89236546, 33.89236546, 33.89236546, 33.89236546,\n",
       "                          33.89236546, 33.89236546, 33.89236546, 33.89236546, 33.89236546,\n",
       "                          33.89236546, 33.89236546, 33.89236546, 33.89236546])},\n",
       "             {'name': 'JLN Top Boat landing Support',\n",
       "              'opacity': 0.8,\n",
       "              'type': 'histogram',\n",
       "              'uid': 'b18593c0-fd90-443a-b11f-0979a7f4db04',\n",
       "              'x': array([35.53805774, 35.53805774, 35.53805774, 35.53805774, 35.53805774,\n",
       "                          35.53805774, 35.53805774, 35.53805774, 35.53805774, 35.53805774,\n",
       "                          35.53805774, 35.53805774, 35.53805774, 35.53805774, 35.53805774,\n",
       "                          35.53805774, 35.53805774, 35.53805774, 35.53805774, 35.53805774,\n",
       "                          35.53805774, 35.53805774, 35.53805774, 35.53805774, 35.53805774,\n",
       "                          35.53805774])},\n",
       "             {'name': 'JLP CW-12 (Sub Seabed)',\n",
       "              'opacity': 0.8,\n",
       "              'type': 'histogram',\n",
       "              'uid': 'b4fca698-0af7-4231-9a91-cd297abe180c',\n",
       "              'x': array([45.43624161, 46.68965517, 46.36986301, 44.46633826, 46.2116041 ,\n",
       "                          46.60929432, 46.29059829, 46.60929432])},\n",
       "             {'name': 'JLP CW-13 (Sub Seabed)',\n",
       "              'opacity': 0.8,\n",
       "              'type': 'histogram',\n",
       "              'uid': 'b15153aa-88da-4d41-a7af-2f1db690b470',\n",
       "              'x': array([47.92920354, 45.28428094, 46.68965517, 52.17726397])},\n",
       "             {'name': 'JLO CW-13 (Sub Seabed)',\n",
       "              'opacity': 0.8,\n",
       "              'type': 'histogram',\n",
       "              'uid': '113b044c-847d-49bc-97bb-b4a461963352',\n",
       "              'x': array([32.94403893])},\n",
       "             {'name': 'JLO CW-16 (Sub Seabed)',\n",
       "              'opacity': 0.8,\n",
       "              'type': 'histogram',\n",
       "              'uid': 'c266addd-e54a-41cf-8136-fd1361611e9d',\n",
       "              'x': array([31.9716647])},\n",
       "             {'name': 'JLP CW-11 (Sub Seabed)',\n",
       "              'opacity': 0.8,\n",
       "              'type': 'histogram',\n",
       "              'uid': '739d92f2-b285-44a5-bdbf-9765eee2fe2a',\n",
       "              'x': array([47.09565217, 47.2600349 , 46.60929432, 47.59226714, 46.60929432,\n",
       "                          48.09946714, 47.84452297, 48.09946714, 46.85121107])},\n",
       "             {'name': 'JLP Cable hole Out',\n",
       "              'opacity': 0.8,\n",
       "              'type': 'histogram',\n",
       "              'uid': '1fa5118d-6ce0-4315-bd7e-4852dcf281c3',\n",
       "              'x': array([55.72016461])},\n",
       "             {'name': 'JLO CW-2',\n",
       "              'opacity': 0.8,\n",
       "              'type': 'histogram',\n",
       "              'uid': 'e9e1855b-3ea4-4108-bddc-b6a4e3edb9d0',\n",
       "              'x': array([29.43478261])}],\n",
       "    'layout': {'barmode': 'stack',\n",
       "               'template': '...',\n",
       "               'title': {'text': ('Fatigue lifetime distribution ' ... 'ccording to design utilization')},\n",
       "               'xaxis': {'range': [25, 60], 'title': {'text': 'Years'}},\n",
       "               'yaxis': {'title': {'text': 'No. of turbines'}}}\n",
       "})"
      ]
     },
     "execution_count": 99,
     "metadata": {},
     "output_type": "execute_result"
    }
   ],
   "source": [
    "def plot_lifetime_histogram_based_on_point(lifetime_df, lifetime_id = 'lifetime', plot_title = 'design utilization'):\n",
    "\n",
    "    fw = go.FigureWidget()\n",
    "    fw.layout = go.Layout(xaxis=dict(range=[25,60]), title=f'Fatigue lifetime distribution of Dogger Bank A turbines according to {plot_title}', xaxis_title='Years', yaxis_title='No. of turbines')\n",
    "\n",
    "    for descr in lifetime_df['description'].unique():\n",
    "        these_df = lifetime_df[lifetime_df['description'] == descr]\n",
    "        for cluster in these_df['cluster'].unique():\n",
    "            fw.add_trace(go.Histogram(x = these_df[these_df['cluster'] == cluster][lifetime_id], opacity=0.8, name= f\"{cluster} {identify_subseabed_points(descr)}\"))\n",
    "        \n",
    "    fw.update_layout(barmode='stack')\n",
    "    return fw\n",
    "\n",
    "plot_lifetime_histogram_based_on_point(new_df, lifetime_id='lifetime')\n",
    "    "
   ]
  },
  {
   "cell_type": "code",
   "execution_count": 100,
   "id": "4a8a1d6c",
   "metadata": {},
   "outputs": [
    {
     "data": {
      "application/vnd.jupyter.widget-view+json": {
       "model_id": "7af250e934944023b56f587ca11815d2",
       "version_major": 2,
       "version_minor": 0
      },
      "text/plain": [
       "FigureWidget({\n",
       "    'data': [{'name': 'JLO Top Boat landing Support',\n",
       "              'opacity': 0.8,\n",
       "              'type': 'histogram',\n",
       "              'uid': 'ebc3d9dd-ec31-4801-b95c-04e73c03a690',\n",
       "              'x': array([33.6919512, 33.6919512, 33.6919512, 33.6919512, 33.6919512, 33.6919512,\n",
       "                          33.6919512, 33.6919512, 33.6919512, 33.6919512, 33.6919512, 33.6919512,\n",
       "                          33.6919512, 33.6919512, 33.6919512, 33.6919512, 33.6919512, 33.6919512,\n",
       "                          33.6919512, 33.6919512, 33.6919512, 33.6919512, 33.6919512, 33.6919512,\n",
       "                          33.6919512, 33.6919512, 33.6919512, 33.6919512, 33.6919512, 33.6919512,\n",
       "                          33.6919512, 33.6919512, 33.6919512, 33.6919512, 33.6919512, 33.6919512,\n",
       "                          33.6919512, 33.6919512, 33.6919512, 33.6919512, 33.6919512, 33.6919512,\n",
       "                          33.6919512, 33.6919512])},\n",
       "             {'name': 'JLN Top Boat landing Support',\n",
       "              'opacity': 0.8,\n",
       "              'type': 'histogram',\n",
       "              'uid': '00b66f47-b5e6-43cf-ad9e-2f39e625aa0b',\n",
       "              'x': array([34.40095837, 34.40095837, 34.40095837, 34.40095837, 34.40095837,\n",
       "                          34.40095837, 34.40095837, 34.40095837, 34.40095837, 34.40095837,\n",
       "                          34.40095837, 34.40095837, 34.40095837, 34.40095837, 34.40095837,\n",
       "                          34.40095837, 34.40095837, 34.40095837, 34.40095837, 34.40095837,\n",
       "                          34.40095837, 34.40095837, 34.40095837, 34.40095837, 34.40095837,\n",
       "                          34.40095837])},\n",
       "             {'name': 'JLP CW-12 (Sub Seabed)',\n",
       "              'opacity': 0.8,\n",
       "              'type': 'histogram',\n",
       "              'uid': '09004e23-ee17-4553-ad34-1f62964f2d69',\n",
       "              'x': array([45.43624161, 46.68965517, 46.75308063, 44.46633826, 46.2116041 ,\n",
       "                          46.99236326, 46.29059829, 46.60929432])},\n",
       "             {'name': 'JLP CW-13 (Sub Seabed)',\n",
       "              'opacity': 0.8,\n",
       "              'type': 'histogram',\n",
       "              'uid': 'c9722791-8b0d-4b8e-a974-7379875a9cfa',\n",
       "              'x': array([47.92920354, 45.28428094, 46.68965517, 52.17726397])},\n",
       "             {'name': 'JLO CW-13 (Sub Seabed)',\n",
       "              'opacity': 0.8,\n",
       "              'type': 'histogram',\n",
       "              'uid': 'c0a55394-292b-41ba-88f4-10876a0a76f0',\n",
       "              'x': array([32.94403893])},\n",
       "             {'name': 'JLO CW-16 (Sub Seabed)',\n",
       "              'opacity': 0.8,\n",
       "              'type': 'histogram',\n",
       "              'uid': '7bc8129c-84d4-45d0-a727-9044e2c26a4b',\n",
       "              'x': array([31.9716647])},\n",
       "             {'name': 'JLP CW-11 (Sub Seabed)',\n",
       "              'opacity': 0.8,\n",
       "              'type': 'histogram',\n",
       "              'uid': '584ee86e-b769-4867-ba14-cce4660199e8',\n",
       "              'x': array([47.09565217, 47.2600349 , 46.60929432, 47.59226714, 46.60929432,\n",
       "                          48.09946714, 47.84452297, 48.09946714, 46.85121107])},\n",
       "             {'name': 'JLP Cable hole Out',\n",
       "              'opacity': 0.8,\n",
       "              'type': 'histogram',\n",
       "              'uid': '81bcb104-481b-4985-9356-6a7ad85f871a',\n",
       "              'x': array([56.75263872])},\n",
       "             {'name': 'JLO CW-2',\n",
       "              'opacity': 0.8,\n",
       "              'type': 'histogram',\n",
       "              'uid': '019b26e1-ad73-4395-82e8-d99ec8d36c2b',\n",
       "              'x': array([29.43478261])}],\n",
       "    'layout': {'barmode': 'stack',\n",
       "               'template': '...',\n",
       "               'title': {'text': ('Fatigue lifetime distribution ' ... 'ccording to RULe lookup tables')},\n",
       "               'xaxis': {'range': [25, 60], 'title': {'text': 'Years'}},\n",
       "               'yaxis': {'title': {'text': 'No. of turbines'}}}\n",
       "})"
      ]
     },
     "execution_count": 100,
     "metadata": {},
     "output_type": "execute_result"
    }
   ],
   "source": [
    "plot_lifetime_histogram_based_on_point(new_df, lifetime_id='lookup_table_lifetime', plot_title='RULe lookup tables')"
   ]
  },
  {
   "cell_type": "code",
   "execution_count": 101,
   "id": "cd7b252b",
   "metadata": {},
   "outputs": [
    {
     "data": {
      "text/html": [
       "<div>\n",
       "<style scoped>\n",
       "    .dataframe tbody tr th:only-of-type {\n",
       "        vertical-align: middle;\n",
       "    }\n",
       "\n",
       "    .dataframe tbody tr th {\n",
       "        vertical-align: top;\n",
       "    }\n",
       "\n",
       "    .dataframe thead th {\n",
       "        text-align: right;\n",
       "    }\n",
       "</style>\n",
       "<table border=\"1\" class=\"dataframe\">\n",
       "  <thead>\n",
       "    <tr style=\"text-align: right;\">\n",
       "      <th></th>\n",
       "      <th>turbine_name</th>\n",
       "      <th>cluster</th>\n",
       "      <th>elevation</th>\n",
       "      <th>in_out</th>\n",
       "      <th>description</th>\n",
       "      <th>in_place_utilization</th>\n",
       "      <th>lifetime</th>\n",
       "      <th>lookup_table_lifetime</th>\n",
       "    </tr>\n",
       "  </thead>\n",
       "  <tbody>\n",
       "  </tbody>\n",
       "</table>\n",
       "</div>"
      ],
      "text/plain": [
       "Empty DataFrame\n",
       "Columns: [turbine_name, cluster, elevation, in_out, description, in_place_utilization, lifetime, lookup_table_lifetime]\n",
       "Index: []"
      ]
     },
     "execution_count": 101,
     "metadata": {},
     "output_type": "execute_result"
    }
   ],
   "source": [
    "deviation_df = new_df[(new_df['lookup_table_lifetime'] - new_df['lifetime']) > 2.0 ]\n",
    "deviation_df"
   ]
  },
  {
   "attachments": {},
   "cell_type": "markdown",
   "id": "b5ee38b4",
   "metadata": {},
   "source": [
    "## Below there was made an attempt to correct the fatigue table of P57_DE based on it being confusiongly wrong"
   ]
  },
  {
   "cell_type": "code",
   "execution_count": 102,
   "id": "27d44bac",
   "metadata": {},
   "outputs": [],
   "source": [
    "if False:\n",
    "    turbine_to_correct = 'DA_P57_DE'\n",
    "    increase_damage_by_factor = deviation_df['lookup_table_lifetime'] / deviation_df['lifetime']\n",
    "    increase_damage_by_factor = np.float64(increase_damage_by_factor)    \n",
    "    \n",
    "    file_format = '.json' # xlsx or json\n",
    "    file_name_key = 'lookup_table' # lookup_table or fatigue_damage\n",
    "    file_loc = \"all_turbines\" # blob or all_turbines\n",
    "\n",
    "    res_base_dir = os.path.join( os.getcwd(), \"output\", file_loc)\n",
    "    paths_to_lookup_tables = [os.path.join(path, name) for path, subdirs, files in os.walk(res_base_dir) \n",
    "                                for name in files if ((file_name_key in name) and (file_format) in name)]\n",
    "\n",
    "    path_to_lookup_table_lst = [p for p in paths_to_lookup_tables if turbine_to_correct in p]\n",
    "    path_to_lookup_table = path_to_lookup_table_lst[0]\n",
    "    \n",
    "    lookup_table_df = pd.read_json(path_to_lookup_table, dtype=False)\n",
    "    lookup_table_df.loc[:, lookup_table_df.columns.str.contains('sector')] = lookup_table_df.loc[:, lookup_table_df.columns.str.contains('sector')].astype(np.float64) * increase_damage_by_factor\n",
    "    \n",
    "    from lifetime_calculation_from_lookup import calculate_lifetime_from_fatigue_lookup_table\n",
    "    new_lifetimes = calculate_lifetime_from_fatigue_lookup_table(lookup_table_df)\n",
    "    print(new_lifetimes.min())\n",
    "    \n",
    "    lookup_table_df.to_excel(path_to_lookup_table.replace('.json', '.xlsx'), index = False)\n",
    "    lookup_table_df.to_json(path_to_lookup_table, double_precision = 15, force_ascii = True, indent = 4)\n",
    "    print(f\"Stored new lookup table for {turbine_to_correct}\")"
   ]
  }
 ],
 "metadata": {
  "kernelspec": {
   "display_name": "rule_env",
   "language": "python",
   "name": "python3"
  },
  "language_info": {
   "codemirror_mode": {
    "name": "ipython",
    "version": 3
   },
   "file_extension": ".py",
   "mimetype": "text/x-python",
   "name": "python",
   "nbconvert_exporter": "python",
   "pygments_lexer": "ipython3",
   "version": "3.9.13"
  },
  "vscode": {
   "interpreter": {
    "hash": "b2f02a6bcdb6e2756dc542ffef435407996729dba8ba9bc423703bb6f0b403f7"
   }
  }
 },
 "nbformat": 4,
 "nbformat_minor": 5
}
