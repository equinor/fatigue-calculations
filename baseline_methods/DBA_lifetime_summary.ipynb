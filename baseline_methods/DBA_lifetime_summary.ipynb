{
 "cells": [
  {
   "cell_type": "code",
   "execution_count": 1,
   "id": "00f1137b",
   "metadata": {},
   "outputs": [],
   "source": [
    "%load_ext autoreload\n",
    "%autoreload 2"
   ]
  },
  {
   "attachments": {},
   "cell_type": "markdown",
   "id": "aaaf54fc",
   "metadata": {},
   "source": [
    "## Note to visualize and compare the estimated lifetimes for DBA turbines from the RULe method's fatigue tables vs. structural reports"
   ]
  },
  {
   "cell_type": "code",
   "execution_count": 2,
   "id": "2522e445",
   "metadata": {},
   "outputs": [],
   "source": [
    "import pandas as pd\n",
    "import plotly.express as px\n",
    "import plotly.graph_objects as go\n",
    "from utils.setup_custom_logger import setup_custom_logger\n",
    "import os \n",
    "import matplotlib.pyplot as plt\n",
    "plt.rcParams[\"figure.figsize\"] = [30 / 2.54, 20 / 2.54]\n",
    "pd.set_option('display.width', 1000) # Print columns wider\n",
    "pd.set_option('display.max_rows', 500) # Print more rows"
   ]
  },
  {
   "cell_type": "code",
   "execution_count": 7,
   "id": "65db461d",
   "metadata": {},
   "outputs": [],
   "source": [
    "logger = setup_custom_logger('lifetime_summary')    \n",
    "res_base_dir = fr'{os.getcwd()}\\output\\all_turbines'\n",
    "df = pd.read_excel(os.path.join(res_base_dir, 'all_lifetimes_from_fatigue_tables.xlsx'), index_col=None)\n",
    "df.rename(columns = {'min_lifetime': 'lifetime'}, inplace = True)\n"
   ]
  },
  {
   "cell_type": "code",
   "execution_count": 8,
   "id": "e3e69b47",
   "metadata": {},
   "outputs": [
    {
     "name": "stdout",
     "output_type": "stream",
     "text": [
      "         turbine_name  lifetime\n",
      "cluster                        \n",
      "JLN                26        26\n",
      "JLO                47        47\n",
      "JLP                22        22\n",
      "cluster\n",
      "JLN    34.400958\n",
      "JLO    33.765762\n",
      "JLP    47.470156\n",
      "Name: lifetime, dtype: float64\n",
      "cluster\n",
      "JLN    34.400958\n",
      "JLO    31.971665\n",
      "JLP    44.466338\n",
      "Name: lifetime, dtype: float64\n",
      "cluster\n",
      "JLN    34.400958\n",
      "JLO    39.629254\n",
      "JLP    56.752639\n",
      "Name: lifetime, dtype: float64\n"
     ]
    }
   ],
   "source": [
    "print(df.groupby('cluster').count())\n",
    "print(df.groupby('cluster')['lifetime'].mean())\n",
    "print(df.groupby('cluster')['lifetime'].min())\n",
    "print(df.groupby('cluster')['lifetime'].max())"
   ]
  },
  {
   "cell_type": "code",
   "execution_count": 34,
   "id": "f62e1716",
   "metadata": {},
   "outputs": [
    {
     "data": {
      "application/vnd.jupyter.widget-view+json": {
       "model_id": "a986c5da12f4429ba9ab86ef10effe8f",
       "version_major": 2,
       "version_minor": 0
      },
      "text/plain": [
       "FigureWidget({\n",
       "    'data': [{'name': 'Intermediate',\n",
       "              'opacity': 0.8,\n",
       "              'type': 'histogram',\n",
       "              'uid': 'db124a22-d175-4cf2-b956-f26392066c80',\n",
       "              'x': array([33.6919512 , 33.6919512 , 33.6919512 , 33.6919512 , 33.6919512 ,\n",
       "                          33.6919512 , 33.6919512 , 33.6919512 , 33.6919512 , 31.9716647 ,\n",
       "                          33.6919512 , 33.6919512 , 33.6919512 , 33.6919512 , 33.6919512 ,\n",
       "                          33.6919512 , 33.6919512 , 33.6919512 , 33.6919512 , 33.6919512 ,\n",
       "                          33.6919512 , 33.6919512 , 33.6919512 , 33.6919512 , 33.6919512 ,\n",
       "                          33.6919512 , 33.6919512 , 33.6919512 , 33.6919512 , 33.6919512 ,\n",
       "                          33.6919512 , 33.6919512 , 33.6919512 , 33.6919512 , 33.6919512 ,\n",
       "                          33.6919512 , 33.6919512 , 33.6919512 , 33.6919512 , 33.6919512 ,\n",
       "                          33.6919512 , 32.94403893, 33.6919512 , 33.6919512 , 33.6919512 ,\n",
       "                          39.62925371, 33.6919512 ])},\n",
       "             {'name': 'Deep',\n",
       "              'opacity': 0.8,\n",
       "              'type': 'histogram',\n",
       "              'uid': '8c0e9930-81b7-4df2-822d-3aee8c95903b',\n",
       "              'x': array([34.40095837, 34.40095837, 34.40095837, 34.40095837, 34.40095837,\n",
       "                          34.40095837, 34.40095837, 34.40095837, 34.40095837, 34.40095837,\n",
       "                          34.40095837, 34.40095837, 34.40095837, 34.40095837, 34.40095837,\n",
       "                          34.40095837, 34.40095837, 34.40095837, 34.40095837, 34.40095837,\n",
       "                          34.40095837, 34.40095837, 34.40095837, 34.40095837, 34.40095837,\n",
       "                          34.40095837])},\n",
       "             {'name': 'Shallow',\n",
       "              'opacity': 0.8,\n",
       "              'type': 'histogram',\n",
       "              'uid': '1eab08a4-e85e-472b-8827-4ca1f2f08dae',\n",
       "              'x': array([45.43624161, 46.68965517, 46.75308064, 47.92920354, 44.46633826,\n",
       "                          46.2116041 , 47.09565217, 45.28428094, 56.75263872, 47.2600349 ,\n",
       "                          46.68965517, 46.60929432, 47.59226714, 46.99236327, 46.60929432,\n",
       "                          52.17726397, 46.29059829, 48.09946714, 46.60929432, 47.84452297,\n",
       "                          48.09946714, 46.85121107])}],\n",
       "    'layout': {'barmode': 'stack',\n",
       "               'template': '...',\n",
       "               'title': {'text': ('Fatigue lifetime distribution ' ... ' to RULe fatigue lookup tables')},\n",
       "               'xaxis': {'range': [25, 62], 'title': {'text': 'Years'}},\n",
       "               'yaxis': {'title': {'text': 'Counts'}}}\n",
       "})"
      ]
     },
     "execution_count": 34,
     "metadata": {},
     "output_type": "execute_result"
    }
   ],
   "source": [
    "fig1_w = go.FigureWidget()\n",
    "fig1_w.layout = go.Layout(xaxis=dict(range=[int(df['lifetime'].min() * 0.8), int(df['lifetime'].max() * 1.1)]), title='Fatigue lifetime distribution of Dogger Bank A turbines according to RULe fatigue lookup tables', xaxis_title='Years', yaxis_title='Counts')\n",
    "fig1_w.add_trace(go.Histogram(x = df[df['cluster'] == 'JLO']['lifetime'], opacity=0.8, name='Intermediate'))\n",
    "fig1_w.add_trace(go.Histogram(x = df[df['cluster'] == 'JLN']['lifetime'], opacity=0.8, name='Deep'))\n",
    "fig1_w.add_trace(go.Histogram(x = df[df['cluster'] == 'JLP']['lifetime'], opacity=0.8, name='Shallow'))\n",
    "fig1_w.update_layout(barmode='stack')"
   ]
  },
  {
   "cell_type": "code",
   "execution_count": 10,
   "id": "27a11f0a",
   "metadata": {},
   "outputs": [],
   "source": [
    "df_report = pd.read_excel( os.path.join(res_base_dir, 'structural_report_inplace_lifetimes.xlsx'), index_col=None)"
   ]
  },
  {
   "cell_type": "code",
   "execution_count": 11,
   "id": "b19dba55",
   "metadata": {},
   "outputs": [],
   "source": [
    "df_report_Dd_tot = pd.read_excel( os.path.join(res_base_dir, 'structural_report_Dd_tot_lifetimes.xlsx'), index_col=None)"
   ]
  },
  {
   "cell_type": "code",
   "execution_count": 35,
   "id": "04634bb8",
   "metadata": {},
   "outputs": [
    {
     "data": {
      "text/html": [
       "<div>\n",
       "<style scoped>\n",
       "    .dataframe tbody tr th:only-of-type {\n",
       "        vertical-align: middle;\n",
       "    }\n",
       "\n",
       "    .dataframe tbody tr th {\n",
       "        vertical-align: top;\n",
       "    }\n",
       "\n",
       "    .dataframe thead th {\n",
       "        text-align: right;\n",
       "    }\n",
       "</style>\n",
       "<table border=\"1\" class=\"dataframe\">\n",
       "  <thead>\n",
       "    <tr style=\"text-align: right;\">\n",
       "      <th></th>\n",
       "      <th>turbine_name</th>\n",
       "      <th>cluster</th>\n",
       "      <th>elevation</th>\n",
       "      <th>in_out</th>\n",
       "      <th>description</th>\n",
       "      <th>in_place_utilization</th>\n",
       "      <th>lifetime</th>\n",
       "      <th>lookup_table_lifetime</th>\n",
       "    </tr>\n",
       "  </thead>\n",
       "  <tbody>\n",
       "    <tr>\n",
       "      <th>26</th>\n",
       "      <td>DA_A06_AB</td>\n",
       "      <td>JLO</td>\n",
       "      <td>9.69</td>\n",
       "      <td>O</td>\n",
       "      <td>Top Boat landing Support</td>\n",
       "      <td>79.9</td>\n",
       "      <td>33.892365</td>\n",
       "      <td>33.691951</td>\n",
       "    </tr>\n",
       "    <tr>\n",
       "      <th>27</th>\n",
       "      <td>DA_A07_BC</td>\n",
       "      <td>JLO</td>\n",
       "      <td>9.69</td>\n",
       "      <td>O</td>\n",
       "      <td>Top Boat landing Support</td>\n",
       "      <td>79.9</td>\n",
       "      <td>33.892365</td>\n",
       "      <td>33.691951</td>\n",
       "    </tr>\n",
       "    <tr>\n",
       "      <th>28</th>\n",
       "      <td>DA_A08_CC</td>\n",
       "      <td>JLO</td>\n",
       "      <td>9.69</td>\n",
       "      <td>O</td>\n",
       "      <td>Top Boat landing Support</td>\n",
       "      <td>79.9</td>\n",
       "      <td>33.892365</td>\n",
       "      <td>33.691951</td>\n",
       "    </tr>\n",
       "    <tr>\n",
       "      <th>0</th>\n",
       "      <td>DA_B04_QB</td>\n",
       "      <td>JLN</td>\n",
       "      <td>9.69</td>\n",
       "      <td>O</td>\n",
       "      <td>Top Boat landing Support</td>\n",
       "      <td>76.2</td>\n",
       "      <td>35.538058</td>\n",
       "      <td>34.400958</td>\n",
       "    </tr>\n",
       "    <tr>\n",
       "      <th>29</th>\n",
       "      <td>DA_B05_RC</td>\n",
       "      <td>JLO</td>\n",
       "      <td>9.69</td>\n",
       "      <td>O</td>\n",
       "      <td>Top Boat landing Support</td>\n",
       "      <td>79.9</td>\n",
       "      <td>33.892365</td>\n",
       "      <td>33.691951</td>\n",
       "    </tr>\n",
       "    <tr>\n",
       "      <th>30</th>\n",
       "      <td>DA_B06_AA</td>\n",
       "      <td>JLO</td>\n",
       "      <td>9.69</td>\n",
       "      <td>O</td>\n",
       "      <td>Top Boat landing Support</td>\n",
       "      <td>79.9</td>\n",
       "      <td>33.892365</td>\n",
       "      <td>33.691951</td>\n",
       "    </tr>\n",
       "    <tr>\n",
       "      <th>31</th>\n",
       "      <td>DA_B07_BB</td>\n",
       "      <td>JLO</td>\n",
       "      <td>9.69</td>\n",
       "      <td>O</td>\n",
       "      <td>Top Boat landing Support</td>\n",
       "      <td>79.9</td>\n",
       "      <td>33.892365</td>\n",
       "      <td>33.691951</td>\n",
       "    </tr>\n",
       "    <tr>\n",
       "      <th>73</th>\n",
       "      <td>DA_B08_DC</td>\n",
       "      <td>JLP</td>\n",
       "      <td>-28.18</td>\n",
       "      <td>O</td>\n",
       "      <td>CW-12</td>\n",
       "      <td>59.6</td>\n",
       "      <td>45.436242</td>\n",
       "      <td>45.436242</td>\n",
       "    </tr>\n",
       "    <tr>\n",
       "      <th>32</th>\n",
       "      <td>DA_C01_NC</td>\n",
       "      <td>JLO</td>\n",
       "      <td>9.69</td>\n",
       "      <td>O</td>\n",
       "      <td>Top Boat landing Support</td>\n",
       "      <td>79.9</td>\n",
       "      <td>33.892365</td>\n",
       "      <td>33.691951</td>\n",
       "    </tr>\n",
       "    <tr>\n",
       "      <th>1</th>\n",
       "      <td>DA_C02_PC</td>\n",
       "      <td>JLN</td>\n",
       "      <td>9.69</td>\n",
       "      <td>O</td>\n",
       "      <td>Top Boat landing Support</td>\n",
       "      <td>76.2</td>\n",
       "      <td>35.538058</td>\n",
       "      <td>34.400958</td>\n",
       "    </tr>\n",
       "    <tr>\n",
       "      <th>2</th>\n",
       "      <td>DA_C03_PB</td>\n",
       "      <td>JLN</td>\n",
       "      <td>9.69</td>\n",
       "      <td>O</td>\n",
       "      <td>Top Boat landing Support</td>\n",
       "      <td>76.2</td>\n",
       "      <td>35.538058</td>\n",
       "      <td>34.400958</td>\n",
       "    </tr>\n",
       "    <tr>\n",
       "      <th>3</th>\n",
       "      <td>DA_C04_QA</td>\n",
       "      <td>JLN</td>\n",
       "      <td>9.69</td>\n",
       "      <td>O</td>\n",
       "      <td>Top Boat landing Support</td>\n",
       "      <td>76.2</td>\n",
       "      <td>35.538058</td>\n",
       "      <td>34.400958</td>\n",
       "    </tr>\n",
       "    <tr>\n",
       "      <th>33</th>\n",
       "      <td>DA_C05_RB</td>\n",
       "      <td>JLO</td>\n",
       "      <td>9.69</td>\n",
       "      <td>O</td>\n",
       "      <td>Top Boat landing Support</td>\n",
       "      <td>79.9</td>\n",
       "      <td>33.892365</td>\n",
       "      <td>33.691951</td>\n",
       "    </tr>\n",
       "    <tr>\n",
       "      <th>74</th>\n",
       "      <td>DA_C06_BA</td>\n",
       "      <td>JLP</td>\n",
       "      <td>-28.59</td>\n",
       "      <td>I</td>\n",
       "      <td>CW-12</td>\n",
       "      <td>58.0</td>\n",
       "      <td>46.689655</td>\n",
       "      <td>46.689655</td>\n",
       "    </tr>\n",
       "    <tr>\n",
       "      <th>75</th>\n",
       "      <td>DA_C07_CB</td>\n",
       "      <td>JLP</td>\n",
       "      <td>-30.96</td>\n",
       "      <td>I</td>\n",
       "      <td>CW-12</td>\n",
       "      <td>58.4</td>\n",
       "      <td>46.369863</td>\n",
       "      <td>46.753081</td>\n",
       "    </tr>\n",
       "    <tr>\n",
       "      <th>76</th>\n",
       "      <td>DA_C08_DB</td>\n",
       "      <td>JLP</td>\n",
       "      <td>-34.16</td>\n",
       "      <td>I</td>\n",
       "      <td>CW-13</td>\n",
       "      <td>56.5</td>\n",
       "      <td>47.929204</td>\n",
       "      <td>47.929204</td>\n",
       "    </tr>\n",
       "    <tr>\n",
       "      <th>4</th>\n",
       "      <td>DA_D01_ME</td>\n",
       "      <td>JLN</td>\n",
       "      <td>9.69</td>\n",
       "      <td>O</td>\n",
       "      <td>Top Boat landing Support</td>\n",
       "      <td>76.2</td>\n",
       "      <td>35.538058</td>\n",
       "      <td>34.400958</td>\n",
       "    </tr>\n",
       "    <tr>\n",
       "      <th>5</th>\n",
       "      <td>DA_D02_NB</td>\n",
       "      <td>JLN</td>\n",
       "      <td>9.69</td>\n",
       "      <td>O</td>\n",
       "      <td>Top Boat landing Support</td>\n",
       "      <td>76.2</td>\n",
       "      <td>35.538058</td>\n",
       "      <td>34.400958</td>\n",
       "    </tr>\n",
       "    <tr>\n",
       "      <th>6</th>\n",
       "      <td>DA_D03_NA</td>\n",
       "      <td>JLN</td>\n",
       "      <td>9.69</td>\n",
       "      <td>O</td>\n",
       "      <td>Top Boat landing Support</td>\n",
       "      <td>76.2</td>\n",
       "      <td>35.538058</td>\n",
       "      <td>34.400958</td>\n",
       "    </tr>\n",
       "    <tr>\n",
       "      <th>7</th>\n",
       "      <td>DA_D04_PA</td>\n",
       "      <td>JLN</td>\n",
       "      <td>9.69</td>\n",
       "      <td>O</td>\n",
       "      <td>Top Boat landing Support</td>\n",
       "      <td>76.2</td>\n",
       "      <td>35.538058</td>\n",
       "      <td>34.400958</td>\n",
       "    </tr>\n",
       "    <tr>\n",
       "      <th>34</th>\n",
       "      <td>DA_D05_RA</td>\n",
       "      <td>JLO</td>\n",
       "      <td>9.69</td>\n",
       "      <td>O</td>\n",
       "      <td>Top Boat landing Support</td>\n",
       "      <td>79.9</td>\n",
       "      <td>33.892365</td>\n",
       "      <td>33.691951</td>\n",
       "    </tr>\n",
       "    <tr>\n",
       "      <th>35</th>\n",
       "      <td>DA_D06_CA</td>\n",
       "      <td>JLO</td>\n",
       "      <td>-42.11</td>\n",
       "      <td>I</td>\n",
       "      <td>CW-16</td>\n",
       "      <td>84.7</td>\n",
       "      <td>31.971665</td>\n",
       "      <td>31.971665</td>\n",
       "    </tr>\n",
       "    <tr>\n",
       "      <th>8</th>\n",
       "      <td>DA_D07_DA</td>\n",
       "      <td>JLN</td>\n",
       "      <td>9.69</td>\n",
       "      <td>O</td>\n",
       "      <td>Top Boat landing Support</td>\n",
       "      <td>76.2</td>\n",
       "      <td>35.538058</td>\n",
       "      <td>34.400958</td>\n",
       "    </tr>\n",
       "    <tr>\n",
       "      <th>9</th>\n",
       "      <td>DA_E01_MD</td>\n",
       "      <td>JLN</td>\n",
       "      <td>9.69</td>\n",
       "      <td>O</td>\n",
       "      <td>Top Boat landing Support</td>\n",
       "      <td>76.2</td>\n",
       "      <td>35.538058</td>\n",
       "      <td>34.400958</td>\n",
       "    </tr>\n",
       "    <tr>\n",
       "      <th>10</th>\n",
       "      <td>DA_E02_MC</td>\n",
       "      <td>JLN</td>\n",
       "      <td>9.69</td>\n",
       "      <td>O</td>\n",
       "      <td>Top Boat landing Support</td>\n",
       "      <td>76.2</td>\n",
       "      <td>35.538058</td>\n",
       "      <td>34.400958</td>\n",
       "    </tr>\n",
       "    <tr>\n",
       "      <th>11</th>\n",
       "      <td>DA_E03_MB</td>\n",
       "      <td>JLN</td>\n",
       "      <td>9.69</td>\n",
       "      <td>O</td>\n",
       "      <td>Top Boat landing Support</td>\n",
       "      <td>76.2</td>\n",
       "      <td>35.538058</td>\n",
       "      <td>34.400958</td>\n",
       "    </tr>\n",
       "    <tr>\n",
       "      <th>36</th>\n",
       "      <td>DA_E04_MA</td>\n",
       "      <td>JLO</td>\n",
       "      <td>9.69</td>\n",
       "      <td>O</td>\n",
       "      <td>Top Boat landing Support</td>\n",
       "      <td>79.9</td>\n",
       "      <td>33.892365</td>\n",
       "      <td>33.691951</td>\n",
       "    </tr>\n",
       "    <tr>\n",
       "      <th>12</th>\n",
       "      <td>DA_F01_LA</td>\n",
       "      <td>JLN</td>\n",
       "      <td>9.69</td>\n",
       "      <td>O</td>\n",
       "      <td>Top Boat landing Support</td>\n",
       "      <td>76.2</td>\n",
       "      <td>35.538058</td>\n",
       "      <td>34.400958</td>\n",
       "    </tr>\n",
       "    <tr>\n",
       "      <th>13</th>\n",
       "      <td>DA_G01_LB</td>\n",
       "      <td>JLN</td>\n",
       "      <td>9.69</td>\n",
       "      <td>O</td>\n",
       "      <td>Top Boat landing Support</td>\n",
       "      <td>76.2</td>\n",
       "      <td>35.538058</td>\n",
       "      <td>34.400958</td>\n",
       "    </tr>\n",
       "    <tr>\n",
       "      <th>14</th>\n",
       "      <td>DA_G02_KA</td>\n",
       "      <td>JLN</td>\n",
       "      <td>9.69</td>\n",
       "      <td>O</td>\n",
       "      <td>Top Boat landing Support</td>\n",
       "      <td>76.2</td>\n",
       "      <td>35.538058</td>\n",
       "      <td>34.400958</td>\n",
       "    </tr>\n",
       "    <tr>\n",
       "      <th>37</th>\n",
       "      <td>DA_G03_JA</td>\n",
       "      <td>JLO</td>\n",
       "      <td>9.69</td>\n",
       "      <td>O</td>\n",
       "      <td>Top Boat landing Support</td>\n",
       "      <td>79.9</td>\n",
       "      <td>33.892365</td>\n",
       "      <td>33.691951</td>\n",
       "    </tr>\n",
       "    <tr>\n",
       "      <th>38</th>\n",
       "      <td>DA_H01_KB</td>\n",
       "      <td>JLO</td>\n",
       "      <td>9.69</td>\n",
       "      <td>O</td>\n",
       "      <td>Top Boat landing Support</td>\n",
       "      <td>79.9</td>\n",
       "      <td>33.892365</td>\n",
       "      <td>33.691951</td>\n",
       "    </tr>\n",
       "    <tr>\n",
       "      <th>39</th>\n",
       "      <td>DA_H02_JB</td>\n",
       "      <td>JLO</td>\n",
       "      <td>9.69</td>\n",
       "      <td>O</td>\n",
       "      <td>Top Boat landing Support</td>\n",
       "      <td>79.9</td>\n",
       "      <td>33.892365</td>\n",
       "      <td>33.691951</td>\n",
       "    </tr>\n",
       "    <tr>\n",
       "      <th>40</th>\n",
       "      <td>DA_H03_GA</td>\n",
       "      <td>JLO</td>\n",
       "      <td>9.69</td>\n",
       "      <td>O</td>\n",
       "      <td>Top Boat landing Support</td>\n",
       "      <td>79.9</td>\n",
       "      <td>33.892365</td>\n",
       "      <td>33.691951</td>\n",
       "    </tr>\n",
       "    <tr>\n",
       "      <th>77</th>\n",
       "      <td>DA_J01_JC</td>\n",
       "      <td>JLP</td>\n",
       "      <td>-31.21</td>\n",
       "      <td>I</td>\n",
       "      <td>CW-12</td>\n",
       "      <td>60.9</td>\n",
       "      <td>44.466338</td>\n",
       "      <td>44.466338</td>\n",
       "    </tr>\n",
       "    <tr>\n",
       "      <th>78</th>\n",
       "      <td>DA_J02_HA</td>\n",
       "      <td>JLP</td>\n",
       "      <td>-31.25</td>\n",
       "      <td>O</td>\n",
       "      <td>CW-12</td>\n",
       "      <td>58.6</td>\n",
       "      <td>46.211604</td>\n",
       "      <td>46.211604</td>\n",
       "    </tr>\n",
       "    <tr>\n",
       "      <th>79</th>\n",
       "      <td>DA_K01_HB</td>\n",
       "      <td>JLP</td>\n",
       "      <td>-26.95</td>\n",
       "      <td>O</td>\n",
       "      <td>CW-11</td>\n",
       "      <td>57.5</td>\n",
       "      <td>47.095652</td>\n",
       "      <td>47.095652</td>\n",
       "    </tr>\n",
       "    <tr>\n",
       "      <th>41</th>\n",
       "      <td>DA_P01_EF</td>\n",
       "      <td>JLO</td>\n",
       "      <td>9.69</td>\n",
       "      <td>O</td>\n",
       "      <td>Top Boat landing Support</td>\n",
       "      <td>79.9</td>\n",
       "      <td>33.892365</td>\n",
       "      <td>33.691951</td>\n",
       "    </tr>\n",
       "    <tr>\n",
       "      <th>42</th>\n",
       "      <td>DA_P02_EE</td>\n",
       "      <td>JLO</td>\n",
       "      <td>9.69</td>\n",
       "      <td>O</td>\n",
       "      <td>Top Boat landing Support</td>\n",
       "      <td>79.9</td>\n",
       "      <td>33.892365</td>\n",
       "      <td>33.691951</td>\n",
       "    </tr>\n",
       "    <tr>\n",
       "      <th>43</th>\n",
       "      <td>DA_P03_ED</td>\n",
       "      <td>JLO</td>\n",
       "      <td>9.69</td>\n",
       "      <td>O</td>\n",
       "      <td>Top Boat landing Support</td>\n",
       "      <td>79.9</td>\n",
       "      <td>33.892365</td>\n",
       "      <td>33.691951</td>\n",
       "    </tr>\n",
       "    <tr>\n",
       "      <th>44</th>\n",
       "      <td>DA_P04_EC</td>\n",
       "      <td>JLO</td>\n",
       "      <td>9.69</td>\n",
       "      <td>O</td>\n",
       "      <td>Top Boat landing Support</td>\n",
       "      <td>79.9</td>\n",
       "      <td>33.892365</td>\n",
       "      <td>33.691951</td>\n",
       "    </tr>\n",
       "    <tr>\n",
       "      <th>15</th>\n",
       "      <td>DA_P05_EB</td>\n",
       "      <td>JLN</td>\n",
       "      <td>9.69</td>\n",
       "      <td>O</td>\n",
       "      <td>Top Boat landing Support</td>\n",
       "      <td>76.2</td>\n",
       "      <td>35.538058</td>\n",
       "      <td>34.400958</td>\n",
       "    </tr>\n",
       "    <tr>\n",
       "      <th>16</th>\n",
       "      <td>DA_P06_EA</td>\n",
       "      <td>JLN</td>\n",
       "      <td>9.69</td>\n",
       "      <td>O</td>\n",
       "      <td>Top Boat landing Support</td>\n",
       "      <td>76.2</td>\n",
       "      <td>35.538058</td>\n",
       "      <td>34.400958</td>\n",
       "    </tr>\n",
       "    <tr>\n",
       "      <th>17</th>\n",
       "      <td>DA_P07_FA</td>\n",
       "      <td>JLN</td>\n",
       "      <td>9.69</td>\n",
       "      <td>O</td>\n",
       "      <td>Top Boat landing Support</td>\n",
       "      <td>76.2</td>\n",
       "      <td>35.538058</td>\n",
       "      <td>34.400958</td>\n",
       "    </tr>\n",
       "    <tr>\n",
       "      <th>45</th>\n",
       "      <td>DA_P08_FB</td>\n",
       "      <td>JLO</td>\n",
       "      <td>9.69</td>\n",
       "      <td>O</td>\n",
       "      <td>Top Boat landing Support</td>\n",
       "      <td>79.9</td>\n",
       "      <td>33.892365</td>\n",
       "      <td>33.691951</td>\n",
       "    </tr>\n",
       "    <tr>\n",
       "      <th>46</th>\n",
       "      <td>DA_P09_FC</td>\n",
       "      <td>JLO</td>\n",
       "      <td>9.69</td>\n",
       "      <td>O</td>\n",
       "      <td>Top Boat landing Support</td>\n",
       "      <td>79.9</td>\n",
       "      <td>33.892365</td>\n",
       "      <td>33.691951</td>\n",
       "    </tr>\n",
       "    <tr>\n",
       "      <th>47</th>\n",
       "      <td>DA_P10_FD</td>\n",
       "      <td>JLO</td>\n",
       "      <td>9.69</td>\n",
       "      <td>O</td>\n",
       "      <td>Top Boat landing Support</td>\n",
       "      <td>79.9</td>\n",
       "      <td>33.892365</td>\n",
       "      <td>33.691951</td>\n",
       "    </tr>\n",
       "    <tr>\n",
       "      <th>48</th>\n",
       "      <td>DA_P11_FE</td>\n",
       "      <td>JLO</td>\n",
       "      <td>9.69</td>\n",
       "      <td>O</td>\n",
       "      <td>Top Boat landing Support</td>\n",
       "      <td>79.9</td>\n",
       "      <td>33.892365</td>\n",
       "      <td>33.691951</td>\n",
       "    </tr>\n",
       "    <tr>\n",
       "      <th>80</th>\n",
       "      <td>DA_P12_FF</td>\n",
       "      <td>JLP</td>\n",
       "      <td>-34.94</td>\n",
       "      <td>I</td>\n",
       "      <td>CW-13</td>\n",
       "      <td>59.8</td>\n",
       "      <td>45.284281</td>\n",
       "      <td>45.284281</td>\n",
       "    </tr>\n",
       "    <tr>\n",
       "      <th>81</th>\n",
       "      <td>DA_P13_GB</td>\n",
       "      <td>JLP</td>\n",
       "      <td>-16.86</td>\n",
       "      <td>O</td>\n",
       "      <td>Cable hole Out</td>\n",
       "      <td>48.6</td>\n",
       "      <td>55.720165</td>\n",
       "      <td>56.752639</td>\n",
       "    </tr>\n",
       "    <tr>\n",
       "      <th>49</th>\n",
       "      <td>DA_P14_GC</td>\n",
       "      <td>JLO</td>\n",
       "      <td>9.69</td>\n",
       "      <td>O</td>\n",
       "      <td>Top Boat landing Support</td>\n",
       "      <td>79.9</td>\n",
       "      <td>33.892365</td>\n",
       "      <td>33.691951</td>\n",
       "    </tr>\n",
       "    <tr>\n",
       "      <th>82</th>\n",
       "      <td>DA_P15_GD</td>\n",
       "      <td>JLP</td>\n",
       "      <td>-27.13</td>\n",
       "      <td>I</td>\n",
       "      <td>CW-11</td>\n",
       "      <td>57.3</td>\n",
       "      <td>47.260035</td>\n",
       "      <td>47.260035</td>\n",
       "    </tr>\n",
       "    <tr>\n",
       "      <th>83</th>\n",
       "      <td>DA_P16_GE</td>\n",
       "      <td>JLP</td>\n",
       "      <td>-34.70</td>\n",
       "      <td>I</td>\n",
       "      <td>CW-13</td>\n",
       "      <td>58.0</td>\n",
       "      <td>46.689655</td>\n",
       "      <td>46.689655</td>\n",
       "    </tr>\n",
       "    <tr>\n",
       "      <th>84</th>\n",
       "      <td>DA_P17_GF</td>\n",
       "      <td>JLP</td>\n",
       "      <td>-26.97</td>\n",
       "      <td>O</td>\n",
       "      <td>CW-11</td>\n",
       "      <td>58.1</td>\n",
       "      <td>46.609294</td>\n",
       "      <td>46.609294</td>\n",
       "    </tr>\n",
       "    <tr>\n",
       "      <th>85</th>\n",
       "      <td>DA_P18_HC</td>\n",
       "      <td>JLP</td>\n",
       "      <td>-27.14</td>\n",
       "      <td>O</td>\n",
       "      <td>CW-11</td>\n",
       "      <td>56.9</td>\n",
       "      <td>47.592267</td>\n",
       "      <td>47.592267</td>\n",
       "    </tr>\n",
       "    <tr>\n",
       "      <th>86</th>\n",
       "      <td>DA_P19_HD</td>\n",
       "      <td>JLP</td>\n",
       "      <td>-30.93</td>\n",
       "      <td>O</td>\n",
       "      <td>CW-12</td>\n",
       "      <td>58.1</td>\n",
       "      <td>46.609294</td>\n",
       "      <td>46.992363</td>\n",
       "    </tr>\n",
       "    <tr>\n",
       "      <th>87</th>\n",
       "      <td>DA_P20_HE</td>\n",
       "      <td>JLP</td>\n",
       "      <td>-26.86</td>\n",
       "      <td>O</td>\n",
       "      <td>CW-11</td>\n",
       "      <td>58.1</td>\n",
       "      <td>46.609294</td>\n",
       "      <td>46.609294</td>\n",
       "    </tr>\n",
       "    <tr>\n",
       "      <th>88</th>\n",
       "      <td>DA_P21_HF</td>\n",
       "      <td>JLP</td>\n",
       "      <td>-34.60</td>\n",
       "      <td>I</td>\n",
       "      <td>CW-13</td>\n",
       "      <td>51.9</td>\n",
       "      <td>52.177264</td>\n",
       "      <td>52.177264</td>\n",
       "    </tr>\n",
       "    <tr>\n",
       "      <th>50</th>\n",
       "      <td>DA_P22_JE</td>\n",
       "      <td>JLO</td>\n",
       "      <td>9.69</td>\n",
       "      <td>O</td>\n",
       "      <td>Top Boat landing Support</td>\n",
       "      <td>79.9</td>\n",
       "      <td>33.892365</td>\n",
       "      <td>33.691951</td>\n",
       "    </tr>\n",
       "    <tr>\n",
       "      <th>89</th>\n",
       "      <td>DA_P23_JD</td>\n",
       "      <td>JLP</td>\n",
       "      <td>-30.69</td>\n",
       "      <td>I</td>\n",
       "      <td>CW-12</td>\n",
       "      <td>58.5</td>\n",
       "      <td>46.290598</td>\n",
       "      <td>46.290598</td>\n",
       "    </tr>\n",
       "    <tr>\n",
       "      <th>90</th>\n",
       "      <td>DA_P24_KF</td>\n",
       "      <td>JLP</td>\n",
       "      <td>-27.30</td>\n",
       "      <td>O</td>\n",
       "      <td>CW-11</td>\n",
       "      <td>56.3</td>\n",
       "      <td>48.099467</td>\n",
       "      <td>48.099467</td>\n",
       "    </tr>\n",
       "    <tr>\n",
       "      <th>91</th>\n",
       "      <td>DA_P25_KE</td>\n",
       "      <td>JLP</td>\n",
       "      <td>-30.88</td>\n",
       "      <td>O</td>\n",
       "      <td>CW-12</td>\n",
       "      <td>58.1</td>\n",
       "      <td>46.609294</td>\n",
       "      <td>46.609294</td>\n",
       "    </tr>\n",
       "    <tr>\n",
       "      <th>92</th>\n",
       "      <td>DA_P26_KD</td>\n",
       "      <td>JLP</td>\n",
       "      <td>-27.31</td>\n",
       "      <td>O</td>\n",
       "      <td>CW-11</td>\n",
       "      <td>56.6</td>\n",
       "      <td>47.844523</td>\n",
       "      <td>47.844523</td>\n",
       "    </tr>\n",
       "    <tr>\n",
       "      <th>93</th>\n",
       "      <td>DA_P27_KC</td>\n",
       "      <td>JLP</td>\n",
       "      <td>-27.12</td>\n",
       "      <td>O</td>\n",
       "      <td>CW-11</td>\n",
       "      <td>56.3</td>\n",
       "      <td>48.099467</td>\n",
       "      <td>48.099467</td>\n",
       "    </tr>\n",
       "    <tr>\n",
       "      <th>51</th>\n",
       "      <td>DA_P28_LC</td>\n",
       "      <td>JLO</td>\n",
       "      <td>9.69</td>\n",
       "      <td>O</td>\n",
       "      <td>Top Boat landing Support</td>\n",
       "      <td>79.9</td>\n",
       "      <td>33.892365</td>\n",
       "      <td>33.691951</td>\n",
       "    </tr>\n",
       "    <tr>\n",
       "      <th>18</th>\n",
       "      <td>DA_P29_LD</td>\n",
       "      <td>JLN</td>\n",
       "      <td>9.69</td>\n",
       "      <td>O</td>\n",
       "      <td>Top Boat landing Support</td>\n",
       "      <td>76.2</td>\n",
       "      <td>35.538058</td>\n",
       "      <td>34.400958</td>\n",
       "    </tr>\n",
       "    <tr>\n",
       "      <th>19</th>\n",
       "      <td>DA_P30_LE</td>\n",
       "      <td>JLN</td>\n",
       "      <td>9.69</td>\n",
       "      <td>O</td>\n",
       "      <td>Top Boat landing Support</td>\n",
       "      <td>76.2</td>\n",
       "      <td>35.538058</td>\n",
       "      <td>34.400958</td>\n",
       "    </tr>\n",
       "    <tr>\n",
       "      <th>20</th>\n",
       "      <td>DA_P31_LF</td>\n",
       "      <td>JLN</td>\n",
       "      <td>9.69</td>\n",
       "      <td>O</td>\n",
       "      <td>Top Boat landing Support</td>\n",
       "      <td>76.2</td>\n",
       "      <td>35.538058</td>\n",
       "      <td>34.400958</td>\n",
       "    </tr>\n",
       "    <tr>\n",
       "      <th>21</th>\n",
       "      <td>DA_P32_MF</td>\n",
       "      <td>JLN</td>\n",
       "      <td>9.69</td>\n",
       "      <td>O</td>\n",
       "      <td>Top Boat landing Support</td>\n",
       "      <td>76.2</td>\n",
       "      <td>35.538058</td>\n",
       "      <td>34.400958</td>\n",
       "    </tr>\n",
       "    <tr>\n",
       "      <th>22</th>\n",
       "      <td>DA_P33_NF</td>\n",
       "      <td>JLN</td>\n",
       "      <td>9.69</td>\n",
       "      <td>O</td>\n",
       "      <td>Top Boat landing Support</td>\n",
       "      <td>76.2</td>\n",
       "      <td>35.538058</td>\n",
       "      <td>34.400958</td>\n",
       "    </tr>\n",
       "    <tr>\n",
       "      <th>23</th>\n",
       "      <td>DA_P34_NE</td>\n",
       "      <td>JLN</td>\n",
       "      <td>9.69</td>\n",
       "      <td>O</td>\n",
       "      <td>Top Boat landing Support</td>\n",
       "      <td>76.2</td>\n",
       "      <td>35.538058</td>\n",
       "      <td>34.400958</td>\n",
       "    </tr>\n",
       "    <tr>\n",
       "      <th>52</th>\n",
       "      <td>DA_P35_ND</td>\n",
       "      <td>JLO</td>\n",
       "      <td>9.69</td>\n",
       "      <td>O</td>\n",
       "      <td>Top Boat landing Support</td>\n",
       "      <td>79.9</td>\n",
       "      <td>33.892365</td>\n",
       "      <td>33.691951</td>\n",
       "    </tr>\n",
       "    <tr>\n",
       "      <th>53</th>\n",
       "      <td>DA_P36_PF</td>\n",
       "      <td>JLO</td>\n",
       "      <td>9.69</td>\n",
       "      <td>O</td>\n",
       "      <td>Top Boat landing Support</td>\n",
       "      <td>79.9</td>\n",
       "      <td>33.892365</td>\n",
       "      <td>33.691951</td>\n",
       "    </tr>\n",
       "    <tr>\n",
       "      <th>54</th>\n",
       "      <td>DA_P37_PE</td>\n",
       "      <td>JLO</td>\n",
       "      <td>9.69</td>\n",
       "      <td>O</td>\n",
       "      <td>Top Boat landing Support</td>\n",
       "      <td>79.9</td>\n",
       "      <td>33.892365</td>\n",
       "      <td>33.691951</td>\n",
       "    </tr>\n",
       "    <tr>\n",
       "      <th>55</th>\n",
       "      <td>DA_P38_PD</td>\n",
       "      <td>JLO</td>\n",
       "      <td>9.69</td>\n",
       "      <td>O</td>\n",
       "      <td>Top Boat landing Support</td>\n",
       "      <td>79.9</td>\n",
       "      <td>33.892365</td>\n",
       "      <td>33.691951</td>\n",
       "    </tr>\n",
       "    <tr>\n",
       "      <th>56</th>\n",
       "      <td>DA_P39_QF</td>\n",
       "      <td>JLO</td>\n",
       "      <td>9.69</td>\n",
       "      <td>O</td>\n",
       "      <td>Top Boat landing Support</td>\n",
       "      <td>79.9</td>\n",
       "      <td>33.892365</td>\n",
       "      <td>33.691951</td>\n",
       "    </tr>\n",
       "    <tr>\n",
       "      <th>57</th>\n",
       "      <td>DA_P40_QE</td>\n",
       "      <td>JLO</td>\n",
       "      <td>9.69</td>\n",
       "      <td>O</td>\n",
       "      <td>Top Boat landing Support</td>\n",
       "      <td>79.9</td>\n",
       "      <td>33.892365</td>\n",
       "      <td>33.691951</td>\n",
       "    </tr>\n",
       "    <tr>\n",
       "      <th>58</th>\n",
       "      <td>DA_P41_QD</td>\n",
       "      <td>JLO</td>\n",
       "      <td>9.69</td>\n",
       "      <td>O</td>\n",
       "      <td>Top Boat landing Support</td>\n",
       "      <td>79.9</td>\n",
       "      <td>33.892365</td>\n",
       "      <td>33.691951</td>\n",
       "    </tr>\n",
       "    <tr>\n",
       "      <th>59</th>\n",
       "      <td>DA_P42_QC</td>\n",
       "      <td>JLO</td>\n",
       "      <td>9.69</td>\n",
       "      <td>O</td>\n",
       "      <td>Top Boat landing Support</td>\n",
       "      <td>79.9</td>\n",
       "      <td>33.892365</td>\n",
       "      <td>33.691951</td>\n",
       "    </tr>\n",
       "    <tr>\n",
       "      <th>60</th>\n",
       "      <td>DA_P43_RF</td>\n",
       "      <td>JLO</td>\n",
       "      <td>9.69</td>\n",
       "      <td>O</td>\n",
       "      <td>Top Boat landing Support</td>\n",
       "      <td>79.9</td>\n",
       "      <td>33.892365</td>\n",
       "      <td>33.691951</td>\n",
       "    </tr>\n",
       "    <tr>\n",
       "      <th>61</th>\n",
       "      <td>DA_P44_RE</td>\n",
       "      <td>JLO</td>\n",
       "      <td>9.69</td>\n",
       "      <td>O</td>\n",
       "      <td>Top Boat landing Support</td>\n",
       "      <td>79.9</td>\n",
       "      <td>33.892365</td>\n",
       "      <td>33.691951</td>\n",
       "    </tr>\n",
       "    <tr>\n",
       "      <th>62</th>\n",
       "      <td>DA_P45_RD</td>\n",
       "      <td>JLO</td>\n",
       "      <td>9.69</td>\n",
       "      <td>O</td>\n",
       "      <td>Top Boat landing Support</td>\n",
       "      <td>79.9</td>\n",
       "      <td>33.892365</td>\n",
       "      <td>33.691951</td>\n",
       "    </tr>\n",
       "    <tr>\n",
       "      <th>63</th>\n",
       "      <td>DA_P46_AC</td>\n",
       "      <td>JLO</td>\n",
       "      <td>9.69</td>\n",
       "      <td>O</td>\n",
       "      <td>Top Boat landing Support</td>\n",
       "      <td>79.9</td>\n",
       "      <td>33.892365</td>\n",
       "      <td>33.691951</td>\n",
       "    </tr>\n",
       "    <tr>\n",
       "      <th>64</th>\n",
       "      <td>DA_P47_AD</td>\n",
       "      <td>JLO</td>\n",
       "      <td>9.69</td>\n",
       "      <td>O</td>\n",
       "      <td>Top Boat landing Support</td>\n",
       "      <td>79.9</td>\n",
       "      <td>33.892365</td>\n",
       "      <td>33.691951</td>\n",
       "    </tr>\n",
       "    <tr>\n",
       "      <th>94</th>\n",
       "      <td>DA_P48_AE</td>\n",
       "      <td>JLP</td>\n",
       "      <td>-27.28</td>\n",
       "      <td>O</td>\n",
       "      <td>CW-11</td>\n",
       "      <td>57.8</td>\n",
       "      <td>46.851211</td>\n",
       "      <td>46.851211</td>\n",
       "    </tr>\n",
       "    <tr>\n",
       "      <th>65</th>\n",
       "      <td>DA_P49_AF</td>\n",
       "      <td>JLO</td>\n",
       "      <td>9.69</td>\n",
       "      <td>O</td>\n",
       "      <td>Top Boat landing Support</td>\n",
       "      <td>79.9</td>\n",
       "      <td>33.892365</td>\n",
       "      <td>33.691951</td>\n",
       "    </tr>\n",
       "    <tr>\n",
       "      <th>66</th>\n",
       "      <td>DA_P50_BD</td>\n",
       "      <td>JLO</td>\n",
       "      <td>9.69</td>\n",
       "      <td>O</td>\n",
       "      <td>Top Boat landing Support</td>\n",
       "      <td>79.9</td>\n",
       "      <td>33.892365</td>\n",
       "      <td>33.691951</td>\n",
       "    </tr>\n",
       "    <tr>\n",
       "      <th>67</th>\n",
       "      <td>DA_P51_BE</td>\n",
       "      <td>JLO</td>\n",
       "      <td>-31.66</td>\n",
       "      <td>I</td>\n",
       "      <td>CW-13</td>\n",
       "      <td>82.2</td>\n",
       "      <td>32.944039</td>\n",
       "      <td>32.944039</td>\n",
       "    </tr>\n",
       "    <tr>\n",
       "      <th>68</th>\n",
       "      <td>DA_P52_BF</td>\n",
       "      <td>JLO</td>\n",
       "      <td>9.69</td>\n",
       "      <td>O</td>\n",
       "      <td>Top Boat landing Support</td>\n",
       "      <td>79.9</td>\n",
       "      <td>33.892365</td>\n",
       "      <td>33.691951</td>\n",
       "    </tr>\n",
       "    <tr>\n",
       "      <th>69</th>\n",
       "      <td>DA_P53_CD</td>\n",
       "      <td>JLO</td>\n",
       "      <td>9.69</td>\n",
       "      <td>O</td>\n",
       "      <td>Top Boat landing Support</td>\n",
       "      <td>79.9</td>\n",
       "      <td>33.892365</td>\n",
       "      <td>33.691951</td>\n",
       "    </tr>\n",
       "    <tr>\n",
       "      <th>24</th>\n",
       "      <td>DA_P54_CE</td>\n",
       "      <td>JLN</td>\n",
       "      <td>9.69</td>\n",
       "      <td>O</td>\n",
       "      <td>Top Boat landing Support</td>\n",
       "      <td>76.2</td>\n",
       "      <td>35.538058</td>\n",
       "      <td>34.400958</td>\n",
       "    </tr>\n",
       "    <tr>\n",
       "      <th>25</th>\n",
       "      <td>DA_P55_CF</td>\n",
       "      <td>JLN</td>\n",
       "      <td>9.69</td>\n",
       "      <td>O</td>\n",
       "      <td>Top Boat landing Support</td>\n",
       "      <td>76.2</td>\n",
       "      <td>35.538058</td>\n",
       "      <td>34.400958</td>\n",
       "    </tr>\n",
       "    <tr>\n",
       "      <th>70</th>\n",
       "      <td>DA_P56_DD</td>\n",
       "      <td>JLO</td>\n",
       "      <td>9.69</td>\n",
       "      <td>O</td>\n",
       "      <td>Top Boat landing Support</td>\n",
       "      <td>79.9</td>\n",
       "      <td>33.892365</td>\n",
       "      <td>33.691951</td>\n",
       "    </tr>\n",
       "    <tr>\n",
       "      <th>71</th>\n",
       "      <td>DA_P57_DE</td>\n",
       "      <td>JLO</td>\n",
       "      <td>3.92</td>\n",
       "      <td>I</td>\n",
       "      <td>CW-2</td>\n",
       "      <td>92.0</td>\n",
       "      <td>29.434783</td>\n",
       "      <td>39.629254</td>\n",
       "    </tr>\n",
       "    <tr>\n",
       "      <th>72</th>\n",
       "      <td>DA_P58_DF</td>\n",
       "      <td>JLO</td>\n",
       "      <td>9.69</td>\n",
       "      <td>O</td>\n",
       "      <td>Top Boat landing Support</td>\n",
       "      <td>79.9</td>\n",
       "      <td>33.892365</td>\n",
       "      <td>33.691951</td>\n",
       "    </tr>\n",
       "  </tbody>\n",
       "</table>\n",
       "</div>"
      ],
      "text/plain": [
       "   turbine_name cluster  elevation in_out               description  in_place_utilization   lifetime  lookup_table_lifetime\n",
       "26    DA_A06_AB     JLO       9.69      O  Top Boat landing Support                  79.9  33.892365              33.691951\n",
       "27    DA_A07_BC     JLO       9.69      O  Top Boat landing Support                  79.9  33.892365              33.691951\n",
       "28    DA_A08_CC     JLO       9.69      O  Top Boat landing Support                  79.9  33.892365              33.691951\n",
       "0     DA_B04_QB     JLN       9.69      O  Top Boat landing Support                  76.2  35.538058              34.400958\n",
       "29    DA_B05_RC     JLO       9.69      O  Top Boat landing Support                  79.9  33.892365              33.691951\n",
       "30    DA_B06_AA     JLO       9.69      O  Top Boat landing Support                  79.9  33.892365              33.691951\n",
       "31    DA_B07_BB     JLO       9.69      O  Top Boat landing Support                  79.9  33.892365              33.691951\n",
       "73    DA_B08_DC     JLP     -28.18      O                     CW-12                  59.6  45.436242              45.436242\n",
       "32    DA_C01_NC     JLO       9.69      O  Top Boat landing Support                  79.9  33.892365              33.691951\n",
       "1     DA_C02_PC     JLN       9.69      O  Top Boat landing Support                  76.2  35.538058              34.400958\n",
       "2     DA_C03_PB     JLN       9.69      O  Top Boat landing Support                  76.2  35.538058              34.400958\n",
       "3     DA_C04_QA     JLN       9.69      O  Top Boat landing Support                  76.2  35.538058              34.400958\n",
       "33    DA_C05_RB     JLO       9.69      O  Top Boat landing Support                  79.9  33.892365              33.691951\n",
       "74    DA_C06_BA     JLP     -28.59      I                     CW-12                  58.0  46.689655              46.689655\n",
       "75    DA_C07_CB     JLP     -30.96      I                     CW-12                  58.4  46.369863              46.753081\n",
       "76    DA_C08_DB     JLP     -34.16      I                     CW-13                  56.5  47.929204              47.929204\n",
       "4     DA_D01_ME     JLN       9.69      O  Top Boat landing Support                  76.2  35.538058              34.400958\n",
       "5     DA_D02_NB     JLN       9.69      O  Top Boat landing Support                  76.2  35.538058              34.400958\n",
       "6     DA_D03_NA     JLN       9.69      O  Top Boat landing Support                  76.2  35.538058              34.400958\n",
       "7     DA_D04_PA     JLN       9.69      O  Top Boat landing Support                  76.2  35.538058              34.400958\n",
       "34    DA_D05_RA     JLO       9.69      O  Top Boat landing Support                  79.9  33.892365              33.691951\n",
       "35    DA_D06_CA     JLO     -42.11      I                     CW-16                  84.7  31.971665              31.971665\n",
       "8     DA_D07_DA     JLN       9.69      O  Top Boat landing Support                  76.2  35.538058              34.400958\n",
       "9     DA_E01_MD     JLN       9.69      O  Top Boat landing Support                  76.2  35.538058              34.400958\n",
       "10    DA_E02_MC     JLN       9.69      O  Top Boat landing Support                  76.2  35.538058              34.400958\n",
       "11    DA_E03_MB     JLN       9.69      O  Top Boat landing Support                  76.2  35.538058              34.400958\n",
       "36    DA_E04_MA     JLO       9.69      O  Top Boat landing Support                  79.9  33.892365              33.691951\n",
       "12    DA_F01_LA     JLN       9.69      O  Top Boat landing Support                  76.2  35.538058              34.400958\n",
       "13    DA_G01_LB     JLN       9.69      O  Top Boat landing Support                  76.2  35.538058              34.400958\n",
       "14    DA_G02_KA     JLN       9.69      O  Top Boat landing Support                  76.2  35.538058              34.400958\n",
       "37    DA_G03_JA     JLO       9.69      O  Top Boat landing Support                  79.9  33.892365              33.691951\n",
       "38    DA_H01_KB     JLO       9.69      O  Top Boat landing Support                  79.9  33.892365              33.691951\n",
       "39    DA_H02_JB     JLO       9.69      O  Top Boat landing Support                  79.9  33.892365              33.691951\n",
       "40    DA_H03_GA     JLO       9.69      O  Top Boat landing Support                  79.9  33.892365              33.691951\n",
       "77    DA_J01_JC     JLP     -31.21      I                     CW-12                  60.9  44.466338              44.466338\n",
       "78    DA_J02_HA     JLP     -31.25      O                     CW-12                  58.6  46.211604              46.211604\n",
       "79    DA_K01_HB     JLP     -26.95      O                     CW-11                  57.5  47.095652              47.095652\n",
       "41    DA_P01_EF     JLO       9.69      O  Top Boat landing Support                  79.9  33.892365              33.691951\n",
       "42    DA_P02_EE     JLO       9.69      O  Top Boat landing Support                  79.9  33.892365              33.691951\n",
       "43    DA_P03_ED     JLO       9.69      O  Top Boat landing Support                  79.9  33.892365              33.691951\n",
       "44    DA_P04_EC     JLO       9.69      O  Top Boat landing Support                  79.9  33.892365              33.691951\n",
       "15    DA_P05_EB     JLN       9.69      O  Top Boat landing Support                  76.2  35.538058              34.400958\n",
       "16    DA_P06_EA     JLN       9.69      O  Top Boat landing Support                  76.2  35.538058              34.400958\n",
       "17    DA_P07_FA     JLN       9.69      O  Top Boat landing Support                  76.2  35.538058              34.400958\n",
       "45    DA_P08_FB     JLO       9.69      O  Top Boat landing Support                  79.9  33.892365              33.691951\n",
       "46    DA_P09_FC     JLO       9.69      O  Top Boat landing Support                  79.9  33.892365              33.691951\n",
       "47    DA_P10_FD     JLO       9.69      O  Top Boat landing Support                  79.9  33.892365              33.691951\n",
       "48    DA_P11_FE     JLO       9.69      O  Top Boat landing Support                  79.9  33.892365              33.691951\n",
       "80    DA_P12_FF     JLP     -34.94      I                     CW-13                  59.8  45.284281              45.284281\n",
       "81    DA_P13_GB     JLP     -16.86      O            Cable hole Out                  48.6  55.720165              56.752639\n",
       "49    DA_P14_GC     JLO       9.69      O  Top Boat landing Support                  79.9  33.892365              33.691951\n",
       "82    DA_P15_GD     JLP     -27.13      I                     CW-11                  57.3  47.260035              47.260035\n",
       "83    DA_P16_GE     JLP     -34.70      I                     CW-13                  58.0  46.689655              46.689655\n",
       "84    DA_P17_GF     JLP     -26.97      O                     CW-11                  58.1  46.609294              46.609294\n",
       "85    DA_P18_HC     JLP     -27.14      O                     CW-11                  56.9  47.592267              47.592267\n",
       "86    DA_P19_HD     JLP     -30.93      O                     CW-12                  58.1  46.609294              46.992363\n",
       "87    DA_P20_HE     JLP     -26.86      O                     CW-11                  58.1  46.609294              46.609294\n",
       "88    DA_P21_HF     JLP     -34.60      I                     CW-13                  51.9  52.177264              52.177264\n",
       "50    DA_P22_JE     JLO       9.69      O  Top Boat landing Support                  79.9  33.892365              33.691951\n",
       "89    DA_P23_JD     JLP     -30.69      I                     CW-12                  58.5  46.290598              46.290598\n",
       "90    DA_P24_KF     JLP     -27.30      O                     CW-11                  56.3  48.099467              48.099467\n",
       "91    DA_P25_KE     JLP     -30.88      O                     CW-12                  58.1  46.609294              46.609294\n",
       "92    DA_P26_KD     JLP     -27.31      O                     CW-11                  56.6  47.844523              47.844523\n",
       "93    DA_P27_KC     JLP     -27.12      O                     CW-11                  56.3  48.099467              48.099467\n",
       "51    DA_P28_LC     JLO       9.69      O  Top Boat landing Support                  79.9  33.892365              33.691951\n",
       "18    DA_P29_LD     JLN       9.69      O  Top Boat landing Support                  76.2  35.538058              34.400958\n",
       "19    DA_P30_LE     JLN       9.69      O  Top Boat landing Support                  76.2  35.538058              34.400958\n",
       "20    DA_P31_LF     JLN       9.69      O  Top Boat landing Support                  76.2  35.538058              34.400958\n",
       "21    DA_P32_MF     JLN       9.69      O  Top Boat landing Support                  76.2  35.538058              34.400958\n",
       "22    DA_P33_NF     JLN       9.69      O  Top Boat landing Support                  76.2  35.538058              34.400958\n",
       "23    DA_P34_NE     JLN       9.69      O  Top Boat landing Support                  76.2  35.538058              34.400958\n",
       "52    DA_P35_ND     JLO       9.69      O  Top Boat landing Support                  79.9  33.892365              33.691951\n",
       "53    DA_P36_PF     JLO       9.69      O  Top Boat landing Support                  79.9  33.892365              33.691951\n",
       "54    DA_P37_PE     JLO       9.69      O  Top Boat landing Support                  79.9  33.892365              33.691951\n",
       "55    DA_P38_PD     JLO       9.69      O  Top Boat landing Support                  79.9  33.892365              33.691951\n",
       "56    DA_P39_QF     JLO       9.69      O  Top Boat landing Support                  79.9  33.892365              33.691951\n",
       "57    DA_P40_QE     JLO       9.69      O  Top Boat landing Support                  79.9  33.892365              33.691951\n",
       "58    DA_P41_QD     JLO       9.69      O  Top Boat landing Support                  79.9  33.892365              33.691951\n",
       "59    DA_P42_QC     JLO       9.69      O  Top Boat landing Support                  79.9  33.892365              33.691951\n",
       "60    DA_P43_RF     JLO       9.69      O  Top Boat landing Support                  79.9  33.892365              33.691951\n",
       "61    DA_P44_RE     JLO       9.69      O  Top Boat landing Support                  79.9  33.892365              33.691951\n",
       "62    DA_P45_RD     JLO       9.69      O  Top Boat landing Support                  79.9  33.892365              33.691951\n",
       "63    DA_P46_AC     JLO       9.69      O  Top Boat landing Support                  79.9  33.892365              33.691951\n",
       "64    DA_P47_AD     JLO       9.69      O  Top Boat landing Support                  79.9  33.892365              33.691951\n",
       "94    DA_P48_AE     JLP     -27.28      O                     CW-11                  57.8  46.851211              46.851211\n",
       "65    DA_P49_AF     JLO       9.69      O  Top Boat landing Support                  79.9  33.892365              33.691951\n",
       "66    DA_P50_BD     JLO       9.69      O  Top Boat landing Support                  79.9  33.892365              33.691951\n",
       "67    DA_P51_BE     JLO     -31.66      I                     CW-13                  82.2  32.944039              32.944039\n",
       "68    DA_P52_BF     JLO       9.69      O  Top Boat landing Support                  79.9  33.892365              33.691951\n",
       "69    DA_P53_CD     JLO       9.69      O  Top Boat landing Support                  79.9  33.892365              33.691951\n",
       "24    DA_P54_CE     JLN       9.69      O  Top Boat landing Support                  76.2  35.538058              34.400958\n",
       "25    DA_P55_CF     JLN       9.69      O  Top Boat landing Support                  76.2  35.538058              34.400958\n",
       "70    DA_P56_DD     JLO       9.69      O  Top Boat landing Support                  79.9  33.892365              33.691951\n",
       "71    DA_P57_DE     JLO       3.92      I                      CW-2                  92.0  29.434783              39.629254\n",
       "72    DA_P58_DF     JLO       9.69      O  Top Boat landing Support                  79.9  33.892365              33.691951"
      ]
     },
     "execution_count": 35,
     "metadata": {},
     "output_type": "execute_result"
    }
   ],
   "source": [
    "new_df = pd.DataFrame()\n",
    "\n",
    "for name in df['turbine_name']:\n",
    "    reported_elevation = df_report[df_report['turbine_name'] == name].copy()\n",
    "    reported_elevation['lookup_table_lifetime'] = float(df[df['turbine_name'] == name]['lifetime'])\n",
    "    new_df = pd.concat( [new_df, reported_elevation] )\n",
    "    \n",
    "# new_df"
   ]
  },
  {
   "cell_type": "code",
   "execution_count": 36,
   "id": "ce8899df",
   "metadata": {},
   "outputs": [
    {
     "data": {
      "application/vnd.plotly.v1+json": {
       "config": {
        "plotlyServerURL": "https://plot.ly"
       },
       "data": [
        {
         "customdata": [
          [
           "JLO",
           "DA_A06_AB"
          ],
          [
           "JLO",
           "DA_A07_BC"
          ],
          [
           "JLO",
           "DA_A08_CC"
          ],
          [
           "JLN",
           "DA_B04_QB"
          ],
          [
           "JLO",
           "DA_B05_RC"
          ],
          [
           "JLO",
           "DA_B06_AA"
          ],
          [
           "JLO",
           "DA_B07_BB"
          ],
          [
           "JLP",
           "DA_B08_DC"
          ],
          [
           "JLO",
           "DA_C01_NC"
          ],
          [
           "JLN",
           "DA_C02_PC"
          ],
          [
           "JLN",
           "DA_C03_PB"
          ],
          [
           "JLN",
           "DA_C04_QA"
          ],
          [
           "JLO",
           "DA_C05_RB"
          ],
          [
           "JLP",
           "DA_C06_BA"
          ],
          [
           "JLP",
           "DA_C07_CB"
          ],
          [
           "JLP",
           "DA_C08_DB"
          ],
          [
           "JLN",
           "DA_D01_ME"
          ],
          [
           "JLN",
           "DA_D02_NB"
          ],
          [
           "JLN",
           "DA_D03_NA"
          ],
          [
           "JLN",
           "DA_D04_PA"
          ],
          [
           "JLO",
           "DA_D05_RA"
          ],
          [
           "JLO",
           "DA_D06_CA"
          ],
          [
           "JLN",
           "DA_D07_DA"
          ],
          [
           "JLN",
           "DA_E01_MD"
          ],
          [
           "JLN",
           "DA_E02_MC"
          ],
          [
           "JLN",
           "DA_E03_MB"
          ],
          [
           "JLO",
           "DA_E04_MA"
          ],
          [
           "JLN",
           "DA_F01_LA"
          ],
          [
           "JLN",
           "DA_G01_LB"
          ],
          [
           "JLN",
           "DA_G02_KA"
          ],
          [
           "JLO",
           "DA_G03_JA"
          ],
          [
           "JLO",
           "DA_H01_KB"
          ],
          [
           "JLO",
           "DA_H02_JB"
          ],
          [
           "JLO",
           "DA_H03_GA"
          ],
          [
           "JLP",
           "DA_J01_JC"
          ],
          [
           "JLP",
           "DA_J02_HA"
          ],
          [
           "JLP",
           "DA_K01_HB"
          ],
          [
           "JLO",
           "DA_P01_EF"
          ],
          [
           "JLO",
           "DA_P02_EE"
          ],
          [
           "JLO",
           "DA_P03_ED"
          ],
          [
           "JLO",
           "DA_P04_EC"
          ],
          [
           "JLN",
           "DA_P05_EB"
          ],
          [
           "JLN",
           "DA_P06_EA"
          ],
          [
           "JLN",
           "DA_P07_FA"
          ],
          [
           "JLO",
           "DA_P08_FB"
          ],
          [
           "JLO",
           "DA_P09_FC"
          ],
          [
           "JLO",
           "DA_P10_FD"
          ],
          [
           "JLO",
           "DA_P11_FE"
          ],
          [
           "JLP",
           "DA_P12_FF"
          ],
          [
           "JLP",
           "DA_P13_GB"
          ],
          [
           "JLO",
           "DA_P14_GC"
          ],
          [
           "JLP",
           "DA_P15_GD"
          ],
          [
           "JLP",
           "DA_P16_GE"
          ],
          [
           "JLP",
           "DA_P17_GF"
          ],
          [
           "JLP",
           "DA_P18_HC"
          ],
          [
           "JLP",
           "DA_P19_HD"
          ],
          [
           "JLP",
           "DA_P20_HE"
          ],
          [
           "JLP",
           "DA_P21_HF"
          ],
          [
           "JLO",
           "DA_P22_JE"
          ],
          [
           "JLP",
           "DA_P23_JD"
          ],
          [
           "JLP",
           "DA_P24_KF"
          ],
          [
           "JLP",
           "DA_P25_KE"
          ],
          [
           "JLP",
           "DA_P26_KD"
          ],
          [
           "JLP",
           "DA_P27_KC"
          ],
          [
           "JLO",
           "DA_P28_LC"
          ],
          [
           "JLN",
           "DA_P29_LD"
          ],
          [
           "JLN",
           "DA_P30_LE"
          ],
          [
           "JLN",
           "DA_P31_LF"
          ],
          [
           "JLN",
           "DA_P32_MF"
          ],
          [
           "JLN",
           "DA_P33_NF"
          ],
          [
           "JLN",
           "DA_P34_NE"
          ],
          [
           "JLO",
           "DA_P35_ND"
          ],
          [
           "JLO",
           "DA_P36_PF"
          ],
          [
           "JLO",
           "DA_P37_PE"
          ],
          [
           "JLO",
           "DA_P38_PD"
          ],
          [
           "JLO",
           "DA_P39_QF"
          ],
          [
           "JLO",
           "DA_P40_QE"
          ],
          [
           "JLO",
           "DA_P41_QD"
          ],
          [
           "JLO",
           "DA_P42_QC"
          ],
          [
           "JLO",
           "DA_P43_RF"
          ],
          [
           "JLO",
           "DA_P44_RE"
          ],
          [
           "JLO",
           "DA_P45_RD"
          ],
          [
           "JLO",
           "DA_P46_AC"
          ],
          [
           "JLO",
           "DA_P47_AD"
          ],
          [
           "JLP",
           "DA_P48_AE"
          ],
          [
           "JLO",
           "DA_P49_AF"
          ],
          [
           "JLO",
           "DA_P50_BD"
          ],
          [
           "JLO",
           "DA_P51_BE"
          ],
          [
           "JLO",
           "DA_P52_BF"
          ],
          [
           "JLO",
           "DA_P53_CD"
          ],
          [
           "JLN",
           "DA_P54_CE"
          ],
          [
           "JLN",
           "DA_P55_CF"
          ],
          [
           "JLO",
           "DA_P56_DD"
          ],
          [
           "JLO",
           "DA_P57_DE"
          ],
          [
           "JLO",
           "DA_P58_DF"
          ]
         ],
         "hovertemplate": "lifetime=%{x}<br>lookup_table_lifetime=%{y}<br>cluster=%{customdata[0]}<br>turbine_name=%{customdata[1]}<extra></extra>",
         "legendgroup": "",
         "marker": {
          "color": "#636efa",
          "symbol": "circle"
         },
         "mode": "markers",
         "name": "",
         "orientation": "v",
         "showlegend": false,
         "type": "scatter",
         "x": [
          33.89236545682103,
          33.89236545682103,
          33.89236545682103,
          35.53805774278215,
          33.89236545682103,
          33.89236545682103,
          33.89236545682103,
          45.43624161073826,
          33.89236545682103,
          35.53805774278215,
          35.53805774278215,
          35.53805774278215,
          33.89236545682103,
          46.68965517241379,
          46.36986301369863,
          47.92920353982301,
          35.53805774278215,
          35.53805774278215,
          35.53805774278215,
          35.53805774278215,
          33.89236545682103,
          31.97166469893742,
          35.53805774278215,
          35.53805774278215,
          35.53805774278215,
          35.53805774278215,
          33.89236545682103,
          35.53805774278215,
          35.53805774278215,
          35.53805774278215,
          33.89236545682103,
          33.89236545682103,
          33.89236545682103,
          33.89236545682103,
          44.46633825944171,
          46.21160409556314,
          47.09565217391305,
          33.89236545682103,
          33.89236545682103,
          33.89236545682103,
          33.89236545682103,
          35.53805774278215,
          35.53805774278215,
          35.53805774278215,
          33.89236545682103,
          33.89236545682103,
          33.89236545682103,
          33.89236545682103,
          45.28428093645485,
          55.7201646090535,
          33.89236545682103,
          47.26003490401396,
          46.68965517241379,
          46.60929432013769,
          47.59226713532513,
          46.60929432013769,
          46.60929432013769,
          52.17726396917148,
          33.89236545682103,
          46.29059829059829,
          48.09946714031972,
          46.60929432013769,
          47.84452296819787,
          48.09946714031972,
          33.89236545682103,
          35.53805774278215,
          35.53805774278215,
          35.53805774278215,
          35.53805774278215,
          35.53805774278215,
          35.53805774278215,
          33.89236545682103,
          33.89236545682103,
          33.89236545682103,
          33.89236545682103,
          33.89236545682103,
          33.89236545682103,
          33.89236545682103,
          33.89236545682103,
          33.89236545682103,
          33.89236545682103,
          33.89236545682103,
          33.89236545682103,
          33.89236545682103,
          46.85121107266436,
          33.89236545682103,
          33.89236545682103,
          32.94403892944038,
          33.89236545682103,
          33.89236545682103,
          35.53805774278215,
          35.53805774278215,
          33.89236545682103,
          29.43478260869565,
          33.89236545682103
         ],
         "xaxis": "x",
         "y": [
          33.69195119684067,
          33.69195119684067,
          33.69195119684067,
          34.40095836608515,
          33.69195119684067,
          33.69195119684067,
          33.69195119684067,
          45.43624161073699,
          33.69195119684067,
          34.40095836608515,
          34.40095836608515,
          34.40095836608515,
          33.69195119684067,
          46.6896551724127,
          46.75308063502303,
          47.92920353982187,
          34.40095836608515,
          34.40095836608515,
          34.40095836608515,
          34.40095836608515,
          33.69195119684067,
          31.97166469893676,
          34.40095836608515,
          34.40095836608515,
          34.40095836608515,
          34.40095836608515,
          33.69195119684067,
          34.40095836608515,
          34.40095836608515,
          34.40095836608515,
          33.69195119684067,
          33.69195119684067,
          33.69195119684067,
          33.69195119684067,
          44.46633825944045,
          46.21160409556204,
          47.09565217391193,
          33.69195119684067,
          33.69195119684067,
          33.69195119684067,
          33.69195119684067,
          34.40095836608515,
          34.40095836608515,
          34.40095836608515,
          33.69195119684067,
          33.69195119684067,
          33.69195119684067,
          33.69195119684067,
          45.28428093645426,
          56.75263872239525,
          33.69195119684067,
          47.26003490401309,
          46.689655172413,
          46.6092943201366,
          47.59226713532384,
          46.9923632658581,
          46.6092943201388,
          52.17726396916942,
          33.69195119684067,
          46.29059829059644,
          48.09946714031857,
          46.6092943201366,
          47.84452296819585,
          48.09946714031731,
          33.69195119684067,
          34.40095836608515,
          34.40095836608515,
          34.40095836608515,
          34.40095836608515,
          34.40095836608515,
          34.40095836608515,
          33.69195119684067,
          33.69195119684067,
          33.69195119684067,
          33.69195119684067,
          33.69195119684067,
          33.69195119684067,
          33.69195119684067,
          33.69195119684067,
          33.69195119684067,
          33.69195119684067,
          33.69195119684067,
          33.69195119684067,
          33.69195119684067,
          46.85121107266325,
          33.69195119684067,
          33.69195119684067,
          32.94403892943971,
          33.69195119684067,
          33.69195119684067,
          34.40095836608515,
          34.40095836608515,
          33.69195119684067,
          39.62925370657704,
          33.69195119684067
         ],
         "yaxis": "y"
        },
        {
         "hovertemplate": "x=%{x}<br>y=%{y}<extra></extra>",
         "legendgroup": "",
         "line": {
          "color": "#636efa",
          "dash": "solid"
         },
         "marker": {
          "symbol": "circle"
         },
         "mode": "lines",
         "name": "",
         "orientation": "v",
         "showlegend": false,
         "type": "scatter",
         "x": [
          20,
          21,
          22,
          23,
          24,
          25,
          26,
          27,
          28,
          29,
          30,
          31,
          32,
          33,
          34,
          35,
          36,
          37,
          38,
          39,
          40,
          41,
          42,
          43,
          44,
          45,
          46,
          47,
          48,
          49,
          50,
          51,
          52,
          53,
          54,
          55,
          56,
          57,
          58,
          59
         ],
         "xaxis": "x",
         "y": [
          20,
          21,
          22,
          23,
          24,
          25,
          26,
          27,
          28,
          29,
          30,
          31,
          32,
          33,
          34,
          35,
          36,
          37,
          38,
          39,
          40,
          41,
          42,
          43,
          44,
          45,
          46,
          47,
          48,
          49,
          50,
          51,
          52,
          53,
          54,
          55,
          56,
          57,
          58,
          59
         ],
         "yaxis": "y"
        }
       ],
       "layout": {
        "template": {
         "data": {
          "bar": [
           {
            "error_x": {
             "color": "#2a3f5f"
            },
            "error_y": {
             "color": "#2a3f5f"
            },
            "marker": {
             "line": {
              "color": "#E5ECF6",
              "width": 0.5
             },
             "pattern": {
              "fillmode": "overlay",
              "size": 10,
              "solidity": 0.2
             }
            },
            "type": "bar"
           }
          ],
          "barpolar": [
           {
            "marker": {
             "line": {
              "color": "#E5ECF6",
              "width": 0.5
             },
             "pattern": {
              "fillmode": "overlay",
              "size": 10,
              "solidity": 0.2
             }
            },
            "type": "barpolar"
           }
          ],
          "carpet": [
           {
            "aaxis": {
             "endlinecolor": "#2a3f5f",
             "gridcolor": "white",
             "linecolor": "white",
             "minorgridcolor": "white",
             "startlinecolor": "#2a3f5f"
            },
            "baxis": {
             "endlinecolor": "#2a3f5f",
             "gridcolor": "white",
             "linecolor": "white",
             "minorgridcolor": "white",
             "startlinecolor": "#2a3f5f"
            },
            "type": "carpet"
           }
          ],
          "choropleth": [
           {
            "colorbar": {
             "outlinewidth": 0,
             "ticks": ""
            },
            "type": "choropleth"
           }
          ],
          "contour": [
           {
            "colorbar": {
             "outlinewidth": 0,
             "ticks": ""
            },
            "colorscale": [
             [
              0,
              "#0d0887"
             ],
             [
              0.1111111111111111,
              "#46039f"
             ],
             [
              0.2222222222222222,
              "#7201a8"
             ],
             [
              0.3333333333333333,
              "#9c179e"
             ],
             [
              0.4444444444444444,
              "#bd3786"
             ],
             [
              0.5555555555555556,
              "#d8576b"
             ],
             [
              0.6666666666666666,
              "#ed7953"
             ],
             [
              0.7777777777777778,
              "#fb9f3a"
             ],
             [
              0.8888888888888888,
              "#fdca26"
             ],
             [
              1,
              "#f0f921"
             ]
            ],
            "type": "contour"
           }
          ],
          "contourcarpet": [
           {
            "colorbar": {
             "outlinewidth": 0,
             "ticks": ""
            },
            "type": "contourcarpet"
           }
          ],
          "heatmap": [
           {
            "colorbar": {
             "outlinewidth": 0,
             "ticks": ""
            },
            "colorscale": [
             [
              0,
              "#0d0887"
             ],
             [
              0.1111111111111111,
              "#46039f"
             ],
             [
              0.2222222222222222,
              "#7201a8"
             ],
             [
              0.3333333333333333,
              "#9c179e"
             ],
             [
              0.4444444444444444,
              "#bd3786"
             ],
             [
              0.5555555555555556,
              "#d8576b"
             ],
             [
              0.6666666666666666,
              "#ed7953"
             ],
             [
              0.7777777777777778,
              "#fb9f3a"
             ],
             [
              0.8888888888888888,
              "#fdca26"
             ],
             [
              1,
              "#f0f921"
             ]
            ],
            "type": "heatmap"
           }
          ],
          "heatmapgl": [
           {
            "colorbar": {
             "outlinewidth": 0,
             "ticks": ""
            },
            "colorscale": [
             [
              0,
              "#0d0887"
             ],
             [
              0.1111111111111111,
              "#46039f"
             ],
             [
              0.2222222222222222,
              "#7201a8"
             ],
             [
              0.3333333333333333,
              "#9c179e"
             ],
             [
              0.4444444444444444,
              "#bd3786"
             ],
             [
              0.5555555555555556,
              "#d8576b"
             ],
             [
              0.6666666666666666,
              "#ed7953"
             ],
             [
              0.7777777777777778,
              "#fb9f3a"
             ],
             [
              0.8888888888888888,
              "#fdca26"
             ],
             [
              1,
              "#f0f921"
             ]
            ],
            "type": "heatmapgl"
           }
          ],
          "histogram": [
           {
            "marker": {
             "pattern": {
              "fillmode": "overlay",
              "size": 10,
              "solidity": 0.2
             }
            },
            "type": "histogram"
           }
          ],
          "histogram2d": [
           {
            "colorbar": {
             "outlinewidth": 0,
             "ticks": ""
            },
            "colorscale": [
             [
              0,
              "#0d0887"
             ],
             [
              0.1111111111111111,
              "#46039f"
             ],
             [
              0.2222222222222222,
              "#7201a8"
             ],
             [
              0.3333333333333333,
              "#9c179e"
             ],
             [
              0.4444444444444444,
              "#bd3786"
             ],
             [
              0.5555555555555556,
              "#d8576b"
             ],
             [
              0.6666666666666666,
              "#ed7953"
             ],
             [
              0.7777777777777778,
              "#fb9f3a"
             ],
             [
              0.8888888888888888,
              "#fdca26"
             ],
             [
              1,
              "#f0f921"
             ]
            ],
            "type": "histogram2d"
           }
          ],
          "histogram2dcontour": [
           {
            "colorbar": {
             "outlinewidth": 0,
             "ticks": ""
            },
            "colorscale": [
             [
              0,
              "#0d0887"
             ],
             [
              0.1111111111111111,
              "#46039f"
             ],
             [
              0.2222222222222222,
              "#7201a8"
             ],
             [
              0.3333333333333333,
              "#9c179e"
             ],
             [
              0.4444444444444444,
              "#bd3786"
             ],
             [
              0.5555555555555556,
              "#d8576b"
             ],
             [
              0.6666666666666666,
              "#ed7953"
             ],
             [
              0.7777777777777778,
              "#fb9f3a"
             ],
             [
              0.8888888888888888,
              "#fdca26"
             ],
             [
              1,
              "#f0f921"
             ]
            ],
            "type": "histogram2dcontour"
           }
          ],
          "mesh3d": [
           {
            "colorbar": {
             "outlinewidth": 0,
             "ticks": ""
            },
            "type": "mesh3d"
           }
          ],
          "parcoords": [
           {
            "line": {
             "colorbar": {
              "outlinewidth": 0,
              "ticks": ""
             }
            },
            "type": "parcoords"
           }
          ],
          "pie": [
           {
            "automargin": true,
            "type": "pie"
           }
          ],
          "scatter": [
           {
            "fillpattern": {
             "fillmode": "overlay",
             "size": 10,
             "solidity": 0.2
            },
            "type": "scatter"
           }
          ],
          "scatter3d": [
           {
            "line": {
             "colorbar": {
              "outlinewidth": 0,
              "ticks": ""
             }
            },
            "marker": {
             "colorbar": {
              "outlinewidth": 0,
              "ticks": ""
             }
            },
            "type": "scatter3d"
           }
          ],
          "scattercarpet": [
           {
            "marker": {
             "colorbar": {
              "outlinewidth": 0,
              "ticks": ""
             }
            },
            "type": "scattercarpet"
           }
          ],
          "scattergeo": [
           {
            "marker": {
             "colorbar": {
              "outlinewidth": 0,
              "ticks": ""
             }
            },
            "type": "scattergeo"
           }
          ],
          "scattergl": [
           {
            "marker": {
             "colorbar": {
              "outlinewidth": 0,
              "ticks": ""
             }
            },
            "type": "scattergl"
           }
          ],
          "scattermapbox": [
           {
            "marker": {
             "colorbar": {
              "outlinewidth": 0,
              "ticks": ""
             }
            },
            "type": "scattermapbox"
           }
          ],
          "scatterpolar": [
           {
            "marker": {
             "colorbar": {
              "outlinewidth": 0,
              "ticks": ""
             }
            },
            "type": "scatterpolar"
           }
          ],
          "scatterpolargl": [
           {
            "marker": {
             "colorbar": {
              "outlinewidth": 0,
              "ticks": ""
             }
            },
            "type": "scatterpolargl"
           }
          ],
          "scatterternary": [
           {
            "marker": {
             "colorbar": {
              "outlinewidth": 0,
              "ticks": ""
             }
            },
            "type": "scatterternary"
           }
          ],
          "surface": [
           {
            "colorbar": {
             "outlinewidth": 0,
             "ticks": ""
            },
            "colorscale": [
             [
              0,
              "#0d0887"
             ],
             [
              0.1111111111111111,
              "#46039f"
             ],
             [
              0.2222222222222222,
              "#7201a8"
             ],
             [
              0.3333333333333333,
              "#9c179e"
             ],
             [
              0.4444444444444444,
              "#bd3786"
             ],
             [
              0.5555555555555556,
              "#d8576b"
             ],
             [
              0.6666666666666666,
              "#ed7953"
             ],
             [
              0.7777777777777778,
              "#fb9f3a"
             ],
             [
              0.8888888888888888,
              "#fdca26"
             ],
             [
              1,
              "#f0f921"
             ]
            ],
            "type": "surface"
           }
          ],
          "table": [
           {
            "cells": {
             "fill": {
              "color": "#EBF0F8"
             },
             "line": {
              "color": "white"
             }
            },
            "header": {
             "fill": {
              "color": "#C8D4E3"
             },
             "line": {
              "color": "white"
             }
            },
            "type": "table"
           }
          ]
         },
         "layout": {
          "annotationdefaults": {
           "arrowcolor": "#2a3f5f",
           "arrowhead": 0,
           "arrowwidth": 1
          },
          "autotypenumbers": "strict",
          "coloraxis": {
           "colorbar": {
            "outlinewidth": 0,
            "ticks": ""
           }
          },
          "colorscale": {
           "diverging": [
            [
             0,
             "#8e0152"
            ],
            [
             0.1,
             "#c51b7d"
            ],
            [
             0.2,
             "#de77ae"
            ],
            [
             0.3,
             "#f1b6da"
            ],
            [
             0.4,
             "#fde0ef"
            ],
            [
             0.5,
             "#f7f7f7"
            ],
            [
             0.6,
             "#e6f5d0"
            ],
            [
             0.7,
             "#b8e186"
            ],
            [
             0.8,
             "#7fbc41"
            ],
            [
             0.9,
             "#4d9221"
            ],
            [
             1,
             "#276419"
            ]
           ],
           "sequential": [
            [
             0,
             "#0d0887"
            ],
            [
             0.1111111111111111,
             "#46039f"
            ],
            [
             0.2222222222222222,
             "#7201a8"
            ],
            [
             0.3333333333333333,
             "#9c179e"
            ],
            [
             0.4444444444444444,
             "#bd3786"
            ],
            [
             0.5555555555555556,
             "#d8576b"
            ],
            [
             0.6666666666666666,
             "#ed7953"
            ],
            [
             0.7777777777777778,
             "#fb9f3a"
            ],
            [
             0.8888888888888888,
             "#fdca26"
            ],
            [
             1,
             "#f0f921"
            ]
           ],
           "sequentialminus": [
            [
             0,
             "#0d0887"
            ],
            [
             0.1111111111111111,
             "#46039f"
            ],
            [
             0.2222222222222222,
             "#7201a8"
            ],
            [
             0.3333333333333333,
             "#9c179e"
            ],
            [
             0.4444444444444444,
             "#bd3786"
            ],
            [
             0.5555555555555556,
             "#d8576b"
            ],
            [
             0.6666666666666666,
             "#ed7953"
            ],
            [
             0.7777777777777778,
             "#fb9f3a"
            ],
            [
             0.8888888888888888,
             "#fdca26"
            ],
            [
             1,
             "#f0f921"
            ]
           ]
          },
          "colorway": [
           "#636efa",
           "#EF553B",
           "#00cc96",
           "#ab63fa",
           "#FFA15A",
           "#19d3f3",
           "#FF6692",
           "#B6E880",
           "#FF97FF",
           "#FECB52"
          ],
          "font": {
           "color": "#2a3f5f"
          },
          "geo": {
           "bgcolor": "white",
           "lakecolor": "white",
           "landcolor": "#E5ECF6",
           "showlakes": true,
           "showland": true,
           "subunitcolor": "white"
          },
          "hoverlabel": {
           "align": "left"
          },
          "hovermode": "closest",
          "mapbox": {
           "style": "light"
          },
          "paper_bgcolor": "white",
          "plot_bgcolor": "#E5ECF6",
          "polar": {
           "angularaxis": {
            "gridcolor": "white",
            "linecolor": "white",
            "ticks": ""
           },
           "bgcolor": "#E5ECF6",
           "radialaxis": {
            "gridcolor": "white",
            "linecolor": "white",
            "ticks": ""
           }
          },
          "scene": {
           "xaxis": {
            "backgroundcolor": "#E5ECF6",
            "gridcolor": "white",
            "gridwidth": 2,
            "linecolor": "white",
            "showbackground": true,
            "ticks": "",
            "zerolinecolor": "white"
           },
           "yaxis": {
            "backgroundcolor": "#E5ECF6",
            "gridcolor": "white",
            "gridwidth": 2,
            "linecolor": "white",
            "showbackground": true,
            "ticks": "",
            "zerolinecolor": "white"
           },
           "zaxis": {
            "backgroundcolor": "#E5ECF6",
            "gridcolor": "white",
            "gridwidth": 2,
            "linecolor": "white",
            "showbackground": true,
            "ticks": "",
            "zerolinecolor": "white"
           }
          },
          "shapedefaults": {
           "line": {
            "color": "#2a3f5f"
           }
          },
          "ternary": {
           "aaxis": {
            "gridcolor": "white",
            "linecolor": "white",
            "ticks": ""
           },
           "baxis": {
            "gridcolor": "white",
            "linecolor": "white",
            "ticks": ""
           },
           "bgcolor": "#E5ECF6",
           "caxis": {
            "gridcolor": "white",
            "linecolor": "white",
            "ticks": ""
           }
          },
          "title": {
           "x": 0.05
          },
          "xaxis": {
           "automargin": true,
           "gridcolor": "white",
           "linecolor": "white",
           "ticks": "",
           "title": {
            "standoff": 15
           },
           "zerolinecolor": "white",
           "zerolinewidth": 2
          },
          "yaxis": {
           "automargin": true,
           "gridcolor": "white",
           "linecolor": "white",
           "ticks": "",
           "title": {
            "standoff": 15
           },
           "zerolinecolor": "white",
           "zerolinewidth": 2
          }
         }
        }
       }
      }
     },
     "metadata": {},
     "output_type": "display_data"
    }
   ],
   "source": [
    "f1 = px.scatter(new_df, x = 'lifetime', y = 'lookup_table_lifetime', hover_data=['cluster', 'turbine_name'])\n",
    "f2 = px.line(x = [i for i in range(20,60)], y = [i for i in range(20,60)])\n",
    "f3 = go.Figure(data = f1.data + f2.data) # , xaxis_title='Years', yaxis_title='Counts')\n",
    "f3.show()"
   ]
  },
  {
   "cell_type": "code",
   "execution_count": null,
   "id": "cd7b252b",
   "metadata": {},
   "outputs": [],
   "source": []
  }
 ],
 "metadata": {
  "kernelspec": {
   "display_name": "rule_env",
   "language": "python",
   "name": "python3"
  },
  "language_info": {
   "codemirror_mode": {
    "name": "ipython",
    "version": 3
   },
   "file_extension": ".py",
   "mimetype": "text/x-python",
   "name": "python",
   "nbconvert_exporter": "python",
   "pygments_lexer": "ipython3",
   "version": "3.9.13"
  },
  "vscode": {
   "interpreter": {
    "hash": "b2f02a6bcdb6e2756dc542ffef435407996729dba8ba9bc423703bb6f0b403f7"
   }
  }
 },
 "nbformat": 4,
 "nbformat_minor": 5
}
